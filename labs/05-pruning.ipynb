{
 "metadata": {
  "language_info": {
   "codemirror_mode": {
    "name": "ipython",
    "version": 3
   },
   "file_extension": ".py",
   "mimetype": "text/x-python",
   "name": "python",
   "nbconvert_exporter": "python",
   "pygments_lexer": "ipython3",
   "version": "3.8.8"
  },
  "orig_nbformat": 2,
  "kernelspec": {
   "name": "python3",
   "display_name": "Python 3.8.8 64-bit ('pytorch': conda)",
   "metadata": {
    "interpreter": {
     "hash": "0b44c525ca95e5dbf893da2282eb3ec3f420cb9fa59d94f9af90ca833dc1a37c"
    }
   }
  }
 },
 "nbformat": 4,
 "nbformat_minor": 2,
 "cells": [
  {
   "source": [
    "# Deep Learning course - LAB 5\n",
    "\n",
    "## Pruning in Artificial Neural Networks"
   ],
   "cell_type": "markdown",
   "metadata": {}
  },
  {
   "source": [
    "### Recap from previous Labs\n",
    "\n",
    "* Essentially, we now have a bag of _tricks_ to utilize in order to ensure our Multilayer Perceptrons (MLPs) train well while preserving a good generalization\n",
    "* We know how to construct a simple MLP with a custom number of layers and neurons\n",
    "* We know how to train the MLP using popular variants of Stochastic Gradient Descent (SGD) such as SGD with momentum and Adam\n",
    "* We learned some tricks to enforce a better generalization capability of our MLP, namely Weight Decay and Dropout\n",
    "* We saw how to use proper learning rate schedules for better convergence of our network\n",
    "\n",
    "### Agenda for today\n",
    "\n",
    "* Today, we are going more into the detail of Deep Learning (DL) for a more technical lab session devoted to a more \"experimental\" branch: **network pruning**\n",
    "* We will see how to implement a specific pruning algorithm, Magnitude Pruning (MP), in an MLP"
   ],
   "cell_type": "markdown",
   "metadata": {}
  },
  {
   "source": [
    "## What is pruning?\n",
    "\n",
    "Pruning is referred to the specific act of **removing parameters from a Machine learning model**.\n",
    "\n",
    "The term originated from tree-based models that, when grown too deep, present pronounced tendencies towards overfitting, so their branches need to be cut (*pruned*) with proper criteria in order to ensure a better generalization.\n",
    "\n",
    "The main difference between pruning tree-based models and Artificial Neural Networks (ANNs) lies in the fact that, while in tree-based models we operate pruning on _leaf parameters_, in ANNs we usually prune without regard for the position of the parameter, which is a connection (_synapse_) between neurons.\n",
    "\n",
    "![](https://www.cs.cmu.edu/~bhiksha/courses/10-601/decisiontrees/DTprune.png)\n",
    "\n",
    "*In decision trees, models are pruned _downside up_ starting from the leaves. Picture from [Carnegie Mellon University](https://www.cs.cmu.edu/~bhiksha/courses/10-601/decisiontrees/).*\n",
    "\n",
    "![](https://upload.wikimedia.org/wikipedia/commons/2/23/Before_after_pruning.png)\n",
    "\n",
    "*In ANNs, generically, pruning is operated regardless of the position of the neuron/connection within the network. Picture from [Wikimedia Commons](https://commons.wikimedia.org/wiki/File:Before_after_pruning.png).*\n",
    "\n"
   ],
   "cell_type": "markdown",
   "metadata": {}
  },
  {
   "source": [
    "## Why pruning?\n",
    "\n",
    "Pruning (also called _Weight Sparsification_) is a collection of techniques falling within the category of **Network Miniaturization/Compression**, a bulk of practices aimed at reducing the size, or memory impact, or energetic impact, of a well-performing ANN, while still allowing the _reduced_ model to perform on-par with the original network.\n",
    "\n",
    "Some other examples of Network Compression include, but not limited to:\n",
    "* Knowledge Distillation\n",
    "* Weight Quantization\n",
    "* Weight Sharing"
   ],
   "cell_type": "markdown",
   "metadata": {}
  },
  {
   "source": [
    "## How to prune?\n",
    "\n",
    "Pruning in ANNs is a theme that has been around since the early works of Yann LeCun [2](http://citeseerx.ist.psu.edu/viewdoc/download?doi=10.1.1.32.7223&rep=rep1&type=pdf) in the late 80s. A huge number of techniques has been proposed since then [3](https://arxiv.org/abs/2102.00554).\n",
    "\n",
    "The findings in these early papers are essentialy different from those in the most recent ones (i.e., from 2015 on) mainly because the networks back then were not deep: large ANNs tend instead to react differently to pruning.\n",
    "\n",
    "Regarding how to prune, we can distinguish between two main categories: **Structured Pruning** and **Unstructured Pruning**.\n",
    "\n",
    "### Structured pruning\n",
    "\n",
    "To render this classification as neat as possible, structured pruning acts on multiple synapses logically connected in some way. In the case of MLPs, we may think of the act of _removing a neuron_ from a given layer as a structured pruning technique, as we **remove all the connections incoming towards that neuron**.\n",
    "\n",
    "![](img/struct_prune.png)\n",
    "\n",
    "In the image above, we prune the first neuron of the second layer. This equates to removing all of its incoming connections. The effect of this on the parameters of the ANN is that now we have a so called *regular sparsity*: the original parameters $\\Theta\\in\\mathbb{R}^{4\\times 3}$ are now $\\tilde\\theta\\in\\mathbb{R}^{4\\times 2}$.\n",
    "\n",
    "### Unstructured pruning\n",
    "\n",
    "In this case, instead, we utilize a pruning technique which has no regard for the geometry or the structure of the layers themselves.\n",
    "\n",
    "![](img/unstr_prune.png)\n",
    "\n",
    "In the image above, we removed four connections. This leads to an *irregular* form of sparsity in the parameters, which can't be taken advantage of directly, as happened instead in the structured case.\n",
    "There exist algorithms for sparse linear algebra which can be used in these cases (implemented for example in CuSPARSE) or some specific processor architectures are designed to take advantage of sparsity in matrices (e.g., NVIDIA Tesla A100 GPU).\n",
    "\n",
    "In this lab we will deal with unstructured sparsity, but an extension to structured sparsity can be easily derived."
   ],
   "cell_type": "markdown",
   "metadata": {}
  },
  {
   "source": [
    "## (Least) Magnitude pruning\n",
    "\n",
    "MP is one of the most straight-forward pruning techniques. Essentially, we remove a fixed fraction of parameters exhibiting a low absolute value.\n",
    "\n",
    "To get more technical:\n",
    "\n",
    "* Let us call $\\Theta$ the *structure* holding all of the parameters in the network.\n",
    "\n",
    "* Let us also introduce $p\\in(0,1)$, the **pruning rate**. This is the fixed fraction of parameters with small magnitude that we will prune.\n",
    "\n",
    "1. We obtain $\\vec\\Theta = \\text{vec}\\vert\\Theta\\vert$, the **empirical distribution of the parameters in magnitude**\n",
    "\n",
    "2. We sort $\\vec\\Theta$, obtaining $\\vec\\Theta_\\text{sort}$\n",
    "\n",
    "3. We obtain $\\theta_p$ the $p$-th percentile of $\\vec\\Theta_\\text{sort}$, which will act as a threshold for determining which parameters are going to be pruned.\n",
    "\n",
    "4. For each of the parameter $\\theta$ in the original $\\Theta$, we operate the pruning: $\\tilde\\theta = \\theta \\cdot \\mathbb{1}[\\vert\\theta\\vert\\geq\\theta_p]$ (NB: $\\mathbb{1}$ is the *indicator function*, which evaluates to 1 if the condition inside the brackets is verified, to 0 otherwise).\n",
    "\n",
    "5. We replace $\\Theta$ with $\\tilde\\Theta$, the structure composed of the various $\\tilde\\theta$s.\n",
    "\n",
    "#### Masking\n",
    "\n",
    "The same procedure described above can be obtained with masking. Essentially, instead of directly building $\\tilde\\Theta$ as element-wise application of $\\tilde\\theta = \\theta \\cdot \\mathbb{1}[\\vert\\theta\\vert\\geq\\theta_p]$, we rather do this:\n",
    "\n",
    "4. $m = \\mathbb{1}[\\vert\\theta\\vert\\geq\\theta_p]$. $m$ is a boolean telling us whether the corresponding parameters needs to be pruned or not. We have as many $m$s as there are $\\theta$s.\n",
    "\n",
    "5. We compose the $m$s in a structure $M$, identical in shape to $\\Theta$.\n",
    "\n",
    "6. Now, $\\tilde\\Theta = M\\odot \\Theta$, where $\\odot$ is the Hadamard product.\n",
    "\n",
    "This is the way in which pruning (analogously to Dropout) will be operated by us on PyTorch.\n",
    "\n",
    "#### Global vs Local\n",
    "\n",
    "The current version of MP operates on a global logic: we pool all of the parameters and prune w.r.t. one single threshold $\\theta_p$.\n",
    "If we wanted to complicate things just a little bit, we could instead pool parameters in different buckets and prune buckets separately (local approach):\n",
    "\n",
    "0. Divide the parameters in buckets $\\Theta_b, b\\in\\{1,...,B\\},~~\\cup_b\\Theta_b=\\Theta,~\\Theta_b\\cap\\Theta_{b^\\prime} = \\varnothing$.\n",
    "\n",
    "All the following points 1.-6. are operated separately for each bucket, so we will have a thresold for each bucket, a mask for each bucket...\n",
    "\n",
    "This strategy might be operated if we wanted to operate pruning separately for some specific layers. For example, [4](https://arxiv.org/abs/1803.03635) specifies that the reached better results when operating lower pruning rates on output layers. Nonetheless, this practice has fallen off, since in Deep ANNs, a global approach has been empirically proven more effective."
   ],
   "cell_type": "markdown",
   "metadata": {}
  },
  {
   "source": [
    "### Perchance, did we already meet magnitude pruning somewhere???\n",
    "\n",
    "Indeed, L1-norm regularization is a form of *implicit pruning* operated during the training of the network. Although in theory it seems to work, in practice it doesn't work as well as MP, and some works (see [3](https://arxiv.org/abs/2102.00554)) have shown that L1-norm regularization does not work well with normalization layers, which play a fundamental role for faster convergence of SGD."
   ],
   "cell_type": "markdown",
   "metadata": {}
  },
  {
   "cell_type": "code",
   "execution_count": 118,
   "metadata": {},
   "outputs": [],
   "source": [
    "import torch\n",
    "from scripts import mnist, train_utils, architectures, train"
   ]
  },
  {
   "source": [
    "For the point 4., we'll be using `torch.where`. Let's see first what it is and how does it work:"
   ],
   "cell_type": "markdown",
   "metadata": {}
  },
  {
   "cell_type": "code",
   "execution_count": 5,
   "metadata": {},
   "outputs": [
    {
     "output_type": "stream",
     "name": "stdout",
     "text": [
      "<class 'tuple'>\n(tensor([0, 0, 0, 0, 1, 1, 1, 1, 2, 2, 2, 2, 2, 3, 3, 3, 3, 4, 4, 4]), tensor([6, 7, 8, 9, 3, 4, 5, 6, 0, 1, 2, 4, 7, 3, 6, 7, 9, 1, 7, 9]))\n"
     ]
    }
   ],
   "source": [
    "x = torch.rand((5,10)) # random tensor\n",
    "y = torch.where(x<.5)\n",
    "print(type(y))\n",
    "print(y)"
   ]
  },
  {
   "source": [
    "It returns a tuple of length `d`, where `d` is the number of dimensions of the tensor `x`.\n",
    "\n",
    "But we can use it differently:"
   ],
   "cell_type": "markdown",
   "metadata": {}
  },
  {
   "cell_type": "code",
   "execution_count": 8,
   "metadata": {},
   "outputs": [
    {
     "output_type": "execute_result",
     "data": {
      "text/plain": [
       "tensor([[0, 0, 0, 0, 0, 0, 1, 1, 1, 1],\n",
       "        [0, 0, 0, 1, 1, 1, 1, 0, 0, 0],\n",
       "        [1, 1, 1, 0, 1, 0, 0, 1, 0, 0],\n",
       "        [0, 0, 0, 1, 0, 0, 1, 1, 0, 1],\n",
       "        [0, 1, 0, 0, 0, 0, 0, 1, 0, 1]])"
      ]
     },
     "metadata": {},
     "execution_count": 8
    }
   ],
   "source": [
    "torch.where(x<.5, 1, 0)"
   ]
  },
  {
   "source": [
    "by specifying two following arguments, we actually create a tensor with the same structure as `x`, where the element of `x` abiding to the condition in `torch.where` take on the value reported as the second argument; those who do not, assume the third argument instead. I hope it is straightforward how this method will be integrated in the pruning fct."
   ],
   "cell_type": "markdown",
   "metadata": {}
  },
  {
   "cell_type": "code",
   "execution_count": 10,
   "metadata": {},
   "outputs": [],
   "source": [
    "# First we will create the function for obaining a mask from a single tensor of parameters\n",
    "def binarize(tensor, threshold):\n",
    "    return torch.where(..., ..., ...) # fill in the blanks & be wary of the MAGNITUDE\n",
    "\n",
    "def magnitude_pruning(model, pruning_rate):\n",
    "    # 1. vectorize distribution of abs(parameter)\n",
    "    flat = ...\n",
    "    # 2. sort this distribution\n",
    "    flat = flat.sort()[0]\n",
    "    # 3. obtain the threshold\n",
    "    position = ...\n",
    "    thresh = ...\n",
    "    # 4. binarize the parameters & 5. compose these booleans into the mask\n",
    "    mask = ...\n",
    "    # 6. obtain the new structure of parameters\n",
    "    for param, m in zip(parameters, mask):\n",
    "        param.data *= m\n",
    "    # 7. what do we need to return?\n",
    "    return None"
   ]
  },
  {
   "cell_type": "code",
   "execution_count": 87,
   "metadata": {},
   "outputs": [
    {
     "output_type": "execute_result",
     "data": {
      "text/plain": [
       "(tensor([0, 0, 0, 0, 0, 0, 0, 1, 1, 1, 1, 1, 1, 1, 1, 2, 2, 2, 2, 2, 2, 2, 3, 3,\n",
       "         3, 3, 3, 3, 3, 3, 4, 4, 4, 4, 4, 4]),\n",
       " tensor([0, 1, 4, 6, 7, 8, 9, 1, 3, 4, 5, 6, 7, 8, 9, 0, 1, 2, 4, 5, 7, 9, 1, 2,\n",
       "         3, 4, 6, 7, 8, 9, 1, 3, 4, 5, 7, 9]))"
      ]
     },
     "metadata": {},
     "execution_count": 87
    }
   ],
   "source": [
    "torch.where((x<.5)|(x>.8))"
   ]
  },
  {
   "cell_type": "code",
   "execution_count": 38,
   "metadata": {},
   "outputs": [],
   "source": [
    "k = next(net.parameters())\n",
    "kk = next(net.parameters())\n",
    "w = torch.cat((k.flatten(),kk.flatten()))"
   ]
  },
  {
   "cell_type": "code",
   "execution_count": 88,
   "metadata": {},
   "outputs": [],
   "source": [
    "def magnitude_pruning(model, p):\n",
    "    flat = torch.cat([param.detach().cpu().flatten().abs() for param in model.parameters()])\n",
    "    flat = flat.sort()[0]\n",
    "    position = int(p * flat.shape[0])\n",
    "    thresh = flat[position].item()\n",
    "    mask = [torch.where(param.abs()>=thresh, 1, 0) for param in model.parameters()]\n",
    "    for param, m in zip(model.parameters(), mask):\n",
    "        param.data *= m\n",
    "    return mask"
   ]
  },
  {
   "source": [
    "Let us see our algorithm at work:"
   ],
   "cell_type": "markdown",
   "metadata": {}
  },
  {
   "cell_type": "code",
   "execution_count": 114,
   "metadata": {},
   "outputs": [
    {
     "output_type": "stream",
     "name": "stdout",
     "text": [
      "MLPCustom(\n  (layers): Sequential(\n    (0): Flatten(start_dim=1, end_dim=-1)\n    (1): Linear(in_features=784, out_features=16, bias=True)\n    (2): ReLU()\n    (3): BatchNorm1d(16, eps=1e-05, momentum=0.1, affine=True, track_running_stats=True)\n    (4): Linear(in_features=16, out_features=32, bias=True)\n    (5): ReLU()\n    (6): BatchNorm1d(32, eps=1e-05, momentum=0.1, affine=True, track_running_stats=True)\n    (7): Linear(in_features=32, out_features=64, bias=True)\n    (8): ReLU()\n    (9): BatchNorm1d(64, eps=1e-05, momentum=0.1, affine=True, track_running_stats=True)\n    (10): Linear(in_features=64, out_features=10, bias=True)\n    (11): ReLU()\n  )\n)\n"
     ]
    }
   ],
   "source": [
    "layers = [\n",
    "    {\"n_in\": 784, \"n_out\": 16, \"batchnorm\": False},\n",
    "    {\"n_out\": 32, \"batchnorm\": True},\n",
    "    {\"n_out\": 64, \"batchnorm\": True},\n",
    "    {\"n_out\": 10, \"batchnorm\": True}\n",
    "]\n",
    "net = architectures.MLPCustom(layers)\n",
    "print(net)"
   ]
  },
  {
   "cell_type": "code",
   "execution_count": 90,
   "metadata": {},
   "outputs": [],
   "source": [
    "mask = magnitude_pruning(net, .2)"
   ]
  },
  {
   "source": [
    "Did it work? Let's analyze the mask"
   ],
   "cell_type": "markdown",
   "metadata": {}
  },
  {
   "cell_type": "code",
   "execution_count": 96,
   "metadata": {},
   "outputs": [
    {
     "output_type": "stream",
     "name": "stdout",
     "text": [
      "Number of ones in mask: 0.8000079622588928 \n\ntensor([1, 1, 1, 1, 1, 1, 1, 0, 0, 0, 1, 1, 1, 1, 1, 1, 1, 1, 1, 1]) \n tensor([-0.0169, -0.0196, -0.0118,  0.0160, -0.0095, -0.0098,  0.0144, -0.0000,\n        -0.0000,  0.0000,  0.0068, -0.0124, -0.0240, -0.0187, -0.0135, -0.0140,\n        -0.0167, -0.0137,  0.0092,  0.0329], grad_fn=<SliceBackward>)\n"
     ]
    }
   ],
   "source": [
    "print(\"Number of ones in mask:\", sum([m.sum().item() for m in mask]) / sum([m.numel() for m in mask]), \"\\n\")\n",
    "print(mask[0][0,:20], \"\\n\", next(net.parameters())[0,:20])"
   ]
  },
  {
   "source": [
    "#### **Q**: What is wrong with this implementation?\n",
    "\n",
    "*Think about the type of layers we have in our MLP...*"
   ],
   "cell_type": "markdown",
   "metadata": {}
  },
  {
   "cell_type": "code",
   "execution_count": null,
   "metadata": {},
   "outputs": [],
   "source": [
    "# correct here the mistake\n",
    "def magnitude_pruning(model, pruning_rate):\n",
    "    # 1. vectorize distribution of abs(parameter)\n",
    "    flat = ...\n",
    "    # 2. sort this distribution\n",
    "    flat = flat.sort()[0]\n",
    "    # 3. obtain the threshold\n",
    "    position = ...\n",
    "    thresh = ...\n",
    "    # 4. binarize the parameters & 5. compose these booleans into the mask\n",
    "    mask = ...\n",
    "    # 6. obtain the new structure of parameters\n",
    "    for param, m in zip(parameters, mask):\n",
    "        param.data *= m\n",
    "    # 7. what do we need to return?\n",
    "    return None"
   ]
  },
  {
   "source": [
    "## When to prune?\n",
    "\n",
    "Usually, pruning is operated on a **fully trained model**.\n",
    "\n",
    "Let us see what happens when we prune a trained model."
   ],
   "cell_type": "markdown",
   "metadata": {}
  },
  {
   "cell_type": "code",
   "execution_count": 115,
   "metadata": {},
   "outputs": [],
   "source": [
    "trainloader, testloader, _, _ = mnist.get_data()\n",
    "loss_fn = torch.nn.CrossEntropyLoss()"
   ]
  },
  {
   "cell_type": "code",
   "execution_count": 126,
   "metadata": {},
   "outputs": [
    {
     "output_type": "stream",
     "name": "stdout",
     "text": [
      "TESTING - loss 7349.624454498291 - performance 0.9631333333333333\n"
     ]
    },
    {
     "output_type": "execute_result",
     "data": {
      "text/plain": [
       "(7349.624454498291, 0.9631333333333333)"
      ]
     },
     "metadata": {},
     "execution_count": 126
    }
   ],
   "source": [
    "# load pretrained model\n",
    "state_dict = torch.load(\"models_push/mlp_custom_mnist/mlp_custom_mnist.pt\")\n",
    "net.load_state_dict(state_dict)\n",
    "train.test_model(net, testloader, loss_fn=loss_fn)"
   ]
  },
  {
   "cell_type": "code",
   "execution_count": 128,
   "metadata": {},
   "outputs": [
    {
     "output_type": "stream",
     "name": "stdout",
     "text": [
      "TESTING - loss 8261.046932697296 - performance 0.9573333333333334\n"
     ]
    },
    {
     "output_type": "execute_result",
     "data": {
      "text/plain": [
       "(8261.046932697296, 0.9573333333333334)"
      ]
     },
     "metadata": {},
     "execution_count": 128
    }
   ],
   "source": [
    "train.test_model(net, testloader, loss_fn=loss_fn)"
   ]
  },
  {
   "source": [
    "We see that there's a drop in performance. This is a characteristic of pruning. Rarely a simple application of pruning leaves the performance untouched or better. Due to that, we must procede with a re-training of the ANN.\n",
    "\n",
    "## Retraining the network\n",
    "\n",
    "The retraining can be carried out in different ways:\n",
    "\n",
    "### Fine-tune (FT)\n",
    "\n",
    "This means that, after pruning, we retrain for a few epochs without touching the optimizer (i.e., we do not employ a LR schedule but leave the hyperparameters untouched w.r.t. their final configuration).\n",
    "\n",
    "### Learning Rate Rewind (LRR)\n",
    "\n",
    "After pruning, we re-train for the same number of epochs of the original training, resetting the optimizer hyperparameters as well\n",
    "\n",
    "### Weight Rewind (WR, a.k.a. _Lottery Ticket Hypothesis_)\n",
    "\n",
    "After pruning, we **reset** the surviving weights to their original configuration, then we re-train as in LRR. The idea behind the Lottery Ticket Hypothesis (LTH) is that, within a randomly initialized ANN, there lies a subnetwork (i.e., a subset of the ANN connections) who is actually responsible for the good performance of the dense ANN. It's hence assumed that this subnetwork has _won the lotter of initialization_.\n",
    "\n",
    "## Iterating the procedure\n",
    "\n",
    "Actually, all three procedures can be iterated (Iterative Magnitude Pruning, IMP). So, if we prune 25% of the ANN for each step, we can reach high pruning rates (e.g. 10 iterations of IMP $\\Rightarrow$ final sparsity of the ANN of about $0.75^{10}\\approx 0.0563$).\n",
    "\n",
    "Of course, IMP applied 10 times with a pruning rate of 0.25 yields far better result than a one-shot pruning + retraining with $p=0.95$.\n",
    "\n",
    "## Who wins and who doesn't?\n",
    "\n",
    "[5](https://arxiv.org/abs/2003.02389) does an excellent job in comparing these three paradigms, concluding that, as far as accuracy is involved, **LRR beats all of its competitors** on the long run. Despite that, a lot of recent publications still use a one-shot pruning followed by FT, this because LRR in the IMP setting can be very expensive in terms of time and energy. Moreover, we showed ([6](https://medvet.inginf.units.it/publications/2021-c-zmpa-speeding/)) that, at high pruning rates, we can \"cut the corners\" and re-train for less epochs while still getting good accuracy w.r.t. WR and LRR.\n",
    "\n",
    "## What about Weight Rewind?\n",
    "\n",
    "The LTH has sparked some debate in the ML community and has allowed for some interesting analysis, especially concerning the initial phase of training. In particular, the almost-defunct Uber AI has done some [additional research](https://eng.uber.com/deconstructing-lottery-tickets/) showing some interesting insights:\n",
    "* Random Pruning (RP) shows no benefit even after retraining. That confirms that re-training alone is not responsible for the effectiveness of the pruned network: you also need an _intelligent_ pruning algorithm;\n",
    "* Recalling the LTH, its application requires a parameters *reset* before retraining. As you can see from the image below, the sole application of the MP mask (_LT Mask_ in the picture) to a pruned and rewound network already increases the accuracy of the network by ~30%. This would seem to corroborate empirically the LTH.\n",
    "\n",
    "![](https://1fykyq3mdn5r21tpna3wkdyi-wpengine.netdna-ssl.com/wp-content/uploads/2019/05/image3-2-696x497.png)\n",
    "\n",
    "* Another heuristic is the so-called **supermask**, which keeps parameters which have mantained the sign during training and have a large final value. Parameters crossing the zero, despite large, are going to be pruned nonetheless. Of course, the supermask is more memory-intensive because we need to keep track of the evolution of the parameters in time.\n",
    "\n",
    "![](https://1fykyq3mdn5r21tpna3wkdyi-wpengine.netdna-ssl.com/wp-content/uploads/2019/05/image2-1-420x420.png)\n",
    "\n",
    "It's interesting to note how the supermask performs incredibly well after pruning and rewind (i.e., on untrained networks). The supermask is indicated as `large_final_same_sign`:\n",
    "\n",
    "![](https://1fykyq3mdn5r21tpna3wkdyi-wpengine.netdna-ssl.com/wp-content/uploads/2019/05/image1-3-685x420.png)\n",
    "\n",
    "*All images from [Uber AI](https://eng.uber.com/deconstructing-lottery-tickets/)*."
   ],
   "cell_type": "markdown",
   "metadata": {}
  },
  {
   "source": [
    "### Implementation of the retraining procedure\n",
    "\n",
    "If we retrain the network as-is, we will soon notice that we did a big mistake, because we have in no way communicated to PyTorch that the MLP does **not** have to be retrained on the pruned parameters.\n",
    "\n",
    "In order to enforce that, we must act on the training loop, namely `train_epoch`."
   ],
   "cell_type": "markdown",
   "metadata": {}
  },
  {
   "cell_type": "code",
   "execution_count": 131,
   "metadata": {},
   "outputs": [
    {
     "output_type": "execute_result",
     "data": {
      "text/plain": [
       "0.056313514709472656"
      ]
     },
     "metadata": {},
     "execution_count": 131
    }
   ],
   "source": [
    "def train_epoch(model, dataloader, loss_fn, optimizer, loss_meter, performance_meter, performance, device, mask, params_type_to_prune):\n",
    "    for X, y in dataloader:\n",
    "        X = X.to(device)\n",
    "        y = y.to(device)\n",
    "\n",
    "        optimizer.zero_grad() \n",
    "\n",
    "        y_hat = model(X)\n",
    "\n",
    "        loss = loss_fn(y_hat, y)\n",
    "\n",
    "        loss.backward()\n",
    "\n",
    "        ##### we must neutralize the gradient on the pruned params before the optimizer takes a step ####\n",
    "\n",
    "        if mask is not None:\n",
    "            for (name, param), m in zip(model.named_parameters(), mask):\n",
    "                if any([l in name for l in layers_to_prune]):\n",
    "                    param.grad *= m\n",
    "\n",
    "        ######\n",
    "\n",
    "        optimizer.step()\n",
    "\n",
    "        acc = performance(y_hat, y)\n",
    "\n",
    "        loss_meter.update(val=loss.item(), n=X.shape[0])\n",
    "        performance_meter.update(val=acc, n=X.shape[0])"
   ]
  },
  {
   "source": [
    "let us integrate it with our `train_model` routine:"
   ],
   "cell_type": "markdown",
   "metadata": {}
  },
  {
   "cell_type": "code",
   "execution_count": null,
   "metadata": {},
   "outputs": [],
   "source": [
    "def train_model(model, dataloader, loss_fn, optimizer, num_epochs, checkpoint_loc=None, checkpoint_name=\"checkpoint.pt\", performance=accuracy, lr_scheduler=None, device=None, mask=None, params_type_to_prune=[\"weight\", \"bias\"]):\n",
    "    if checkpoint_loc is not None:\n",
    "        os.makedirs(checkpoint_loc, exist_ok=True)\n",
    "\n",
    "    if device is None:\n",
    "        device = use_gpu_if_possible()\n",
    "    \n",
    "    model = model.to(device)\n",
    "    model.train()\n",
    "\n",
    "    for epoch in range(num_epochs):\n",
    "        loss_meter = AverageMeter()\n",
    "        performance_meter = AverageMeter()\n",
    "\n",
    "        print(f\"Epoch {epoch+1} --- learning rate {optimizer.param_groups[0]['lr']:.5f}\")\n",
    "\n",
    "        train_epoch(model, dataloader, loss_fn, optimizer, loss_meter, performance_meter, performance, mask, params_type_to_prune)\n",
    "\n",
    "        print(f\"Epoch {epoch+1} completed. Loss - total: {loss_meter.sum} - average: {loss_meter.avg}; Performance: {performance_meter.avg}\")\n",
    "\n",
    "        if checkpoint_name is not None and checkpoint_loc is not None:\n",
    "            checkpoint_dict = {\n",
    "                \"parameters\": model.state_dict(),\n",
    "                \"optimizer\": optimizer.state_dict(),\n",
    "                \"epoch\": epoch\n",
    "            }\n",
    "            torch.save(checkpoint_dict, os.path.join(checkpoint_loc, checkpoint_name))\n",
    "        \n",
    "        if lr_scheduler is not None:\n",
    "            lr_scheduler.step()\n",
    "\n",
    "    return loss_meter.sum, performance_meter.avg"
   ]
  },
  {
   "source": [
    "Now, we can effectively retrain the pruned ANN by simply passing the `mask` to the training routine."
   ],
   "cell_type": "markdown",
   "metadata": {}
  },
  {
   "source": [
    "#### Homework\n",
    "\n",
    "\"Close the loop\" for implementing IMP. Right now, the `magnitude_pruning` routine is thought for one-shot pruning. If you try pruning one more time, you'll notice that it will not work as there's no way to communicate to the future calls of `magnitude_pruning` to ignore the parameters which have already been pruned. Find a way to enhance the routine s.t. it can effectively prune networks in a sequential fashion (i.e., if we passed an MLP already pruned of 20% of its parameters, we want to prune *another* 20% of parameters).\n",
    "\n",
    "Hint:\n",
    "\n",
    "![](img/force.jpg)"
   ],
   "cell_type": "markdown",
   "metadata": {}
  },
  {
   "cell_type": "code",
   "execution_count": 134,
   "metadata": {},
   "outputs": [],
   "source": [
    "import numpy as np"
   ]
  },
  {
   "cell_type": "code",
   "execution_count": 137,
   "metadata": {},
   "outputs": [
    {
     "output_type": "stream",
     "name": "stdout",
     "text": [
      "[[0.94450544 0.32553718 2.90253417 4.05758069]\n [1.8441957  0.18773161 2.39469929 2.06660618]]\n"
     ]
    }
   ],
   "source": [
    "x = np.array([[1,2,3,4],[1,2,3,5]])\n",
    "y = np.random.chisquare(x)\n",
    "print(y)"
   ]
  },
  {
   "cell_type": "code",
   "execution_count": 208,
   "metadata": {},
   "outputs": [],
   "source": [
    "class SqrtActivation(torch.nn.Module):\n",
    "    def __init__(self, n_in):\n",
    "        super().__init__()\n",
    "        self.n_in = n_in\n",
    "        w = torch.rand((n_in, ))\n",
    "        self.w = torch.nn.Parameter(w)\n",
    "        torch.nn.init.uniform_(self.w, 2.0, 8.0)\n",
    "    \n",
    "    def forward(self, x):\n",
    "        s = x.sign()\n",
    "        return s * (x.abs() ** (1/self.w))\n",
    "    \n",
    "    def backward(self, grad_output):\n",
    "        "
   ]
  },
  {
   "cell_type": "code",
   "execution_count": 251,
   "metadata": {},
   "outputs": [],
   "source": [
    "class VariableSqrt(torch.autograd.Function):\n",
    "    @staticmethod\n",
    "    def forward(ctx, input_, weight):\n",
    "        sign = input_.sign()\n",
    "        output = input_.abs() ** (1/weight)\n",
    "        return sign * output\n",
    "    \n",
    "    @staticmethod\n",
    "    def backward(ctx, grad_output):\n",
    "        input_, weight = ctx.saved_tensors\n",
    "        weight_1 = 1 / weight\n",
    "        sign_input = input_.sign()\n",
    "\n",
    "        grad_input = grad_output * weight_1 * (input_.abs() ** (weight_1 - 1))\n",
    "        grad_input *= sign_input\n",
    "        grad_weight = (input_.abs() ** weight_1) * input_.abs().log() * (-1 * weight_1 * weight_1)\n",
    "        \n",
    "        return grad_input, grad_weight\n",
    "\n"
   ]
  },
  {
   "cell_type": "code",
   "execution_count": 252,
   "metadata": {},
   "outputs": [],
   "source": [
    "sq = VariableSqrt.apply"
   ]
  },
  {
   "cell_type": "code",
   "execution_count": 260,
   "metadata": {},
   "outputs": [
    {
     "output_type": "error",
     "ename": "AttributeError",
     "evalue": "'Tensor' object has no attribute 'require_grad'",
     "traceback": [
      "\u001b[1;31m---------------------------------------------------------------------------\u001b[0m",
      "\u001b[1;31mAttributeError\u001b[0m                            Traceback (most recent call last)",
      "\u001b[1;32m<ipython-input-260-b3c2c94e332d>\u001b[0m in \u001b[0;36m<module>\u001b[1;34m\u001b[0m\n\u001b[0;32m      1\u001b[0m \u001b[0mx\u001b[0m \u001b[1;33m=\u001b[0m \u001b[0mtorch\u001b[0m\u001b[1;33m.\u001b[0m\u001b[0mrand\u001b[0m\u001b[1;33m(\u001b[0m\u001b[1;33m(\u001b[0m\u001b[1;36m10\u001b[0m\u001b[1;33m,\u001b[0m\u001b[1;33m)\u001b[0m\u001b[1;33m)\u001b[0m\u001b[1;33m\u001b[0m\u001b[1;33m\u001b[0m\u001b[0m\n\u001b[1;32m----> 2\u001b[1;33m \u001b[0mx\u001b[0m \u001b[1;33m=\u001b[0m \u001b[0mx\u001b[0m\u001b[1;33m.\u001b[0m\u001b[0mrequire_grad\u001b[0m\u001b[1;33m(\u001b[0m\u001b[1;33m)\u001b[0m\u001b[1;33m\u001b[0m\u001b[1;33m\u001b[0m\u001b[0m\n\u001b[0m\u001b[0;32m      3\u001b[0m \u001b[0mw\u001b[0m \u001b[1;33m=\u001b[0m \u001b[0mtorch\u001b[0m\u001b[1;33m.\u001b[0m\u001b[0mTensor\u001b[0m\u001b[1;33m(\u001b[0m\u001b[1;33m[\u001b[0m\u001b[1;36m1\u001b[0m\u001b[1;33m,\u001b[0m\u001b[1;36m1\u001b[0m\u001b[1;33m,\u001b[0m\u001b[1;36m2\u001b[0m\u001b[1;33m,\u001b[0m\u001b[1;36m2\u001b[0m\u001b[1;33m,\u001b[0m\u001b[1;36m3\u001b[0m\u001b[1;33m,\u001b[0m\u001b[1;36m3\u001b[0m\u001b[1;33m,\u001b[0m\u001b[1;36m4\u001b[0m\u001b[1;33m,\u001b[0m\u001b[1;36m4\u001b[0m\u001b[1;33m,\u001b[0m\u001b[1;36m5\u001b[0m\u001b[1;33m,\u001b[0m\u001b[1;36m5\u001b[0m\u001b[1;33m]\u001b[0m\u001b[1;33m,\u001b[0m \u001b[0mrequire_grad\u001b[0m\u001b[1;33m=\u001b[0m\u001b[1;32mTrue\u001b[0m\u001b[1;33m)\u001b[0m\u001b[1;33m\u001b[0m\u001b[1;33m\u001b[0m\u001b[0m\n\u001b[0;32m      4\u001b[0m \u001b[0my\u001b[0m \u001b[1;33m=\u001b[0m \u001b[0msq\u001b[0m\u001b[1;33m(\u001b[0m\u001b[0mx\u001b[0m\u001b[1;33m,\u001b[0m \u001b[0mw\u001b[0m\u001b[1;33m)\u001b[0m\u001b[1;33m\u001b[0m\u001b[1;33m\u001b[0m\u001b[0m\n\u001b[0;32m      5\u001b[0m \u001b[0mz\u001b[0m \u001b[1;33m=\u001b[0m \u001b[0my\u001b[0m\u001b[1;33m.\u001b[0m\u001b[0msum\u001b[0m\u001b[1;33m(\u001b[0m\u001b[1;33m)\u001b[0m\u001b[1;33m\u001b[0m\u001b[1;33m\u001b[0m\u001b[0m\n",
      "\u001b[1;31mAttributeError\u001b[0m: 'Tensor' object has no attribute 'require_grad'"
     ]
    }
   ],
   "source": [
    "x = torch.rand((10,))\n",
    "x = x.require_grad()\n",
    "w = torch.Tensor([1,1,2,2,3,3,4,4,5,5], require_grad=True)\n",
    "y = sq(x, w)\n",
    "z = y.sum()"
   ]
  },
  {
   "cell_type": "code",
   "execution_count": 257,
   "metadata": {},
   "outputs": [
    {
     "output_type": "error",
     "ename": "RuntimeError",
     "evalue": "element 0 of tensors does not require grad and does not have a grad_fn",
     "traceback": [
      "\u001b[1;31m---------------------------------------------------------------------------\u001b[0m",
      "\u001b[1;31mRuntimeError\u001b[0m                              Traceback (most recent call last)",
      "\u001b[1;32m<ipython-input-257-40c0c9b0bbab>\u001b[0m in \u001b[0;36m<module>\u001b[1;34m\u001b[0m\n\u001b[1;32m----> 1\u001b[1;33m \u001b[0mz\u001b[0m\u001b[1;33m.\u001b[0m\u001b[0mbackward\u001b[0m\u001b[1;33m(\u001b[0m\u001b[1;33m)\u001b[0m\u001b[1;33m\u001b[0m\u001b[1;33m\u001b[0m\u001b[0m\n\u001b[0m",
      "\u001b[1;32mD:\\Anaconda\\envs\\pytorch\\lib\\site-packages\\torch\\tensor.py\u001b[0m in \u001b[0;36mbackward\u001b[1;34m(self, gradient, retain_graph, create_graph)\u001b[0m\n\u001b[0;32m    219\u001b[0m                 \u001b[0mretain_graph\u001b[0m\u001b[1;33m=\u001b[0m\u001b[0mretain_graph\u001b[0m\u001b[1;33m,\u001b[0m\u001b[1;33m\u001b[0m\u001b[1;33m\u001b[0m\u001b[0m\n\u001b[0;32m    220\u001b[0m                 create_graph=create_graph)\n\u001b[1;32m--> 221\u001b[1;33m         \u001b[0mtorch\u001b[0m\u001b[1;33m.\u001b[0m\u001b[0mautograd\u001b[0m\u001b[1;33m.\u001b[0m\u001b[0mbackward\u001b[0m\u001b[1;33m(\u001b[0m\u001b[0mself\u001b[0m\u001b[1;33m,\u001b[0m \u001b[0mgradient\u001b[0m\u001b[1;33m,\u001b[0m \u001b[0mretain_graph\u001b[0m\u001b[1;33m,\u001b[0m \u001b[0mcreate_graph\u001b[0m\u001b[1;33m)\u001b[0m\u001b[1;33m\u001b[0m\u001b[1;33m\u001b[0m\u001b[0m\n\u001b[0m\u001b[0;32m    222\u001b[0m \u001b[1;33m\u001b[0m\u001b[0m\n\u001b[0;32m    223\u001b[0m     \u001b[1;32mdef\u001b[0m \u001b[0mregister_hook\u001b[0m\u001b[1;33m(\u001b[0m\u001b[0mself\u001b[0m\u001b[1;33m,\u001b[0m \u001b[0mhook\u001b[0m\u001b[1;33m)\u001b[0m\u001b[1;33m:\u001b[0m\u001b[1;33m\u001b[0m\u001b[1;33m\u001b[0m\u001b[0m\n",
      "\u001b[1;32mD:\\Anaconda\\envs\\pytorch\\lib\\site-packages\\torch\\autograd\\__init__.py\u001b[0m in \u001b[0;36mbackward\u001b[1;34m(tensors, grad_tensors, retain_graph, create_graph, grad_variables)\u001b[0m\n\u001b[0;32m    128\u001b[0m         \u001b[0mretain_graph\u001b[0m \u001b[1;33m=\u001b[0m \u001b[0mcreate_graph\u001b[0m\u001b[1;33m\u001b[0m\u001b[1;33m\u001b[0m\u001b[0m\n\u001b[0;32m    129\u001b[0m \u001b[1;33m\u001b[0m\u001b[0m\n\u001b[1;32m--> 130\u001b[1;33m     Variable._execution_engine.run_backward(\n\u001b[0m\u001b[0;32m    131\u001b[0m         \u001b[0mtensors\u001b[0m\u001b[1;33m,\u001b[0m \u001b[0mgrad_tensors_\u001b[0m\u001b[1;33m,\u001b[0m \u001b[0mretain_graph\u001b[0m\u001b[1;33m,\u001b[0m \u001b[0mcreate_graph\u001b[0m\u001b[1;33m,\u001b[0m\u001b[1;33m\u001b[0m\u001b[1;33m\u001b[0m\u001b[0m\n\u001b[0;32m    132\u001b[0m         allow_unreachable=True)  # allow_unreachable flag\n",
      "\u001b[1;31mRuntimeError\u001b[0m: element 0 of tensors does not require grad and does not have a grad_fn"
     ]
    }
   ],
   "source": [
    "z.backward()"
   ]
  },
  {
   "cell_type": "code",
   "execution_count": 205,
   "metadata": {},
   "outputs": [],
   "source": [
    "mynet = FancyLayer(10)\n",
    "x = torch.rand((10,))\n",
    "h, s = mynet(x)\n",
    "z = h.sum()"
   ]
  },
  {
   "cell_type": "code",
   "execution_count": 206,
   "metadata": {},
   "outputs": [],
   "source": [
    "z.backward()"
   ]
  },
  {
   "cell_type": "code",
   "execution_count": 246,
   "metadata": {},
   "outputs": [],
   "source": [
    "xxx = np.linspace(0, 3, num=200)\n",
    "yyy = []\n",
    "yyy.append(xxx ** (1/2))\n",
    "yyy.append(xxx ** (1/2.5))\n",
    "yyy.append(xxx ** (1/3))\n",
    "yyy.append(xxx ** (1/4))\n",
    "yyy.append(xxx ** (1/8))\n",
    "xxxx = np.hstack((-np.flip(xxx), xxx))\n",
    "yyyy = [np.hstack((np.flip(y_), y_)) for y_ in yyy]"
   ]
  },
  {
   "cell_type": "code",
   "execution_count": 247,
   "metadata": {},
   "outputs": [],
   "source": [
    "h = np.array([1,2,3])\n"
   ]
  },
  {
   "cell_type": "code",
   "execution_count": 248,
   "metadata": {},
   "outputs": [
    {
     "output_type": "execute_result",
     "data": {
      "text/plain": [
       "[<matplotlib.lines.Line2D at 0x138c8c96dc0>]"
      ]
     },
     "metadata": {},
     "execution_count": 248
    },
    {
     "output_type": "display_data",
     "data": {
      "text/plain": "<Figure size 432x288 with 1 Axes>",
      "image/svg+xml": "<?xml version=\"1.0\" encoding=\"utf-8\" standalone=\"no\"?>\r\n<!DOCTYPE svg PUBLIC \"-//W3C//DTD SVG 1.1//EN\"\r\n  \"http://www.w3.org/Graphics/SVG/1.1/DTD/svg11.dtd\">\r\n<!-- Created with matplotlib (https://matplotlib.org/) -->\r\n<svg height=\"248.518125pt\" version=\"1.1\" viewBox=\"0 0 372.103125 248.518125\" width=\"372.103125pt\" xmlns=\"http://www.w3.org/2000/svg\" xmlns:xlink=\"http://www.w3.org/1999/xlink\">\r\n <metadata>\r\n  <rdf:RDF xmlns:cc=\"http://creativecommons.org/ns#\" xmlns:dc=\"http://purl.org/dc/elements/1.1/\" xmlns:rdf=\"http://www.w3.org/1999/02/22-rdf-syntax-ns#\">\r\n   <cc:Work>\r\n    <dc:type rdf:resource=\"http://purl.org/dc/dcmitype/StillImage\"/>\r\n    <dc:date>2021-04-01T20:07:42.730551</dc:date>\r\n    <dc:format>image/svg+xml</dc:format>\r\n    <dc:creator>\r\n     <cc:Agent>\r\n      <dc:title>Matplotlib v3.3.4, https://matplotlib.org/</dc:title>\r\n     </cc:Agent>\r\n    </dc:creator>\r\n   </cc:Work>\r\n  </rdf:RDF>\r\n </metadata>\r\n <defs>\r\n  <style type=\"text/css\">*{stroke-linecap:butt;stroke-linejoin:round;}</style>\r\n </defs>\r\n <g id=\"figure_1\">\r\n  <g id=\"patch_1\">\r\n   <path d=\"M 0 248.518125 \r\nL 372.103125 248.518125 \r\nL 372.103125 0 \r\nL 0 0 \r\nz\r\n\" style=\"fill:none;\"/>\r\n  </g>\r\n  <g id=\"axes_1\">\r\n   <g id=\"patch_2\">\r\n    <path d=\"M 30.103125 224.64 \r\nL 364.903125 224.64 \r\nL 364.903125 7.2 \r\nL 30.103125 7.2 \r\nz\r\n\" style=\"fill:#ffffff;\"/>\r\n   </g>\r\n   <g id=\"matplotlib.axis_1\">\r\n    <g id=\"xtick_1\">\r\n     <g id=\"line2d_1\">\r\n      <defs>\r\n       <path d=\"M 0 0 \r\nL 0 3.5 \r\n\" id=\"ma618e3ffdc\" style=\"stroke:#000000;stroke-width:0.8;\"/>\r\n      </defs>\r\n      <g>\r\n       <use style=\"stroke:#000000;stroke-width:0.8;\" x=\"45.321307\" xlink:href=\"#ma618e3ffdc\" y=\"224.64\"/>\r\n      </g>\r\n     </g>\r\n     <g id=\"text_1\">\r\n      <!-- −3 -->\r\n      <g transform=\"translate(37.950213 239.238437)scale(0.1 -0.1)\">\r\n       <defs>\r\n        <path d=\"M 10.59375 35.5 \r\nL 73.1875 35.5 \r\nL 73.1875 27.203125 \r\nL 10.59375 27.203125 \r\nz\r\n\" id=\"DejaVuSans-8722\"/>\r\n        <path d=\"M 40.578125 39.3125 \r\nQ 47.65625 37.796875 51.625 33 \r\nQ 55.609375 28.21875 55.609375 21.1875 \r\nQ 55.609375 10.40625 48.1875 4.484375 \r\nQ 40.765625 -1.421875 27.09375 -1.421875 \r\nQ 22.515625 -1.421875 17.65625 -0.515625 \r\nQ 12.796875 0.390625 7.625 2.203125 \r\nL 7.625 11.71875 \r\nQ 11.71875 9.328125 16.59375 8.109375 \r\nQ 21.484375 6.890625 26.8125 6.890625 \r\nQ 36.078125 6.890625 40.9375 10.546875 \r\nQ 45.796875 14.203125 45.796875 21.1875 \r\nQ 45.796875 27.640625 41.28125 31.265625 \r\nQ 36.765625 34.90625 28.71875 34.90625 \r\nL 20.21875 34.90625 \r\nL 20.21875 43.015625 \r\nL 29.109375 43.015625 \r\nQ 36.375 43.015625 40.234375 45.921875 \r\nQ 44.09375 48.828125 44.09375 54.296875 \r\nQ 44.09375 59.90625 40.109375 62.90625 \r\nQ 36.140625 65.921875 28.71875 65.921875 \r\nQ 24.65625 65.921875 20.015625 65.03125 \r\nQ 15.375 64.15625 9.8125 62.3125 \r\nL 9.8125 71.09375 \r\nQ 15.4375 72.65625 20.34375 73.4375 \r\nQ 25.25 74.21875 29.59375 74.21875 \r\nQ 40.828125 74.21875 47.359375 69.109375 \r\nQ 53.90625 64.015625 53.90625 55.328125 \r\nQ 53.90625 49.265625 50.4375 45.09375 \r\nQ 46.96875 40.921875 40.578125 39.3125 \r\nz\r\n\" id=\"DejaVuSans-51\"/>\r\n       </defs>\r\n       <use xlink:href=\"#DejaVuSans-8722\"/>\r\n       <use x=\"83.789062\" xlink:href=\"#DejaVuSans-51\"/>\r\n      </g>\r\n     </g>\r\n    </g>\r\n    <g id=\"xtick_2\">\r\n     <g id=\"line2d_2\">\r\n      <g>\r\n       <use style=\"stroke:#000000;stroke-width:0.8;\" x=\"96.04858\" xlink:href=\"#ma618e3ffdc\" y=\"224.64\"/>\r\n      </g>\r\n     </g>\r\n     <g id=\"text_2\">\r\n      <!-- −2 -->\r\n      <g transform=\"translate(88.677486 239.238437)scale(0.1 -0.1)\">\r\n       <defs>\r\n        <path d=\"M 19.1875 8.296875 \r\nL 53.609375 8.296875 \r\nL 53.609375 0 \r\nL 7.328125 0 \r\nL 7.328125 8.296875 \r\nQ 12.9375 14.109375 22.625 23.890625 \r\nQ 32.328125 33.6875 34.8125 36.53125 \r\nQ 39.546875 41.84375 41.421875 45.53125 \r\nQ 43.3125 49.21875 43.3125 52.78125 \r\nQ 43.3125 58.59375 39.234375 62.25 \r\nQ 35.15625 65.921875 28.609375 65.921875 \r\nQ 23.96875 65.921875 18.8125 64.3125 \r\nQ 13.671875 62.703125 7.8125 59.421875 \r\nL 7.8125 69.390625 \r\nQ 13.765625 71.78125 18.9375 73 \r\nQ 24.125 74.21875 28.421875 74.21875 \r\nQ 39.75 74.21875 46.484375 68.546875 \r\nQ 53.21875 62.890625 53.21875 53.421875 \r\nQ 53.21875 48.921875 51.53125 44.890625 \r\nQ 49.859375 40.875 45.40625 35.40625 \r\nQ 44.1875 33.984375 37.640625 27.21875 \r\nQ 31.109375 20.453125 19.1875 8.296875 \r\nz\r\n\" id=\"DejaVuSans-50\"/>\r\n       </defs>\r\n       <use xlink:href=\"#DejaVuSans-8722\"/>\r\n       <use x=\"83.789062\" xlink:href=\"#DejaVuSans-50\"/>\r\n      </g>\r\n     </g>\r\n    </g>\r\n    <g id=\"xtick_3\">\r\n     <g id=\"line2d_3\">\r\n      <g>\r\n       <use style=\"stroke:#000000;stroke-width:0.8;\" x=\"146.775852\" xlink:href=\"#ma618e3ffdc\" y=\"224.64\"/>\r\n      </g>\r\n     </g>\r\n     <g id=\"text_3\">\r\n      <!-- −1 -->\r\n      <g transform=\"translate(139.404759 239.238437)scale(0.1 -0.1)\">\r\n       <defs>\r\n        <path d=\"M 12.40625 8.296875 \r\nL 28.515625 8.296875 \r\nL 28.515625 63.921875 \r\nL 10.984375 60.40625 \r\nL 10.984375 69.390625 \r\nL 28.421875 72.90625 \r\nL 38.28125 72.90625 \r\nL 38.28125 8.296875 \r\nL 54.390625 8.296875 \r\nL 54.390625 0 \r\nL 12.40625 0 \r\nz\r\n\" id=\"DejaVuSans-49\"/>\r\n       </defs>\r\n       <use xlink:href=\"#DejaVuSans-8722\"/>\r\n       <use x=\"83.789062\" xlink:href=\"#DejaVuSans-49\"/>\r\n      </g>\r\n     </g>\r\n    </g>\r\n    <g id=\"xtick_4\">\r\n     <g id=\"line2d_4\">\r\n      <g>\r\n       <use style=\"stroke:#000000;stroke-width:0.8;\" x=\"197.503125\" xlink:href=\"#ma618e3ffdc\" y=\"224.64\"/>\r\n      </g>\r\n     </g>\r\n     <g id=\"text_4\">\r\n      <!-- 0 -->\r\n      <g transform=\"translate(194.321875 239.238437)scale(0.1 -0.1)\">\r\n       <defs>\r\n        <path d=\"M 31.78125 66.40625 \r\nQ 24.171875 66.40625 20.328125 58.90625 \r\nQ 16.5 51.421875 16.5 36.375 \r\nQ 16.5 21.390625 20.328125 13.890625 \r\nQ 24.171875 6.390625 31.78125 6.390625 \r\nQ 39.453125 6.390625 43.28125 13.890625 \r\nQ 47.125 21.390625 47.125 36.375 \r\nQ 47.125 51.421875 43.28125 58.90625 \r\nQ 39.453125 66.40625 31.78125 66.40625 \r\nz\r\nM 31.78125 74.21875 \r\nQ 44.046875 74.21875 50.515625 64.515625 \r\nQ 56.984375 54.828125 56.984375 36.375 \r\nQ 56.984375 17.96875 50.515625 8.265625 \r\nQ 44.046875 -1.421875 31.78125 -1.421875 \r\nQ 19.53125 -1.421875 13.0625 8.265625 \r\nQ 6.59375 17.96875 6.59375 36.375 \r\nQ 6.59375 54.828125 13.0625 64.515625 \r\nQ 19.53125 74.21875 31.78125 74.21875 \r\nz\r\n\" id=\"DejaVuSans-48\"/>\r\n       </defs>\r\n       <use xlink:href=\"#DejaVuSans-48\"/>\r\n      </g>\r\n     </g>\r\n    </g>\r\n    <g id=\"xtick_5\">\r\n     <g id=\"line2d_5\">\r\n      <g>\r\n       <use style=\"stroke:#000000;stroke-width:0.8;\" x=\"248.230398\" xlink:href=\"#ma618e3ffdc\" y=\"224.64\"/>\r\n      </g>\r\n     </g>\r\n     <g id=\"text_5\">\r\n      <!-- 1 -->\r\n      <g transform=\"translate(245.049148 239.238437)scale(0.1 -0.1)\">\r\n       <use xlink:href=\"#DejaVuSans-49\"/>\r\n      </g>\r\n     </g>\r\n    </g>\r\n    <g id=\"xtick_6\">\r\n     <g id=\"line2d_6\">\r\n      <g>\r\n       <use style=\"stroke:#000000;stroke-width:0.8;\" x=\"298.95767\" xlink:href=\"#ma618e3ffdc\" y=\"224.64\"/>\r\n      </g>\r\n     </g>\r\n     <g id=\"text_6\">\r\n      <!-- 2 -->\r\n      <g transform=\"translate(295.77642 239.238437)scale(0.1 -0.1)\">\r\n       <use xlink:href=\"#DejaVuSans-50\"/>\r\n      </g>\r\n     </g>\r\n    </g>\r\n    <g id=\"xtick_7\">\r\n     <g id=\"line2d_7\">\r\n      <g>\r\n       <use style=\"stroke:#000000;stroke-width:0.8;\" x=\"349.684943\" xlink:href=\"#ma618e3ffdc\" y=\"224.64\"/>\r\n      </g>\r\n     </g>\r\n     <g id=\"text_7\">\r\n      <!-- 3 -->\r\n      <g transform=\"translate(346.503693 239.238437)scale(0.1 -0.1)\">\r\n       <use xlink:href=\"#DejaVuSans-51\"/>\r\n      </g>\r\n     </g>\r\n    </g>\r\n   </g>\r\n   <g id=\"matplotlib.axis_2\">\r\n    <g id=\"ytick_1\">\r\n     <g id=\"line2d_8\">\r\n      <defs>\r\n       <path d=\"M 0 0 \r\nL -3.5 0 \r\n\" id=\"md01759f2ac\" style=\"stroke:#000000;stroke-width:0.8;\"/>\r\n      </defs>\r\n      <g>\r\n       <use style=\"stroke:#000000;stroke-width:0.8;\" x=\"30.103125\" xlink:href=\"#md01759f2ac\" y=\"214.756364\"/>\r\n      </g>\r\n     </g>\r\n     <g id=\"text_8\">\r\n      <!-- 0.0 -->\r\n      <g transform=\"translate(7.2 218.555582)scale(0.1 -0.1)\">\r\n       <defs>\r\n        <path d=\"M 10.6875 12.40625 \r\nL 21 12.40625 \r\nL 21 0 \r\nL 10.6875 0 \r\nz\r\n\" id=\"DejaVuSans-46\"/>\r\n       </defs>\r\n       <use xlink:href=\"#DejaVuSans-48\"/>\r\n       <use x=\"63.623047\" xlink:href=\"#DejaVuSans-46\"/>\r\n       <use x=\"95.410156\" xlink:href=\"#DejaVuSans-48\"/>\r\n      </g>\r\n     </g>\r\n    </g>\r\n    <g id=\"ytick_2\">\r\n     <g id=\"line2d_9\">\r\n      <g>\r\n       <use style=\"stroke:#000000;stroke-width:0.8;\" x=\"30.103125\" xlink:href=\"#md01759f2ac\" y=\"167.240796\"/>\r\n      </g>\r\n     </g>\r\n     <g id=\"text_9\">\r\n      <!-- 0.5 -->\r\n      <g transform=\"translate(7.2 171.040015)scale(0.1 -0.1)\">\r\n       <defs>\r\n        <path d=\"M 10.796875 72.90625 \r\nL 49.515625 72.90625 \r\nL 49.515625 64.59375 \r\nL 19.828125 64.59375 \r\nL 19.828125 46.734375 \r\nQ 21.96875 47.46875 24.109375 47.828125 \r\nQ 26.265625 48.1875 28.421875 48.1875 \r\nQ 40.625 48.1875 47.75 41.5 \r\nQ 54.890625 34.8125 54.890625 23.390625 \r\nQ 54.890625 11.625 47.5625 5.09375 \r\nQ 40.234375 -1.421875 26.90625 -1.421875 \r\nQ 22.3125 -1.421875 17.546875 -0.640625 \r\nQ 12.796875 0.140625 7.71875 1.703125 \r\nL 7.71875 11.625 \r\nQ 12.109375 9.234375 16.796875 8.0625 \r\nQ 21.484375 6.890625 26.703125 6.890625 \r\nQ 35.15625 6.890625 40.078125 11.328125 \r\nQ 45.015625 15.765625 45.015625 23.390625 \r\nQ 45.015625 31 40.078125 35.4375 \r\nQ 35.15625 39.890625 26.703125 39.890625 \r\nQ 22.75 39.890625 18.8125 39.015625 \r\nQ 14.890625 38.140625 10.796875 36.28125 \r\nz\r\n\" id=\"DejaVuSans-53\"/>\r\n       </defs>\r\n       <use xlink:href=\"#DejaVuSans-48\"/>\r\n       <use x=\"63.623047\" xlink:href=\"#DejaVuSans-46\"/>\r\n       <use x=\"95.410156\" xlink:href=\"#DejaVuSans-53\"/>\r\n      </g>\r\n     </g>\r\n    </g>\r\n    <g id=\"ytick_3\">\r\n     <g id=\"line2d_10\">\r\n      <g>\r\n       <use style=\"stroke:#000000;stroke-width:0.8;\" x=\"30.103125\" xlink:href=\"#md01759f2ac\" y=\"119.725228\"/>\r\n      </g>\r\n     </g>\r\n     <g id=\"text_10\">\r\n      <!-- 1.0 -->\r\n      <g transform=\"translate(7.2 123.524447)scale(0.1 -0.1)\">\r\n       <use xlink:href=\"#DejaVuSans-49\"/>\r\n       <use x=\"63.623047\" xlink:href=\"#DejaVuSans-46\"/>\r\n       <use x=\"95.410156\" xlink:href=\"#DejaVuSans-48\"/>\r\n      </g>\r\n     </g>\r\n    </g>\r\n    <g id=\"ytick_4\">\r\n     <g id=\"line2d_11\">\r\n      <g>\r\n       <use style=\"stroke:#000000;stroke-width:0.8;\" x=\"30.103125\" xlink:href=\"#md01759f2ac\" y=\"72.209661\"/>\r\n      </g>\r\n     </g>\r\n     <g id=\"text_11\">\r\n      <!-- 1.5 -->\r\n      <g transform=\"translate(7.2 76.008879)scale(0.1 -0.1)\">\r\n       <use xlink:href=\"#DejaVuSans-49\"/>\r\n       <use x=\"63.623047\" xlink:href=\"#DejaVuSans-46\"/>\r\n       <use x=\"95.410156\" xlink:href=\"#DejaVuSans-53\"/>\r\n      </g>\r\n     </g>\r\n    </g>\r\n    <g id=\"ytick_5\">\r\n     <g id=\"line2d_12\">\r\n      <g>\r\n       <use style=\"stroke:#000000;stroke-width:0.8;\" x=\"30.103125\" xlink:href=\"#md01759f2ac\" y=\"24.694093\"/>\r\n      </g>\r\n     </g>\r\n     <g id=\"text_12\">\r\n      <!-- 2.0 -->\r\n      <g transform=\"translate(7.2 28.493312)scale(0.1 -0.1)\">\r\n       <use xlink:href=\"#DejaVuSans-50\"/>\r\n       <use x=\"63.623047\" xlink:href=\"#DejaVuSans-46\"/>\r\n       <use x=\"95.410156\" xlink:href=\"#DejaVuSans-48\"/>\r\n      </g>\r\n     </g>\r\n    </g>\r\n   </g>\r\n   <g id=\"line2d_13\">\r\n    <path clip-path=\"url(#p1e6197eb6e)\" d=\"M 45.321307 17.083636 \r\nL 57.557031 27.826468 \r\nL 69.028022 38.186103 \r\nL 79.734281 48.13711 \r\nL 90.440539 58.39478 \r\nL 100.382065 68.230648 \r\nL 109.558858 77.612432 \r\nL 118.735651 87.326998 \r\nL 127.147712 96.569306 \r\nL 134.795039 105.296743 \r\nL 141.677634 113.460135 \r\nL 148.560229 121.967038 \r\nL 154.678091 129.870236 \r\nL 160.795953 138.160463 \r\nL 166.149082 145.801124 \r\nL 170.737479 152.704228 \r\nL 175.325875 160.015703 \r\nL 179.149539 166.50397 \r\nL 182.973203 173.462983 \r\nL 186.032134 179.48365 \r\nL 189.091065 186.072356 \r\nL 191.385263 191.559032 \r\nL 192.914728 195.607388 \r\nL 194.444194 200.142961 \r\nL 195.973659 205.550497 \r\nL 196.738392 208.957031 \r\nL 197.503125 214.756364 \r\nL 197.503125 214.756364 \r\nL 198.267858 208.957031 \r\nL 199.032591 205.550497 \r\nL 200.562056 200.142961 \r\nL 202.091522 195.607388 \r\nL 204.38572 189.664108 \r\nL 206.679918 184.35926 \r\nL 209.738849 177.932895 \r\nL 212.79778 172.026514 \r\nL 216.621444 165.172765 \r\nL 220.445108 158.76442 \r\nL 225.033504 151.527841 \r\nL 229.621901 144.684409 \r\nL 234.97503 137.100291 \r\nL 241.092892 128.862671 \r\nL 247.210754 121.002982 \r\nL 254.093349 112.537155 \r\nL 260.975944 104.408627 \r\nL 268.623271 95.714422 \r\nL 277.035331 86.503542 \r\nL 285.447392 77.612432 \r\nL 294.624185 68.230648 \r\nL 304.565711 58.39478 \r\nL 315.271969 48.13711 \r\nL 325.978228 38.186103 \r\nL 337.449219 27.826468 \r\nL 349.684943 17.083636 \r\nL 349.684943 17.083636 \r\n\" style=\"fill:none;stroke:#1f77b4;stroke-linecap:square;stroke-width:1.5;\"/>\r\n   </g>\r\n   <g id=\"line2d_14\">\r\n    <path clip-path=\"url(#p1e6197eb6e)\" d=\"M 45.321307 50.157609 \r\nL 56.792298 56.482604 \r\nL 67.498557 62.623 \r\nL 78.204815 69.021887 \r\nL 88.146341 75.226225 \r\nL 97.323134 81.208897 \r\nL 105.735194 86.938772 \r\nL 114.147255 92.937861 \r\nL 121.794582 98.660271 \r\nL 128.677177 104.063082 \r\nL 135.559772 109.743496 \r\nL 141.677634 115.064105 \r\nL 147.795496 120.685163 \r\nL 153.148625 125.894789 \r\nL 158.501755 131.429489 \r\nL 163.090151 136.484394 \r\nL 167.678548 141.889125 \r\nL 171.502211 146.720255 \r\nL 175.325875 151.921742 \r\nL 178.384806 156.415882 \r\nL 181.443737 161.286429 \r\nL 184.502668 166.64757 \r\nL 186.796866 171.098345 \r\nL 189.091065 176.057666 \r\nL 190.62053 179.752075 \r\nL 192.149996 183.885482 \r\nL 193.679461 188.665707 \r\nL 195.208927 194.546628 \r\nL 195.973659 198.255184 \r\nL 196.738392 203.088267 \r\nL 197.503125 214.756364 \r\nL 197.503125 214.756364 \r\nL 198.267858 203.088267 \r\nL 199.032591 198.255184 \r\nL 199.797323 194.546628 \r\nL 201.326789 188.665707 \r\nL 202.856254 183.885482 \r\nL 204.38572 179.752075 \r\nL 206.679918 174.336892 \r\nL 208.974116 169.566021 \r\nL 211.268315 165.252823 \r\nL 214.327246 160.028141 \r\nL 217.386177 155.260513 \r\nL 221.20984 149.791153 \r\nL 225.033504 144.747785 \r\nL 228.857168 140.044093 \r\nL 233.445564 134.763925 \r\nL 238.033961 129.81134 \r\nL 243.38709 124.375678 \r\nL 248.74022 119.248879 \r\nL 254.858082 113.707685 \r\nL 260.975944 108.454947 \r\nL 267.858538 102.839915 \r\nL 275.505866 96.914367 \r\nL 283.153194 91.272839 \r\nL 291.565254 85.350915 \r\nL 300.742047 79.185335 \r\nL 309.91884 73.288214 \r\nL 319.860366 67.165322 \r\nL 330.566624 60.843602 \r\nL 342.037616 54.346559 \r\nL 349.684943 50.157609 \r\nL 349.684943 50.157609 \r\n\" style=\"fill:none;stroke:#ff7f0e;stroke-linecap:square;stroke-width:1.5;\"/>\r\n   </g>\r\n   <g id=\"line2d_15\">\r\n    <path clip-path=\"url(#p1e6197eb6e)\" d=\"M 45.321307 67.282717 \r\nL 57.557031 72.145167 \r\nL 69.028022 76.941233 \r\nL 79.734281 81.655315 \r\nL 89.675807 86.268877 \r\nL 98.8526 90.759965 \r\nL 107.26466 95.102702 \r\nL 115.67672 99.695746 \r\nL 123.324048 104.124079 \r\nL 130.206643 108.350329 \r\nL 137.089237 112.844668 \r\nL 143.207099 117.105401 \r\nL 148.560229 121.076731 \r\nL 153.913358 125.318147 \r\nL 158.501755 129.210058 \r\nL 163.090151 133.387511 \r\nL 166.913815 137.132155 \r\nL 170.737479 141.169481 \r\nL 174.561142 145.569811 \r\nL 177.620073 149.418861 \r\nL 180.679004 153.642145 \r\nL 182.973203 157.122912 \r\nL 185.267401 160.951544 \r\nL 187.561599 165.239796 \r\nL 189.855797 170.172963 \r\nL 191.385263 173.979935 \r\nL 192.914728 178.412283 \r\nL 194.444194 183.85361 \r\nL 195.208927 187.212701 \r\nL 195.973659 191.336455 \r\nL 196.738392 197.007392 \r\nL 197.503125 214.756364 \r\nL 197.503125 214.756364 \r\nL 198.267858 197.007392 \r\nL 199.032591 191.336455 \r\nL 199.797323 187.212701 \r\nL 201.326789 180.968464 \r\nL 202.856254 176.100765 \r\nL 204.38572 172.012853 \r\nL 205.915185 168.440447 \r\nL 208.209384 163.749995 \r\nL 210.503582 159.630836 \r\nL 212.79778 155.928214 \r\nL 215.856711 151.477644 \r\nL 218.915642 147.453057 \r\nL 221.974573 143.760478 \r\nL 225.798237 139.515481 \r\nL 229.621901 135.602357 \r\nL 234.210297 131.259592 \r\nL 238.798694 127.231651 \r\nL 244.151823 122.858562 \r\nL 249.504952 118.777246 \r\nL 255.622814 114.410696 \r\nL 261.740676 110.312025 \r\nL 268.623271 105.972027 \r\nL 276.270599 101.435969 \r\nL 283.917926 97.15711 \r\nL 292.329987 92.705217 \r\nL 301.50678 88.111158 \r\nL 311.448305 83.401035 \r\nL 321.389831 78.931526 \r\nL 332.09609 74.35276 \r\nL 343.567081 69.683382 \r\nL 349.684943 67.282717 \r\nL 349.684943 67.282717 \r\n\" style=\"fill:none;stroke:#2ca02c;stroke-linecap:square;stroke-width:1.5;\"/>\r\n   </g>\r\n   <g id=\"line2d_16\">\r\n    <path clip-path=\"url(#p1e6197eb6e)\" d=\"M 45.321307 77.69775 \r\nL 58.321764 81.717322 \r\nL 70.557488 85.736076 \r\nL 82.028479 89.745537 \r\nL 92.734738 93.734965 \r\nL 102.676263 97.690788 \r\nL 111.853056 101.595917 \r\nL 120.265117 105.428943 \r\nL 127.912444 109.163207 \r\nL 134.795039 112.765815 \r\nL 140.912901 116.196699 \r\nL 147.030763 119.884677 \r\nL 152.383892 123.364827 \r\nL 157.737022 127.13236 \r\nL 162.325418 130.641143 \r\nL 166.149082 133.806412 \r\nL 169.972746 137.240699 \r\nL 173.79641 141.009672 \r\nL 176.855341 144.328708 \r\nL 179.914272 147.994069 \r\nL 182.20847 151.033007 \r\nL 184.502668 154.393252 \r\nL 186.796866 158.176141 \r\nL 189.091065 162.546462 \r\nL 190.62053 165.924555 \r\nL 192.149996 169.848611 \r\nL 193.679461 174.613165 \r\nL 194.444194 177.490719 \r\nL 195.208927 180.898278 \r\nL 195.973659 185.178602 \r\nL 196.738392 191.280478 \r\nL 197.503125 214.756364 \r\nL 197.503125 214.756364 \r\nL 198.267858 191.280478 \r\nL 199.032591 185.178602 \r\nL 199.797323 180.898278 \r\nL 200.562056 177.490719 \r\nL 202.091522 172.097849 \r\nL 203.620987 167.804593 \r\nL 205.150453 164.179102 \r\nL 206.679918 161.010003 \r\nL 208.974116 156.859852 \r\nL 211.268315 153.23214 \r\nL 213.562513 149.988176 \r\nL 216.621444 146.112459 \r\nL 219.680375 142.631007 \r\nL 222.739306 139.456656 \r\nL 226.56297 135.831015 \r\nL 230.386633 132.510993 \r\nL 234.97503 128.850923 \r\nL 239.563427 125.478688 \r\nL 244.916556 121.841355 \r\nL 250.269685 118.468473 \r\nL 256.387547 114.882415 \r\nL 263.270142 111.13369 \r\nL 270.152737 107.638185 \r\nL 277.800064 104.004321 \r\nL 286.212125 100.264496 \r\nL 295.388918 96.445316 \r\nL 305.330443 92.568422 \r\nL 316.036702 88.651295 \r\nL 327.507693 84.707982 \r\nL 339.743417 80.749732 \r\nL 349.684943 77.69775 \r\nL 349.684943 77.69775 \r\n\" style=\"fill:none;stroke:#d62728;stroke-linecap:square;stroke-width:1.5;\"/>\r\n   </g>\r\n   <g id=\"line2d_17\">\r\n    <path clip-path=\"url(#p1e6197eb6e)\" d=\"M 45.321307 89.688356 \r\nL 59.851229 92.786907 \r\nL 72.851686 95.774748 \r\nL 85.08741 98.808621 \r\nL 96.558401 101.886904 \r\nL 106.499927 104.774847 \r\nL 115.67672 107.658969 \r\nL 124.088781 110.524436 \r\nL 131.736108 113.351783 \r\nL 138.618703 116.115778 \r\nL 144.736565 118.784211 \r\nL 150.854427 121.695855 \r\nL 156.207556 124.488866 \r\nL 160.795953 127.108109 \r\nL 165.384349 129.985758 \r\nL 169.208013 132.629849 \r\nL 173.031677 135.557225 \r\nL 176.090608 138.157475 \r\nL 179.149539 141.053261 \r\nL 181.443737 143.473065 \r\nL 183.737935 146.167898 \r\nL 186.032134 149.224008 \r\nL 188.326332 152.779689 \r\nL 189.855797 155.541196 \r\nL 191.385263 158.754116 \r\nL 192.914728 162.6404 \r\nL 193.679461 164.962542 \r\nL 194.444194 167.664274 \r\nL 195.208927 170.932236 \r\nL 195.973659 175.156794 \r\nL 196.738392 181.457228 \r\nL 197.503125 214.756364 \r\nL 197.503125 214.756364 \r\nL 198.267858 181.457228 \r\nL 199.032591 175.156794 \r\nL 199.797323 170.932236 \r\nL 200.562056 167.664274 \r\nL 202.091522 162.6404 \r\nL 203.620987 158.754116 \r\nL 205.150453 155.541196 \r\nL 206.679918 152.779689 \r\nL 208.974116 149.224008 \r\nL 211.268315 146.167898 \r\nL 213.562513 143.473065 \r\nL 216.621444 140.297232 \r\nL 219.680375 137.482529 \r\nL 222.739306 134.945603 \r\nL 226.56297 132.080477 \r\nL 230.386633 129.485615 \r\nL 234.97503 126.655131 \r\nL 239.563427 124.073832 \r\nL 244.916556 121.316782 \r\nL 251.034418 118.43836 \r\nL 257.15228 115.797064 \r\nL 264.034875 113.058279 \r\nL 271.682202 110.254052 \r\nL 280.094263 107.409613 \r\nL 289.271056 104.544518 \r\nL 299.212581 101.673741 \r\nL 309.91884 98.808621 \r\nL 322.154564 95.774748 \r\nL 335.155021 92.786907 \r\nL 349.684943 89.688356 \r\nL 349.684943 89.688356 \r\n\" style=\"fill:none;stroke:#9467bd;stroke-linecap:square;stroke-width:1.5;\"/>\r\n   </g>\r\n   <g id=\"line2d_18\">\r\n    <path clip-path=\"url(#p1e6197eb6e)\" d=\"M 45.321307 105.73639 \r\nL 65.204358 107.62782 \r\nL 82.793212 109.521208 \r\nL 98.087867 111.386877 \r\nL 111.088324 113.181968 \r\nL 122.559315 114.97425 \r\nL 132.500841 116.733631 \r\nL 141.677634 118.580787 \r\nL 149.324961 120.335709 \r\nL 156.207556 122.137668 \r\nL 162.325418 123.975529 \r\nL 167.678548 125.829594 \r\nL 172.266944 127.667288 \r\nL 176.090608 129.437671 \r\nL 179.149539 131.065925 \r\nL 182.20847 132.951676 \r\nL 184.502668 134.596761 \r\nL 186.796866 136.518777 \r\nL 188.326332 138.011893 \r\nL 189.855797 139.741135 \r\nL 191.385263 141.804618 \r\nL 192.914728 144.381374 \r\nL 193.679461 145.967095 \r\nL 194.444194 147.859318 \r\nL 195.208927 150.222213 \r\nL 195.973659 153.411502 \r\nL 196.738392 158.502878 \r\nL 197.503125 214.756364 \r\nL 197.503125 214.756364 \r\nL 198.267858 158.502878 \r\nL 199.032591 153.411502 \r\nL 199.797323 150.222213 \r\nL 200.562056 147.859318 \r\nL 201.326789 145.967095 \r\nL 202.856254 143.012181 \r\nL 204.38572 140.722613 \r\nL 205.915185 138.842075 \r\nL 207.444651 137.240184 \r\nL 209.738849 135.201921 \r\nL 212.033047 133.474502 \r\nL 215.091978 131.509972 \r\nL 218.150909 129.824645 \r\nL 221.974573 128.001629 \r\nL 225.798237 126.412853 \r\nL 230.386633 124.73761 \r\nL 235.739763 123.0244 \r\nL 241.857625 121.306658 \r\nL 248.74022 119.606364 \r\nL 256.387547 117.937322 \r\nL 265.56434 116.16856 \r\nL 276.270599 114.351652 \r\nL 287.74159 112.630747 \r\nL 301.50678 110.80222 \r\nL 316.801435 109.004017 \r\nL 334.390288 107.170287 \r\nL 349.684943 105.73639 \r\nL 349.684943 105.73639 \r\n\" style=\"fill:none;stroke:#8c564b;stroke-linecap:square;stroke-width:1.5;\"/>\r\n   </g>\r\n   <g id=\"patch_3\">\r\n    <path d=\"M 30.103125 224.64 \r\nL 30.103125 7.2 \r\n\" style=\"fill:none;stroke:#000000;stroke-linecap:square;stroke-linejoin:miter;stroke-width:0.8;\"/>\r\n   </g>\r\n   <g id=\"patch_4\">\r\n    <path d=\"M 364.903125 224.64 \r\nL 364.903125 7.2 \r\n\" style=\"fill:none;stroke:#000000;stroke-linecap:square;stroke-linejoin:miter;stroke-width:0.8;\"/>\r\n   </g>\r\n   <g id=\"patch_5\">\r\n    <path d=\"M 30.103125 224.64 \r\nL 364.903125 224.64 \r\n\" style=\"fill:none;stroke:#000000;stroke-linecap:square;stroke-linejoin:miter;stroke-width:0.8;\"/>\r\n   </g>\r\n   <g id=\"patch_6\">\r\n    <path d=\"M 30.103125 7.2 \r\nL 364.903125 7.2 \r\n\" style=\"fill:none;stroke:#000000;stroke-linecap:square;stroke-linejoin:miter;stroke-width:0.8;\"/>\r\n   </g>\r\n  </g>\r\n </g>\r\n <defs>\r\n  <clipPath id=\"p1e6197eb6e\">\r\n   <rect height=\"217.44\" width=\"334.8\" x=\"30.103125\" y=\"7.2\"/>\r\n  </clipPath>\r\n </defs>\r\n</svg>\r\n",
      "image/png": "[encoded data removed]"
     },
     "metadata": {
      "needs_background": "light"
     }
    }
   ],
   "source": [
    "from matplotlib import pyplot as plt\n",
    "plt.plot(xxxx,yyyy[0])\n",
    "plt.plot(xxxx,yyyy[1])\n",
    "plt.plot(xxxx,yyyy[2])\n",
    "plt.plot(xxxx,yyyy[3])\n",
    "plt.plot(xxxx,yyyy[4])\n",
    "plt.plot(xxxx,yyyy[5])"
   ]
  },
  {
   "cell_type": "code",
   "execution_count": 222,
   "metadata": {},
   "outputs": [
    {
     "output_type": "execute_result",
     "data": {
      "text/plain": [
       "1.4142135623730951"
      ]
     },
     "metadata": {},
     "execution_count": 222
    }
   ],
   "source": [
    "2**0.5\n"
   ]
  },
  {
   "source": [
    "### References\n",
    "\n",
    "[1](https://arxiv.org/abs/2006.03669) O'Neill, James. \"An Overview of Neural Network Compression.\"\n",
    "\n",
    "[2](http://citeseerx.ist.psu.edu/viewdoc/download?doi=10.1.1.32.7223&rep=rep1&type=pdf) Yann LeCun, John Denker, Sara Solla. \"Optimal Brain Damage.\"\n",
    "\n",
    "[3](https://arxiv.org/abs/2102.00554) Hoefler, Torsten, et al. \"Sparsity in Deep Learning: Pruning and growth for efficient inference and training in neural networks.\"\n",
    "\n",
    "[4](https://arxiv.org/abs/1803.03635) Frankle, Jonathan, and Michael Carbin. \"The lottery ticket hypothesis: Finding sparse, trainable neural networks.\"\n",
    "\n",
    "[5](https://arxiv.org/abs/2003.02389) Renda, Alex, Jonathan Frankle, and Michael Carbin. \"Comparing rewinding and fine-tuning in neural network pruning.\"\n",
    "\n",
    "[6](https://medvet.inginf.units.it/publications/2021-c-zmpa-speeding/) Zullich, Marco, Eric Medvet, Felice Andrea Pellegrino, and Ansuini, Alessio. \"Speeding-up pruning for Artificial Neural Networks: Introducing Accelerated Iterative Magnitude Pruning.\""
   ],
   "cell_type": "markdown",
   "metadata": {}
  }
 ]
}