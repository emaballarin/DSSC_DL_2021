{
 "cells": [
  {
   "cell_type": "markdown",
   "metadata": {},
   "source": [
    "# Deep Learning course - LAB 5\n",
    "\n",
    "## Pruning in Artificial Neural Networks"
   ]
  },
  {
   "cell_type": "markdown",
   "metadata": {},
   "source": [
    "### Recap from previous Labs\n",
    "\n",
    "* Essentially, we now have a bag of _tricks_ to utilize in order to ensure our Multilayer Perceptrons (MLPs) train well while preserving a good generalization\n",
    "* We know how to construct a simple MLP with a custom number of layers and neurons\n",
    "* We know how to train the MLP using popular variants of Stochastic Gradient Descent (SGD) such as SGD with momentum and Adam\n",
    "* We learned some tricks to enforce a better generalization capability of our MLP, namely Weight Decay and Dropout\n",
    "* We saw how to use proper learning rate schedules for better convergence of our network\n",
    "\n",
    "### Agenda for today\n",
    "\n",
    "* Today, we are going more into the detail of Deep Learning (DL) for a more technical lab session devoted to a more \"experimental\" branch: **network pruning**\n",
    "* We will see how to implement a specific pruning algorithm, Magnitude Pruning (MP), in an MLP"
   ]
  },
  {
   "cell_type": "markdown",
   "metadata": {},
   "source": [
    "## What is pruning?\n",
    "\n",
    "Pruning is referred to the specific act of **removing parameters from a Machine learning model**.\n",
    "\n",
    "The term originated from tree-based models that, when grown too deep, present pronounced tendencies towards overfitting, so their branches need to be cut (*pruned*) with proper criteria in order to ensure a better generalization.\n",
    "\n",
    "The main difference between pruning tree-based models and Artificial Neural Networks (ANNs) lies in the fact that, while in tree-based models we operate pruning on _leaf parameters_, in ANNs we usually prune without regard for the position of the parameter, which is a connection (_synapse_) between neurons.\n",
    "\n",
    "![](https://www.cs.cmu.edu/~bhiksha/courses/10-601/decisiontrees/DTprune.png)\n",
    "\n",
    "*In decision trees, models are pruned _downside up_ starting from the leaves. Picture from [Carnegie Mellon University](https://www.cs.cmu.edu/~bhiksha/courses/10-601/decisiontrees/).*\n",
    "\n",
    "![](https://upload.wikimedia.org/wikipedia/commons/2/23/Before_after_pruning.png)\n",
    "\n",
    "*In ANNs, generically, pruning is operated regardless of the position of the neuron/connection within the network. Picture from [Wikimedia Commons](https://commons.wikimedia.org/wiki/File:Before_after_pruning.png).*\n",
    "\n"
   ]
  },
  {
   "cell_type": "markdown",
   "metadata": {},
   "source": [
    "## Why pruning?\n",
    "\n",
    "Pruning (also called _Weight Sparsification_) is a collection of techniques falling within the category of **Network Miniaturization/Compression**, a bulk of practices aimed at reducing the size, or memory impact, or energetic impact, of a well-performing ANN, while still allowing the _reduced_ model to perform on-par with the original network.\n",
    "\n",
    "Some other examples of Network Compression include, but not limited to:\n",
    "* Knowledge Distillation\n",
    "* Weight Quantization\n",
    "* Weight Sharing\n",
    "\n",
    "Also, pruning complies with Occam's Razor, which states that \"it is useless to do with more, what can be done with less\", referring to the parameters in this case."
   ]
  },
  {
   "cell_type": "markdown",
   "metadata": {},
   "source": [
    "## How to prune?\n",
    "\n",
    "Pruning in ANNs is a theme that has been around since the early works of Yann LeCun [2](http://citeseerx.ist.psu.edu/viewdoc/download?doi=10.1.1.32.7223&rep=rep1&type=pdf) in the late 80s. A huge number of techniques has been proposed since then [3](https://arxiv.org/abs/2102.00554).\n",
    "\n",
    "The findings in these early papers are essentialy different from those in the most recent ones (i.e., from 2015 on) mainly because the networks back then were not deep: large ANNs tend instead to react differently to pruning.\n",
    "\n",
    "Regarding how to prune, we can distinguish between two main categories: **Structured Pruning** and **Unstructured Pruning**.\n",
    "\n",
    "### Structured pruning\n",
    "\n",
    "To render this classification as neat as possible, structured pruning acts on multiple synapses logically connected in some way. In the case of MLPs, we may think of the act of _removing a neuron_ from a given layer as a structured pruning technique, as we **remove all the connections incoming towards that neuron**.\n",
    "\n",
    "![](img/struct_prune.png)\n",
    "\n",
    "In the image above, we prune the first neuron of the second layer. This equates to removing all of its incoming connections. The effect of this on the parameters of the ANN is that now we have a so called *regular sparsity*: the original parameters $\\Theta\\in\\mathbb{R}^{4\\times 3}$ are now $\\tilde\\theta\\in\\mathbb{R}^{4\\times 2}$.\n",
    "\n",
    "### Unstructured pruning\n",
    "\n",
    "In this case, instead, we utilize a pruning technique which has no regard for the geometry or the structure of the layers themselves.\n",
    "\n",
    "![](img/unstr_prune.png)\n",
    "\n",
    "In the image above, we removed four connections. This leads to an *irregular* form of sparsity in the parameters, which can't be taken advantage of directly, as happened instead in the structured case.\n",
    "There exist algorithms for sparse linear algebra which can be used in these cases (implemented for example in CuSPARSE) or some specific processor architectures are designed to take advantage of sparsity in matrices (e.g., NVIDIA Tesla A100 GPU).\n",
    "\n",
    "In this lab we will deal with unstructured sparsity, but an extension to structured sparsity can be easily derived."
   ]
  },
  {
   "cell_type": "markdown",
   "metadata": {},
   "source": [
    "## (Least) Magnitude pruning\n",
    "\n",
    "MP is one of the most straight-forward pruning techniques. Essentially, we remove a fixed fraction of parameters exhibiting a low absolute value.\n",
    "\n",
    "To get more technical:\n",
    "\n",
    "* Let us call $\\Theta$ the *structure* holding all of the parameters in the network.\n",
    "\n",
    "* Let us also introduce $p\\in(0,1)$, the **pruning rate**. This is the fixed fraction of parameters with small magnitude that we will prune.\n",
    "\n",
    "1. We obtain $\\vec\\Theta = \\text{vec}\\vert\\Theta\\vert$, the **empirical distribution of the parameters in magnitude**\n",
    "\n",
    "2. We sort $\\vec\\Theta$, obtaining $\\vec\\Theta_\\text{sort}$\n",
    "\n",
    "3. We obtain $\\theta_p$ the $p$-th percentile of $\\vec\\Theta_\\text{sort}$, which will act as a threshold for determining which parameters are going to be pruned.\n",
    "\n",
    "4. For each of the parameter $\\theta$ in the original $\\Theta$, we operate the pruning: $\\tilde\\theta = \\theta \\cdot \\mathbb{1}[\\vert\\theta\\vert\\geq\\theta_p]$ (NB: $\\mathbb{1}$ is the *indicator function*, which evaluates to 1 if the condition inside the brackets is verified, to 0 otherwise).\n",
    "\n",
    "5. We replace $\\Theta$ with $\\tilde\\Theta$, the structure composed of the various $\\tilde\\theta$s.\n",
    "\n",
    "#### Masking\n",
    "\n",
    "The same procedure described above can be obtained with masking. Essentially, instead of directly building $\\tilde\\Theta$ as element-wise application of $\\tilde\\theta = \\theta \\cdot \\mathbb{1}[\\vert\\theta\\vert\\geq\\theta_p]$, we rather do this:\n",
    "\n",
    "4. $m = \\mathbb{1}[\\vert\\theta\\vert\\geq\\theta_p]$. $m$ is a boolean telling us whether the corresponding parameters needs to be pruned or not. We have as many $m$s as there are $\\theta$s.\n",
    "\n",
    "5. We compose the $m$s in a structure $M$, identical in shape to $\\Theta$.\n",
    "\n",
    "6. Now, $\\tilde\\Theta = M\\odot \\Theta$, where $\\odot$ is the Hadamard product.\n",
    "\n",
    "This is the way in which pruning (analogously to Dropout) will be operated by us on PyTorch.\n",
    "\n",
    "#### Global vs Local\n",
    "\n",
    "The current version of MP operates on a global logic: we pool all of the parameters and prune w.r.t. one single threshold $\\theta_p$.\n",
    "If we wanted to complicate things just a little bit, we could instead pool parameters in different buckets and prune buckets separately (local approach):\n",
    "\n",
    "0. Divide the parameters in buckets $\\Theta_b, b\\in\\{1,...,B\\},~~\\cup_b\\Theta_b=\\Theta,~\\Theta_b\\cap\\Theta_{b^\\prime} = \\varnothing$.\n",
    "\n",
    "All the following points 1.-6. are operated separately for each bucket, so we will have a thresold for each bucket, a mask for each bucket...\n",
    "\n",
    "This strategy might be operated if we wanted to operate pruning separately for some specific layers. For example, [4](https://arxiv.org/abs/1803.03635) specifies that the reached better results when operating lower pruning rates on output layers. Nonetheless, this practice has fallen off, since in Deep ANNs, a global approach has been empirically proven more effective."
   ]
  },
  {
   "cell_type": "markdown",
   "metadata": {},
   "source": [
    "### Perchance, did we already meet magnitude pruning somewhere???\n",
    "\n",
    "Indeed, L1-norm regularization is a form of *implicit pruning* operated during the training of the network. Although in theory it seems to work, in practice it doesn't work as well as MP, and some works (see [3](https://arxiv.org/abs/2102.00554)) have shown that L1-norm regularization does not work well with normalization layers, which play a fundamental role for faster convergence of SGD."
   ]
  },
  {
   "cell_type": "code",
   "execution_count": 1,
   "metadata": {},
   "outputs": [],
   "source": [
    "# System interaction\n",
    "import os\n",
    "\n",
    "# Typing\n",
    "from torch import Tensor\n",
    "\n",
    "# Tensor computation and ANNs\n",
    "import torch        # Backward compatibility\n",
    "import torch as th  # Forward compatibility\n",
    "\n",
    "# Scripted easers\n",
    "from scripts import mnist, train_utils, architectures, train\n",
    "from scripts.torch_utils import use_gpu_if_possible\n",
    "from scripts.train_utils import accuracy, AverageMeter"
   ]
  },
  {
   "cell_type": "markdown",
   "metadata": {},
   "source": [
    "For the point 4., we'll be using `torch.where`. Let's see first what it is and how does it work:"
   ]
  },
  {
   "cell_type": "code",
   "execution_count": 2,
   "metadata": {},
   "outputs": [
    {
     "name": "stdout",
     "output_type": "stream",
     "text": [
      "<class 'tuple'>\n",
      "(tensor([0, 0, 0, 0, 0, 1, 1, 1, 2, 3, 3, 3, 3, 3, 4, 4, 4, 4, 4]), tensor([2, 4, 5, 8, 9, 0, 2, 4, 5, 0, 3, 4, 7, 9, 1, 3, 4, 8, 9]))\n"
     ]
    }
   ],
   "source": [
    "x = torch.rand((5,10)) # random tensor\n",
    "y = torch.where(x<.5)\n",
    "print(type(y))\n",
    "print(y)"
   ]
  },
  {
   "cell_type": "code",
   "execution_count": 3,
   "metadata": {},
   "outputs": [
    {
     "data": {
      "text/plain": "tensor(0.5731)"
     },
     "execution_count": 3,
     "metadata": {},
     "output_type": "execute_result"
    }
   ],
   "source": [
    "x[0,0]"
   ]
  },
  {
   "cell_type": "markdown",
   "metadata": {},
   "source": [
    "It returns a tuple of length `d`, where `d` is the number of dimensions of the tensor `x`.\n",
    "\n",
    "But we can use it differently:"
   ]
  },
  {
   "cell_type": "code",
   "execution_count": 4,
   "metadata": {},
   "outputs": [
    {
     "data": {
      "text/plain": "tensor([[0, 0, 1, 0, 1, 1, 0, 0, 1, 1],\n        [1, 0, 1, 0, 1, 0, 0, 0, 0, 0],\n        [0, 0, 0, 0, 0, 1, 0, 0, 0, 0],\n        [1, 0, 0, 1, 1, 0, 0, 1, 0, 1],\n        [0, 1, 0, 1, 1, 0, 0, 0, 1, 1]])"
     },
     "execution_count": 4,
     "metadata": {},
     "output_type": "execute_result"
    }
   ],
   "source": [
    "torch.where(x<.5, 1, 0)"
   ]
  },
  {
   "cell_type": "markdown",
   "metadata": {},
   "source": [
    "by specifying two following arguments, we actually create a tensor with the same structure as `x`, where the element of `x` abiding to the condition in `torch.where` take on the value reported as the second argument; those who do not, assume the third argument instead. I hope it is straightforward how this method will be integrated in the pruning fct."
   ]
  },
  {
   "cell_type": "code",
   "execution_count": 5,
   "metadata": {},
   "outputs": [],
   "source": [
    "def magnitude_pruning(model, pruning_rate):\n",
    "    # 1. vectorize distribution of abs(parameter)\n",
    "    '''\n",
    "    torch.cat applied to a list of vectors (i.e., tensors with single dimension) as in this case\n",
    "    returns a single long vector which is the concatenation of the vectors inside the list\n",
    "    '''\n",
    "    flat = torch.cat([pars.abs().flatten() for pars in model.parameters()], dim=0)\n",
    "    # 2. sort this distribution\n",
    "    '''\n",
    "    torch.sort returns a tuple:\n",
    "      element 0 is the sorted tensor\n",
    "      element 1 is the tensor of indices of the original tensor, i.e. it tells us how to recover the original\n",
    "                tensor from the sorted one\n",
    "    '''\n",
    "    flat = flat.sort()[0]\n",
    "    # 3. obtain the threshold\n",
    "    position = int(pruning_rate * flat.shape[0])\n",
    "    thresh = flat[position]\n",
    "    # 4. binarize the parameters & 5. compose these booleans into the mask\n",
    "    mask = [torch.where(pars.abs() >= thresh, 1, 0) for pars in model.parameters()]\n",
    "    # 6. obtain the new structure of parameters\n",
    "    for param, m in zip(model.parameters(), mask):\n",
    "        param.data *= m\n",
    "    # 7. what do we need to return?\n",
    "    '''\n",
    "    we need to return the mask because it will be needed for subsequent computations\n",
    "    '''\n",
    "    return mask"
   ]
  },
  {
   "cell_type": "markdown",
   "metadata": {},
   "source": [
    "Let us see our algorithm at work:"
   ]
  },
  {
   "cell_type": "code",
   "execution_count": 6,
   "metadata": {},
   "outputs": [
    {
     "name": "stdout",
     "output_type": "stream",
     "text": [
      "MLPCustom(\n",
      "  (layers): Sequential(\n",
      "    (0): Flatten(start_dim=1, end_dim=-1)\n",
      "    (1): Linear(in_features=784, out_features=16, bias=True)\n",
      "    (2): ReLU()\n",
      "    (3): BatchNorm1d(16, eps=1e-05, momentum=0.1, affine=True, track_running_stats=True)\n",
      "    (4): Linear(in_features=16, out_features=32, bias=True)\n",
      "    (5): ReLU()\n",
      "    (6): BatchNorm1d(32, eps=1e-05, momentum=0.1, affine=True, track_running_stats=True)\n",
      "    (7): Linear(in_features=32, out_features=64, bias=True)\n",
      "    (8): ReLU()\n",
      "    (9): BatchNorm1d(64, eps=1e-05, momentum=0.1, affine=True, track_running_stats=True)\n",
      "    (10): Linear(in_features=64, out_features=10, bias=True)\n",
      "    (11): ReLU()\n",
      "  )\n",
      ")\n"
     ]
    }
   ],
   "source": [
    "layers = [\n",
    "    {\"n_in\": 784, \"n_out\": 16, \"batchnorm\": False},\n",
    "    {\"n_out\": 32, \"batchnorm\": True},\n",
    "    {\"n_out\": 64, \"batchnorm\": True},\n",
    "    {\"n_out\": 10, \"batchnorm\": True}\n",
    "]\n",
    "# MLPCustom is a net architecture I prepared to create MLPs with less code to write than before.\n",
    "# See the implementation in the `architectures` script for further insights\n",
    "net = architectures.MLPCustom(layers)\n",
    "print(net)"
   ]
  },
  {
   "cell_type": "code",
   "execution_count": 7,
   "metadata": {},
   "outputs": [],
   "source": [
    "mask = magnitude_pruning(net, .2)"
   ]
  },
  {
   "cell_type": "markdown",
   "metadata": {},
   "source": [
    "Did it work? Let's analyze the mask"
   ]
  },
  {
   "cell_type": "code",
   "execution_count": 8,
   "metadata": {},
   "outputs": [],
   "source": [
    "def number_of_ones_in_mask(mask):\n",
    "    return sum([m.sum().item() for m in mask]) / sum([m.numel() for m in mask])"
   ]
  },
  {
   "cell_type": "code",
   "execution_count": 9,
   "metadata": {},
   "outputs": [
    {
     "name": "stdout",
     "output_type": "stream",
     "text": [
      "Number of ones in mask: 0.8 \n",
      "\n",
      "tensor([1, 1, 1, 1, 0, 0, 1, 1, 1, 0, 1, 0, 0, 0, 0, 1, 1, 1, 1, 1]) \n",
      " tensor([ 0.0322,  0.0166,  0.0138, -0.0299,  0.0000,  0.0000,  0.0103, -0.0235,\n",
      "        -0.0215,  0.0000,  0.0131, -0.0000, -0.0000, -0.0000,  0.0000, -0.0343,\n",
      "        -0.0111,  0.0186, -0.0285, -0.0191], grad_fn=<SliceBackward>)\n"
     ]
    }
   ],
   "source": [
    "print(\"Number of ones in mask:\", number_of_ones_in_mask(mask), \"\\n\")\n",
    "print(mask[0][0,:20], \"\\n\", next(net.parameters())[0,:20])"
   ]
  },
  {
   "cell_type": "markdown",
   "metadata": {},
   "source": [
    "#### **Q**: What is wrong with this implementation?\n",
    "\n",
    "*Think about the type of layers we have in our MLP...*\n",
    "\n",
    "Answer: the function prunes also the weights linked to the batchnorm. We must find a way to avoid that."
   ]
  },
  {
   "cell_type": "code",
   "execution_count": 10,
   "metadata": {},
   "outputs": [
    {
     "name": "stdout",
     "output_type": "stream",
     "text": [
      "torch.Size([16, 784])\n",
      "torch.Size([16])\n",
      "torch.Size([16])\n",
      "torch.Size([16])\n",
      "torch.Size([32, 16])\n",
      "torch.Size([32])\n",
      "torch.Size([32])\n",
      "torch.Size([32])\n",
      "torch.Size([64, 32])\n",
      "torch.Size([64])\n",
      "torch.Size([64])\n",
      "torch.Size([64])\n",
      "torch.Size([10, 64])\n",
      "torch.Size([10])\n"
     ]
    }
   ],
   "source": [
    "for p in net.parameters():\n",
    "    print(p.shape)"
   ]
  },
  {
   "cell_type": "markdown",
   "metadata": {},
   "source": [
    "We want to prune weights corresponding to the Linear layers (the only modules with learnable parameters). In the list above, the weights of the linear layers are those corresponding to layer 1 (`layers.1.weight`, `layers.1.bias`), 4, 7, and 10.\n",
    "We can enucelate them by **filtering out** parameters which don't have these numbers in their name when we're calling `net.named_parameters()`."
   ]
  },
  {
   "cell_type": "code",
   "execution_count": 29,
   "metadata": {},
   "outputs": [
    {
     "data": {
      "text/plain": "True"
     },
     "execution_count": 29,
     "metadata": {},
     "output_type": "execute_result"
    }
   ],
   "source": [
    "0.0 == -0.0"
   ]
  },
  {
   "cell_type": "code",
   "execution_count": 18,
   "metadata": {},
   "outputs": [
    {
     "data": {
      "text/plain": "[Parameter containing:\n tensor([[-0.0000, -0.0000, -0.0000,  ..., -0.0546, -0.0000, -0.0292],\n         [-0.0000, -0.0000, -0.0000,  ..., -0.0000, -0.0000, -0.0365],\n         [ 0.0000,  0.0000, -0.0000,  ..., -0.0287,  0.0285,  0.0000],\n         ...,\n         [ 0.0000, -0.0417, -0.0313,  ..., -0.0000, -0.0000, -0.0000],\n         [ 0.0433,  0.0355, -0.0000,  ..., -0.0000, -0.0000, -0.0000],\n         [ 0.0337,  0.0000,  0.0000,  ...,  0.0000, -0.0000, -0.0000]],\n        device='cuda:0', requires_grad=True),\n Parameter containing:\n tensor([ 0.0000, -0.0000,  0.0000,  0.0000,  0.0280,  0.0000,  0.0708,  0.0000,\n         -0.0000,  0.0000,  0.0276,  0.0000,  0.0286,  0.0000, -0.0285, -0.0000],\n        device='cuda:0', requires_grad=True),\n Parameter containing:\n tensor([[ 0.1285, -0.1368,  0.0000, -0.0597, -0.0712,  0.2181, -0.1600,  0.2709,\n          -0.0587, -0.0000, -0.0759, -0.1658,  0.1051, -0.1018,  0.0727,  0.1126],\n         [-0.2224,  0.0907,  0.1533, -0.1409, -0.1280, -0.2197,  0.2027,  0.0318,\n          -0.1251, -0.1159, -0.1121,  0.2209, -0.0483,  0.2041, -0.1185,  0.1020],\n         [ 0.2483, -0.1997, -0.1241, -0.0515,  0.0325,  0.1836, -0.0349,  0.1625,\n          -0.0653, -0.0781,  0.0000,  0.0000,  0.1125,  0.2648,  0.1066,  0.0451],\n         [-0.0576,  0.1051, -0.1021,  0.1667, -0.2830,  0.0747,  0.2820,  0.0516,\n           0.0410, -0.1800,  0.0986, -0.0429,  0.2376, -0.0280,  0.1553,  0.0000],\n         [ 0.0000, -0.2144, -0.0352,  0.0647,  0.0649,  0.1847, -0.2770,  0.0447,\n           0.0912,  0.0990,  0.2174, -0.0000,  0.0731, -0.0376, -0.0833, -0.2018],\n         [ 0.0662, -0.2192, -0.1999,  0.1500,  0.0600, -0.2602,  0.2033,  0.0992,\n          -0.0307, -0.0875, -0.2228,  0.0000, -0.1884,  0.1758, -0.2247, -0.0533],\n         [ 0.3607,  0.1691, -0.2086, -0.1839,  0.0803, -0.1518, -0.0501,  0.2112,\n           0.2664,  0.0000, -0.0718,  0.0997, -0.0754,  0.0000, -0.0464, -0.0399],\n         [ 0.2641,  0.0943, -0.2360,  0.2384, -0.0000, -0.1697,  0.2477,  0.0475,\n           0.0805, -0.1838,  0.0000,  0.1745,  0.0340,  0.1339,  0.1174, -0.1453],\n         [ 0.1614, -0.1455,  0.0830,  0.0000, -0.0566,  0.1403,  0.0359, -0.1296,\n           0.1859, -0.2741,  0.1087,  0.1334, -0.1548, -0.1603, -0.0624, -0.1117],\n         [-0.1007,  0.0987, -0.1659,  0.0463, -0.0000,  0.1802,  0.0367,  0.0723,\n          -0.0747,  0.2736, -0.1608,  0.1214,  0.0000, -0.0988,  0.1552, -0.3179],\n         [ 0.0911, -0.0955, -0.0000,  0.1374, -0.1111, -0.1200,  0.1373, -0.1467,\n           0.2063,  0.0748,  0.1527,  0.0000,  0.1269,  0.0510,  0.1951,  0.2122],\n         [ 0.1291,  0.0653,  0.1574, -0.0368,  0.0962,  0.2234,  0.0303,  0.2030,\n          -0.2434, -0.0926, -0.1577, -0.1354,  0.0847, -0.0000, -0.1481,  0.0000],\n         [ 0.0608,  0.0000,  0.0573,  0.1952,  0.0850, -0.1066,  0.0489, -0.0780,\n          -0.0281,  0.0000,  0.1869, -0.2333, -0.2327, -0.0278, -0.1773,  0.2091],\n         [ 0.1208, -0.1402, -0.2482, -0.2762,  0.0649, -0.1973, -0.1799,  0.1445,\n          -0.2102,  0.1752, -0.1769,  0.0633, -0.0000,  0.0279, -0.0379,  0.0870],\n         [-0.0376,  0.0352, -0.0654, -0.1047,  0.1606,  0.1900,  0.1097,  0.1982,\n          -0.0423,  0.2808, -0.2855, -0.1416,  0.0537,  0.1989, -0.0000, -0.2276],\n         [ 0.1612,  0.1467, -0.2085,  0.0000,  0.1417, -0.1818,  0.1458, -0.2096,\n           0.1660, -0.0297, -0.1920, -0.2544, -0.0590,  0.0000,  0.0000, -0.1798],\n         [ 0.1638, -0.0000, -0.1731, -0.3328,  0.1309,  0.0000, -0.0684,  0.1106,\n          -0.0299,  0.2856,  0.1585, -0.0860, -0.0867,  0.1314,  0.0000, -0.1774],\n         [ 0.1209, -0.0526, -0.0392, -0.2551, -0.1215,  0.1342, -0.1914, -0.0712,\n           0.0842, -0.0305, -0.0000,  0.1574,  0.0563,  0.1585,  0.2443, -0.0672],\n         [ 0.0000, -0.0000,  0.2031,  0.1499,  0.2279,  0.1254, -0.0729,  0.1827,\n          -0.0372, -0.0000,  0.1962,  0.1815, -0.0640, -0.1895, -0.0552, -0.1934],\n         [-0.1796, -0.2190,  0.1382, -0.0366, -0.1118, -0.0651,  0.0806, -0.2575,\n           0.1825,  0.1005, -0.1259, -0.0637,  0.1991,  0.2296, -0.1882,  0.0359],\n         [ 0.1347,  0.0498, -0.2273, -0.2244,  0.1984, -0.0617,  0.0535, -0.1670,\n           0.1268, -0.0472, -0.1314,  0.1214,  0.1522, -0.1730,  0.1147,  0.0932],\n         [-0.0801, -0.2824,  0.1002,  0.1255,  0.1041, -0.2608,  0.0000, -0.1584,\n           0.0000, -0.0725,  0.1516, -0.0407,  0.1581,  0.0535,  0.1648, -0.3193],\n         [ 0.1657, -0.2884, -0.0000, -0.2746, -0.0000, -0.1510, -0.0483, -0.0890,\n          -0.1569,  0.0364, -0.0602,  0.0000,  0.0743, -0.2280,  0.0943,  0.0000],\n         [ 0.0000, -0.0955,  0.0929,  0.0977,  0.2099,  0.0674, -0.0791,  0.2360,\n          -0.3337, -0.1373,  0.0541,  0.1260,  0.0287, -0.0300,  0.0000,  0.0871],\n         [ 0.0953,  0.0000, -0.0428, -0.0725, -0.2111,  0.2263,  0.1756, -0.0470,\n          -0.0000, -0.3134, -0.1964, -0.1039, -0.1433,  0.0881,  0.1406, -0.1107],\n         [-0.1720, -0.1775,  0.1102,  0.0957,  0.1582, -0.1007,  0.1592, -0.1196,\n          -0.0507, -0.1852, -0.0603, -0.2808,  0.1837,  0.0000,  0.0856,  0.0000],\n         [ 0.2788, -0.1428, -0.2836,  0.0000, -0.1495,  0.0844, -0.0000, -0.0000,\n           0.0874,  0.1278,  0.0387, -0.2674, -0.0487, -0.1552,  0.0877, -0.0729],\n         [-0.0790, -0.0000, -0.1603,  0.1919,  0.2650, -0.0000, -0.0797,  0.1644,\n          -0.2386, -0.0000, -0.1583,  0.0371, -0.1398,  0.0889,  0.1329,  0.2859],\n         [-0.2143,  0.1887, -0.0000, -0.2938,  0.1300, -0.0525,  0.0557,  0.1008,\n          -0.2122, -0.0388, -0.0817, -0.3053, -0.4376,  0.0546,  0.1950,  0.0873],\n         [-0.0887, -0.0306, -0.2368, -0.0858, -0.0540, -0.1004,  0.1826,  0.0434,\n           0.2491,  0.0354,  0.2008,  0.1545, -0.2671, -0.1325,  0.2974, -0.1210],\n         [ 0.1621, -0.0573, -0.1185, -0.1539,  0.2979,  0.1809, -0.0464, -0.1473,\n           0.1484,  0.1298, -0.1541, -0.1231,  0.0914,  0.0397, -0.1122, -0.0446],\n         [-0.0000, -0.0609,  0.0943,  0.0000,  0.0364,  0.0903,  0.1634, -0.0582,\n          -0.1364,  0.2457, -0.0584,  0.2259,  0.1484, -0.2060, -0.2535,  0.0802]],\n        device='cuda:0', requires_grad=True),\n Parameter containing:\n tensor([ 0.1742,  0.2181, -0.0000, -0.0000,  0.0000, -0.0643,  0.0843,  0.1799,\n          0.0933, -0.1690, -0.1771,  0.1356,  0.1101,  0.1087, -0.0000, -0.0510,\n          0.0000,  0.3235,  0.3015,  0.0810,  0.1730,  0.0683,  0.2179,  0.1357,\n         -0.0000, -0.0554,  0.0972,  0.0000,  0.0000, -0.1028,  0.1568, -0.0000],\n        device='cuda:0', requires_grad=True),\n Parameter containing:\n tensor([[-0.1618, -0.1110,  0.0617,  ..., -0.1386,  0.1271,  0.0564],\n         [-0.1017, -0.0000, -0.1530,  ..., -0.1172,  0.1009,  0.0000],\n         [-0.1673, -0.1285, -0.0000,  ..., -0.0323,  0.1073, -0.0441],\n         ...,\n         [ 0.1375,  0.1430,  0.1328,  ..., -0.1949,  0.1337, -0.0000],\n         [-0.0535, -0.0448,  0.1463,  ..., -0.0000,  0.0724,  0.1113],\n         [ 0.1359,  0.1066, -0.0342,  ..., -0.1015, -0.1135, -0.0808]],\n        device='cuda:0', requires_grad=True),\n Parameter containing:\n tensor([-0.0691, -0.1556,  0.1276,  0.1661, -0.0652, -0.0000,  0.2686,  0.0762,\n          0.2465,  0.2175,  0.0932,  0.0000,  0.0901,  0.0369, -0.0770, -0.0532,\n          0.1646,  0.1396,  0.0553,  0.1077, -0.2312, -0.1174,  0.1627, -0.1316,\n          0.0000,  0.2513,  0.0375,  0.2104, -0.1446,  0.1147,  0.0499,  0.0530,\n         -0.0566, -0.0289,  0.1022, -0.1683,  0.0000,  0.0475,  0.2472,  0.0789,\n         -0.0000,  0.1327,  0.0376, -0.0000,  0.0000,  0.1234, -0.0856,  0.2773,\n         -0.2060,  0.1183,  0.1374, -0.1317, -0.0926, -0.1366,  0.1968,  0.0733,\n          0.0691,  0.1504, -0.1200,  0.0956,  0.0389, -0.0613, -0.0000, -0.1263],\n        device='cuda:0', requires_grad=True),\n Parameter containing:\n tensor([[ 0.2064, -0.0785, -0.0000, -0.2518, -0.0957, -0.0000, -0.1055, -0.2287,\n           0.1345,  0.0589,  0.2431,  0.2857, -0.1793, -0.1167, -0.1281, -0.2085,\n          -0.1525, -0.0000,  0.1975,  0.0995, -0.2225, -0.1031,  0.0000, -0.0528,\n           0.1735,  0.2252,  0.1852, -0.2301, -0.0868,  0.0000, -0.0733, -0.0574,\n          -0.1833,  0.2289,  0.1183, -0.0399, -0.0761, -0.1270,  0.2171,  0.1849,\n          -0.0541, -0.0000, -0.1438,  0.1415, -0.1199,  0.0541,  0.0496, -0.2518,\n           0.2009,  0.1055,  0.1088, -0.0838, -0.0568, -0.1443, -0.2008,  0.1785,\n           0.0631, -0.0893,  0.1640, -0.1460,  0.2132,  0.0561,  0.0537, -0.1191],\n         [-0.0000, -0.2652,  0.0797, -0.1825, -0.1402,  0.2614,  0.2160, -0.2857,\n          -0.2032,  0.0916,  0.0000,  0.2190,  0.0597, -0.1347,  0.1876,  0.1055,\n           0.0000, -0.2055, -0.1962,  0.0468, -0.1647,  0.1038,  0.1558, -0.1516,\n           0.0806, -0.2108, -0.1180, -0.2095,  0.0300, -0.1752,  0.2087,  0.1681,\n           0.2152, -0.1362, -0.0000, -0.2841,  0.0463,  0.2160,  0.0000,  0.3042,\n          -0.1761,  0.0934, -0.0825, -0.1690,  0.2713,  0.0000, -0.0000, -0.0000,\n          -0.1340,  0.1427, -0.0000,  0.3064, -0.0000, -0.1519, -0.2610, -0.1521,\n           0.1236,  0.1993, -0.1698, -0.1627, -0.1332, -0.1743, -0.2023, -0.1698],\n         [ 0.0422, -0.0000, -0.1697, -0.2667, -0.0000, -0.1285,  0.1366, -0.1387,\n          -0.0000, -0.1155, -0.2181,  0.0334, -0.2072, -0.1394,  0.0000,  0.0935,\n          -0.2559,  0.1247,  0.1083, -0.1966, -0.2301,  0.0862,  0.2138, -0.1541,\n          -0.0344,  0.0679, -0.0341, -0.0349, -0.0000, -0.2714, -0.1651, -0.2067,\n          -0.0396,  0.1959,  0.1524,  0.1903, -0.1286,  0.2000,  0.1381, -0.1993,\n          -0.0511, -0.2896, -0.2480, -0.1516, -0.2781, -0.1863, -0.2351,  0.1883,\n          -0.0000,  0.0722, -0.1240, -0.0000, -0.0505,  0.2111, -0.0318, -0.1873,\n           0.0809,  0.2040,  0.1244,  0.2031, -0.1030, -0.1660,  0.2297, -0.2234],\n         [-0.1463,  0.0683,  0.1092,  0.1160,  0.2156, -0.0456,  0.2328,  0.2606,\n           0.1972,  0.1819, -0.1634, -0.1868, -0.0815, -0.1946, -0.1988, -0.2019,\n          -0.1224, -0.0930, -0.0649, -0.2198, -0.2375, -0.1681,  0.0738,  0.1206,\n          -0.1971, -0.2300, -0.2407,  0.2512,  0.1834,  0.1723,  0.1482,  0.1542,\n          -0.2669, -0.1028, -0.1837,  0.0715, -0.1774,  0.0000,  0.0571, -0.2120,\n          -0.2590, -0.0962,  0.1609, -0.0335,  0.0826, -0.2865, -0.1724,  0.1394,\n          -0.0726, -0.1757, -0.2105, -0.1704, -0.2353, -0.1181, -0.0729, -0.1485,\n           0.1466, -0.0532, -0.1542,  0.2282,  0.2008, -0.1331, -0.0000, -0.2644],\n         [-0.0000, -0.1770, -0.0928, -0.0308, -0.2538, -0.1348, -0.0438, -0.1976,\n          -0.2368, -0.1600,  0.2112, -0.1050,  0.2373,  0.1674, -0.2307, -0.1987,\n           0.1299,  0.3129,  0.0000, -0.2493, -0.1417, -0.1635, -0.1869, -0.2185,\n          -0.2106, -0.1412, -0.1549, -0.0420, -0.0000, -0.1877, -0.0582, -0.0000,\n          -0.1138, -0.1783, -0.2322,  0.0000,  0.2212, -0.1677, -0.0972, -0.0997,\n          -0.1202, -0.0786,  0.1039,  0.2608, -0.1902, -0.0000, -0.2331, -0.1817,\n          -0.1981, -0.0539, -0.2548, -0.1252,  0.2018, -0.2168,  0.0000, -0.0974,\n          -0.1174,  0.1501,  0.0000, -0.0879, -0.2393, -0.1211, -0.1727,  0.0676],\n         [-0.2431,  0.1152, -0.1142,  0.2222, -0.0000, -0.1564, -0.2781,  0.0488,\n           0.0874,  0.1663, -0.1477, -0.2494,  0.2043, -0.2141, -0.1429, -0.1186,\n           0.2545, -0.0357,  0.0765, -0.0395, -0.0385,  0.1901, -0.0000,  0.2618,\n           0.1948, -0.0451,  0.0000,  0.1823,  0.1919, -0.1532, -0.0688,  0.2007,\n          -0.1316,  0.0000,  0.1954, -0.1824, -0.0000, -0.1378, -0.0457, -0.0887,\n           0.2189,  0.0275, -0.2823,  0.2399,  0.1550,  0.2344,  0.2276,  0.0598,\n           0.0459, -0.0777,  0.1203,  0.0531,  0.0783, -0.2385, -0.1633, -0.1458,\n           0.2586, -0.2311, -0.1207,  0.1701, -0.0322, -0.1016, -0.1832, -0.2717],\n         [-0.0289, -0.0000, -0.1476,  0.0471,  0.2220, -0.1829, -0.2075, -0.0749,\n          -0.1369, -0.1810,  0.0000, -0.0344, -0.2261, -0.1835, -0.1685,  0.0700,\n           0.2473, -0.1265,  0.1761, -0.2421,  0.1940,  0.0961, -0.0000, -0.1118,\n           0.1763,  0.2308,  0.0901, -0.1945, -0.1202, -0.0858, -0.0708, -0.0626,\n           0.1674, -0.1974,  0.0482, -0.0800,  0.1591, -0.2400, -0.1609,  0.0880,\n           0.1046,  0.2282, -0.1182, -0.1128, -0.1055, -0.1178, -0.0313, -0.1968,\n          -0.0904, -0.1578,  0.2635,  0.0000, -0.0000, -0.0332, -0.2190,  0.0000,\n          -0.0739,  0.0862,  0.1643, -0.0000, -0.1591,  0.2752,  0.0448,  0.1353],\n         [-0.1652, -0.2246, -0.1846, -0.2091, -0.0473,  0.0579, -0.0818,  0.0000,\n           0.2534, -0.0573, -0.2569,  0.2013,  0.2225,  0.0000,  0.2374,  0.0560,\n          -0.2571,  0.2149, -0.3044,  0.1366, -0.0000, -0.0000,  0.0000, -0.1678,\n          -0.1984, -0.2512, -0.2486, -0.1310,  0.0000,  0.2447,  0.1240, -0.1768,\n          -0.1243, -0.1479, -0.1266, -0.1580, -0.1973,  0.2688, -0.1901,  0.0459,\n           0.1599,  0.1424, -0.1631, -0.0570, -0.2521, -0.1269,  0.2165, -0.1514,\n          -0.0818,  0.2265, -0.0725, -0.1919, -0.0913,  0.0500,  0.2250,  0.1973,\n          -0.0474, -0.1829, -0.1090,  0.1414, -0.1228, -0.1137,  0.2182, -0.1034],\n         [-0.0000,  0.0723,  0.2000, -0.0000, -0.1766,  0.1773,  0.0968,  0.0448,\n           0.2040,  0.2188, -0.1354, -0.1481, -0.1604, -0.1611, -0.1555, -0.2280,\n           0.0704, -0.0861, -0.2937, -0.2176,  0.0575,  0.0317,  0.0767, -0.1349,\n           0.1204,  0.0591,  0.1536,  0.0000, -0.0306, -0.2456,  0.1374, -0.2490,\n           0.2845, -0.3050,  0.2316, -0.1370, -0.2390,  0.0000,  0.0000, -0.2437,\n          -0.0934, -0.2498,  0.2432,  0.0985,  0.0462,  0.2220, -0.0424,  0.0618,\n           0.0684, -0.1132, -0.1255, -0.0000,  0.1482,  0.1234,  0.2018, -0.0551,\n          -0.1995, -0.1949, -0.1256, -0.2917,  0.0472, -0.0000, -0.0000, -0.1682],\n         [-0.0651,  0.1598,  0.0776, -0.0629, -0.1484,  0.2108,  0.1111,  0.1024,\n          -0.0805, -0.1783,  0.1525, -0.1260, -0.1024,  0.2281,  0.0806, -0.1334,\n           0.1346,  0.0745, -0.1962,  0.1876, -0.1437, -0.0000, -0.1902,  0.0575,\n          -0.2564, -0.1866,  0.1760,  0.1804,  0.2147,  0.0386, -0.1280,  0.2776,\n          -0.2072, -0.0720, -0.0380, -0.1331,  0.1644, -0.1583, -0.1773, -0.1480,\n           0.2334,  0.1617,  0.1638, -0.0780,  0.1741, -0.1221,  0.2156, -0.0926,\n          -0.1257,  0.2136, -0.0000, -0.0836, -0.1062, -0.0603,  0.2467,  0.1703,\n          -0.1704, -0.2751, -0.1204, -0.2751,  0.0000, -0.1723, -0.2795,  0.2377]],\n        device='cuda:0', requires_grad=True),\n Parameter containing:\n tensor([0.0907, 0.1241, 0.1749, 0.1116, 0.0000, 0.1121, 0.1352, 0.1179, 0.0839,\n         0.0696], device='cuda:0', requires_grad=True)]"
     },
     "execution_count": 18,
     "metadata": {},
     "output_type": "execute_result"
    }
   ],
   "source": [
    "[pars[1] for pars in net.named_parameters() if any([l in pars[0] for l in [\"1\", \"4\", \"7\", \"10\"]])]"
   ]
  },
  {
   "cell_type": "code",
   "execution_count": 11,
   "metadata": {},
   "outputs": [],
   "source": [
    "def magnitude_pruning(model, pruning_rate, layers_to_prune=[\"1\", \"4\", \"7\", \"10\"]):\n",
    "    # 1. vectorize distribution of abs(parameter)\n",
    "    '''\n",
    "    model.named_parameters returns a tuple:\n",
    "      element 0 is the name of the parameter\n",
    "      element 1 is the parameter itself\n",
    "    any(<list of booleans>)\n",
    "    checks whether any of the conditions inside the list is True.\n",
    "    [l in pars[0] for l in layers_to_prune] checks whether \"1\", \"4\", \"7\", and \"10\" are inside the parameter name\n",
    "    hence, there will be up to 1 True in the corresponding list: in that case, any(...) returns True\n",
    "    '''\n",
    "    params_to_prune = [pars[1] for pars in model.named_parameters() if any([l in pars[0] for l in layers_to_prune])]\n",
    "    flat = torch.cat([pars.abs().flatten() for pars in params_to_prune], dim=0)\n",
    "\n",
    "    # 2. sort this distribution\n",
    "    flat = flat.sort()[0]\n",
    "\n",
    "    # 3. obtain the threshold\n",
    "    position = int(pruning_rate * flat.shape[0])\n",
    "    thresh = flat[position]\n",
    "\n",
    "    # 4. binarize the parameters & 5. compose these booleans into the mask\n",
    "    # 6. obtain the new structure of parameters\n",
    "    '''\n",
    "    I do this process with a for cycle instead of a list comprehension for clarity\n",
    "    * if the layer is a layer to prune → populate the mask with 1s and 0s\n",
    "    * otherwise → just populate the mask with ones\n",
    "    By doing so, I can immediately apply the mask to the model as well...\n",
    "    '''\n",
    "    mask = []\n",
    "    for pars in model.named_parameters():\n",
    "        if any([l in pars[0] for l in layers_to_prune]):\n",
    "            m = torch.where(pars[1].abs() >= thresh, 1, 0)\n",
    "            mask.append(m)\n",
    "            pars[1].data *= m\n",
    "        else:\n",
    "            mask.append(torch.ones_like(pars[1]))\n",
    "            # no need to multiply as it's all 1s\n",
    "\n",
    "    # 7. what do we need to return?\n",
    "    return mask"
   ]
  },
  {
   "cell_type": "markdown",
   "metadata": {},
   "source": [
    "## When to prune?\n",
    "\n",
    "Usually, pruning is operated on a **fully trained model**.\n",
    "\n",
    "Let us see what happens when we prune a trained model."
   ]
  },
  {
   "cell_type": "code",
   "execution_count": 12,
   "metadata": {},
   "outputs": [],
   "source": [
    "trainloader, testloader, _, _ = mnist.get_data()\n",
    "loss_fn = torch.nn.CrossEntropyLoss()"
   ]
  },
  {
   "cell_type": "code",
   "execution_count": 13,
   "metadata": {},
   "outputs": [
    {
     "name": "stdout",
     "output_type": "stream",
     "text": [
      "TESTING - loss 7349.624645233154 - performance 0.9631333333333333\n"
     ]
    },
    {
     "data": {
      "text/plain": "(7349.624645233154, 0.9631333333333333)"
     },
     "execution_count": 13,
     "metadata": {},
     "output_type": "execute_result"
    }
   ],
   "source": [
    "# load pretrained model\n",
    "state_dict = torch.load(\"models_push/mlp_custom_mnist/mlp_custom_mnist.pt\")\n",
    "net.load_state_dict(state_dict)\n",
    "train.test_model(net, testloader, loss_fn=loss_fn)"
   ]
  },
  {
   "cell_type": "code",
   "execution_count": 14,
   "metadata": {},
   "outputs": [
    {
     "data": {
      "text/plain": "0.5069608452454941"
     },
     "execution_count": 14,
     "metadata": {},
     "output_type": "execute_result"
    }
   ],
   "source": [
    "mask = magnitude_pruning(net, pruning_rate=0.5)\n",
    "number_of_ones_in_mask(mask)"
   ]
  },
  {
   "cell_type": "markdown",
   "metadata": {},
   "source": [
    "Note: we now expect the number of 1s in the mask to be >= 50% since we have also a small chunk of parameters which never gets pruned (batchnorm). The pruning is applied only to Linear layers."
   ]
  },
  {
   "cell_type": "code",
   "execution_count": 15,
   "metadata": {},
   "outputs": [
    {
     "name": "stdout",
     "output_type": "stream",
     "text": [
      "TESTING - loss 9346.077413082123 - performance 0.9520333333333333\n"
     ]
    },
    {
     "data": {
      "text/plain": "(9346.077413082123, 0.9520333333333333)"
     },
     "execution_count": 15,
     "metadata": {},
     "output_type": "execute_result"
    }
   ],
   "source": [
    "train.test_model(net, testloader, loss_fn=loss_fn)"
   ]
  },
  {
   "cell_type": "markdown",
   "metadata": {},
   "source": [
    "We see that there's a drop in performance. This is a characteristic of pruning. Rarely a simple application of pruning leaves the performance untouched or better. Due to that, we must procede with a re-training of the ANN.\n",
    "\n",
    "## Retraining the network\n",
    "\n",
    "The retraining can be carried out in different ways:\n",
    "\n",
    "### Fine-tune (FT)\n",
    "\n",
    "This means that, after pruning, we retrain for a few epochs without touching the optimizer (i.e., we do not employ a LR schedule but leave the hyperparameters untouched w.r.t. their final configuration).\n",
    "\n",
    "### Learning Rate Rewind (LRR)\n",
    "\n",
    "After pruning, we re-train for the same number of epochs of the original training, resetting the optimizer hyperparameters as well\n",
    "\n",
    "### Weight Rewind (WR, a.k.a. _Lottery Ticket Hypothesis_)\n",
    "\n",
    "After pruning, we **reset** the surviving weights to their original configuration, then we re-train as in LRR. The idea behind the Lottery Ticket Hypothesis (LTH) is that, within a randomly initialized ANN, there lies a subnetwork (i.e., a subset of the ANN connections) who is actually responsible for the good performance of the dense ANN. It's hence assumed that this subnetwork has _won the lotter of initialization_.\n",
    "\n",
    "## Iterating the procedure\n",
    "\n",
    "Actually, all three procedures can be iterated (Iterative Magnitude Pruning, IMP). So, if we prune 25% of the ANN for each step, we can reach high pruning rates (e.g. 10 iterations of IMP $\\Rightarrow$ final sparsity of the ANN of about $0.75^{10}\\approx 0.0563$).\n",
    "\n",
    "Of course, IMP applied 10 times with a pruning rate of 0.25 yields far better result than a one-shot pruning + retraining with $p=0.95$.\n",
    "\n",
    "## Who wins and who doesn't?\n",
    "\n",
    "[5](https://arxiv.org/abs/2003.02389) does an excellent job in comparing these three paradigms, concluding that, as far as accuracy is involved, **LRR beats all of its competitors** on the long run. Despite that, a lot of recent publications still use a one-shot pruning followed by FT, this because LRR in the IMP setting can be very expensive in terms of time and energy. Moreover, we showed ([6](https://medvet.inginf.units.it/publications/2021-c-zmpa-speeding/)) that, at high pruning rates, we can \"cut the corners\" and re-train for less epochs while still getting good accuracy w.r.t. WR and LRR.\n",
    "\n",
    "## What about Weight Rewind?\n",
    "\n",
    "The LTH has sparked some debate in the ML community and has allowed for some interesting analysis, especially concerning the initial phase of training. In particular, the almost-defunct Uber AI has done some [additional research](https://eng.uber.com/deconstructing-lottery-tickets/) showing some interesting insights:\n",
    "* Random Pruning (RP) shows no benefit even after retraining. That confirms that re-training alone is not responsible for the effectiveness of the pruned network: you also need an _intelligent_ pruning algorithm;\n",
    "* Recalling the LTH, its application requires a parameters *reset* before retraining. As you can see from the image below, the sole application of the MP mask (_LT Mask_ in the picture) to a pruned and rewound network already increases the accuracy of the network by ~30%. This would seem to corroborate empirically the LTH.\n",
    "\n",
    "![](https://1fykyq3mdn5r21tpna3wkdyi-wpengine.netdna-ssl.com/wp-content/uploads/2019/05/image3-2-696x497.png)\n",
    "\n",
    "* Another heuristic is the so-called **supermask**, which keeps parameters which have mantained the sign during training and have a large final value. Parameters crossing the zero, despite large, are going to be pruned nonetheless. Of course, the supermask is more memory-intensive because we need to keep track of the evolution of the parameters in time.\n",
    "\n",
    "![](https://1fykyq3mdn5r21tpna3wkdyi-wpengine.netdna-ssl.com/wp-content/uploads/2019/05/image2-1-420x420.png)\n",
    "\n",
    "It's interesting to note how the supermask performs incredibly well after pruning and rewind (i.e., on untrained networks). The supermask is indicated as `large_final_same_sign`:\n",
    "\n",
    "![](https://1fykyq3mdn5r21tpna3wkdyi-wpengine.netdna-ssl.com/wp-content/uploads/2019/05/image1-3-685x420.png)\n",
    "\n",
    "*All images from [Uber AI](https://eng.uber.com/deconstructing-lottery-tickets/)*."
   ]
  },
  {
   "cell_type": "markdown",
   "metadata": {},
   "source": [
    "### Implementation of the retraining procedure\n",
    "\n",
    "If we retrain the network as-is, we will soon notice that we did a big mistake, because we have in no way communicated to PyTorch that the MLP does **not** have to be retrained on the pruned parameters.\n",
    "\n",
    "In order to enforce that, we must act on the training loop, namely `train_epoch`."
   ]
  },
  {
   "cell_type": "code",
   "execution_count": 16,
   "metadata": {},
   "outputs": [],
   "source": [
    "def train_epoch(model, dataloader, loss_fn, optimizer, loss_meter, performance_meter, performance, device, mask, params_type_to_prune):\n",
    "    for X, y in dataloader:\n",
    "        X = X.to(device)\n",
    "        y = y.to(device)\n",
    "\n",
    "        optimizer.zero_grad() \n",
    "\n",
    "        y_hat = model(X)\n",
    "\n",
    "        loss = loss_fn(y_hat, y)\n",
    "\n",
    "        loss.backward()\n",
    "\n",
    "        ##### we must neutralize the gradient on the pruned params before the optimizer takes a step ####\n",
    "\n",
    "        if mask is not None:\n",
    "            for (name, param), m in zip(model.named_parameters(), mask):\n",
    "                if any([l in name for l in layers_to_prune]):\n",
    "                    param.grad *= m\n",
    "\n",
    "        ######\n",
    "\n",
    "        optimizer.step()\n",
    "\n",
    "        acc = performance(y_hat, y)\n",
    "\n",
    "        loss_meter.update(val=loss.item(), n=X.shape[0])\n",
    "        performance_meter.update(val=acc, n=X.shape[0])"
   ]
  },
  {
   "cell_type": "markdown",
   "metadata": {},
   "source": [
    "let us integrate it with our `train_model` routine:"
   ]
  },
  {
   "cell_type": "code",
   "execution_count": 17,
   "metadata": {},
   "outputs": [],
   "source": [
    "def train_model(model, dataloader, loss_fn, optimizer, num_epochs, checkpoint_loc=None, checkpoint_name=\"checkpoint.pt\", performance=accuracy, lr_scheduler=None, device=None, mask=None, params_type_to_prune=[\"weight\", \"bias\"]):\n",
    "    if checkpoint_loc is not None:\n",
    "        os.makedirs(checkpoint_loc, exist_ok=True)\n",
    "\n",
    "    if device is None:\n",
    "        device = use_gpu_if_possible()\n",
    "    \n",
    "    model = model.to(device)\n",
    "    model.train()\n",
    "\n",
    "    for epoch in range(num_epochs):\n",
    "        loss_meter = AverageMeter()\n",
    "        performance_meter = AverageMeter()\n",
    "\n",
    "        print(f\"Epoch {epoch+1} --- learning rate {optimizer.param_groups[0]['lr']:.5f}\")\n",
    "\n",
    "        train_epoch(model, dataloader, loss_fn, optimizer, loss_meter, performance_meter, performance, mask, params_type_to_prune)\n",
    "\n",
    "        print(f\"Epoch {epoch+1} completed. Loss - total: {loss_meter.sum} - average: {loss_meter.avg}; Performance: {performance_meter.avg}\")\n",
    "\n",
    "        if checkpoint_name is not None and checkpoint_loc is not None:\n",
    "            checkpoint_dict = {\n",
    "                \"parameters\": model.state_dict(),\n",
    "                \"optimizer\": optimizer.state_dict(),\n",
    "                \"epoch\": epoch\n",
    "            }\n",
    "            torch.save(checkpoint_dict, os.path.join(checkpoint_loc, checkpoint_name))\n",
    "        \n",
    "        if lr_scheduler is not None:\n",
    "            lr_scheduler.step()\n",
    "\n",
    "    return loss_meter.sum, performance_meter.avg"
   ]
  },
  {
   "cell_type": "markdown",
   "metadata": {},
   "source": [
    "Now, we can effectively retrain the pruned ANN by simply passing the `mask` to the training routine."
   ]
  },
  {
   "cell_type": "markdown",
   "metadata": {},
   "source": [
    "#### Homework\n",
    "\n",
    "\"Close the loop\" for implementing IMP. Right now, the `magnitude_pruning` routine is thought for one-shot pruning. If you try pruning one more time, you'll notice that it will not work as there's no way to communicate to the future calls of `magnitude_pruning` to ignore the parameters which have already been pruned. Find a way to enhance the routine s.t. it can effectively prune networks in a sequential fashion (i.e., if we passed an MLP already pruned of 20% of its parameters, we want to prune *another* 20% of parameters).\n",
    "\n",
    "Hint:\n",
    "\n",
    "![](img/force.jpg)"
   ]
  },
  {
   "cell_type": "markdown",
   "metadata": {},
   "source": [
    "### References\n",
    "\n",
    "[1](https://arxiv.org/abs/2006.03669) O'Neill, James. \"An Overview of Neural Network Compression.\"\n",
    "\n",
    "[2](http://citeseerx.ist.psu.edu/viewdoc/download?doi=10.1.1.32.7223&rep=rep1&type=pdf) Yann LeCun, John Denker, Sara Solla. \"Optimal Brain Damage.\"\n",
    "\n",
    "[3](https://arxiv.org/abs/2102.00554) Hoefler, Torsten, et al. \"Sparsity in Deep Learning: Pruning and growth for efficient inference and training in neural networks.\"\n",
    "\n",
    "[4](https://arxiv.org/abs/1803.03635) Frankle, Jonathan, and Michael Carbin. \"The lottery ticket hypothesis: Finding sparse, trainable neural networks.\"\n",
    "\n",
    "[5](https://arxiv.org/abs/2003.02389) Renda, Alex, Jonathan Frankle, and Michael Carbin. \"Comparing rewinding and fine-tuning in neural network pruning.\"\n",
    "\n",
    "[6](https://medvet.inginf.units.it/publications/2021-c-zmpa-speeding/) Zullich, Marco, Eric Medvet, Felice Andrea Pellegrino, and Ansuini, Alessio. \"Speeding-up pruning for Artificial Neural Networks: Introducing Accelerated Iterative Magnitude Pruning.\""
   ]
  }
 ],
 "metadata": {
  "kernelspec": {
   "display_name": "Python 3.8.8 64-bit ('RDDL': conda)",
   "name": "python388jvsc74a57bd04665a7ab5f73937e17a5e61da1e18d3b6b9921930ee46fb6de3bfba5784f1ea7"
  },
  "language_info": {
   "name": "python",
   "version": ""
  },
  "metadata": {
   "interpreter": {
    "hash": "8aec2e4cca6a43ecda9b11f31ea0f9f4b012d28e6de8cbdf64a5e136ca9a5fb0"
   }
  },
  "orig_nbformat": 2
 },
 "nbformat": 4,
 "nbformat_minor": 2
}