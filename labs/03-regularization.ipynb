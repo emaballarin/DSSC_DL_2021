{
 "metadata": {
  "language_info": {
   "codemirror_mode": {
    "name": "ipython",
    "version": 3
   },
   "file_extension": ".py",
   "mimetype": "text/x-python",
   "name": "python",
   "nbconvert_exporter": "python",
   "pygments_lexer": "ipython3",
   "version": "3.8.6-final"
  },
  "orig_nbformat": 2,
  "kernelspec": {
   "name": "python3",
   "display_name": "Python 3",
   "language": "python"
  }
 },
 "nbformat": 4,
 "nbformat_minor": 2,
 "cells": [
  {
   "source": [
    "### Recap from previous Lab\n",
    "\n",
    "* We \"closed the loop\" on our first MultiLayer Perceptron (MLP), exploring how the training routine is implemented in PyTorch (PT):\n",
    "\n",
    "    * we saw how to use built-in loss functions in PT and we learned how to construct custom losses based upon tensor methods\n",
    "    * moreover, we also saw how to use vanilla Stochastic Gradient Descent (SGD) in conjunction with backpropagation to enable the parameters updating in our MLP\n",
    "\n",
    "### Agenda for today\n",
    "\n",
    "* The main topic of our lecture is **regularization**\n",
    "* First of all, though, we will implement a framework for monitoring the parameters during training (the so called *trajectory*), a simple research exercize\n",
    "* On to regularization, we will see how to utilize various way to infuse regularization into our MLP training, still with an eye on the trajectory:\n",
    "\n",
    "  * L2 regularization (aka *weight decay*)\n",
    "  * dropout\n",
    "  * regularization layers\n",
    "  "
   ],
   "cell_type": "markdown",
   "metadata": {}
  },
  {
   "source": [
    "### Examining parameters mid-training – the trajectory\n",
    "\n",
    "We already covered how to save the \"snapshot\" of the parameters via the `state_dict` during the previous Lab.\n",
    "We can use the same method to recover the trajectory during our training."
   ],
   "cell_type": "markdown",
   "metadata": {}
  },
  {
   "cell_type": "code",
   "execution_count": 1,
   "metadata": {},
   "outputs": [],
   "source": [
    "import torch\n",
    "import os\n",
    "from torch import nn\n",
    "from matplotlib import pyplot as plt\n",
    "\n",
    "\n",
    "from scripts import mnist\n",
    "from scripts.train_utils import accuracy, AverageMeter"
   ]
  },
  {
   "source": [
    "Let us quickly recover the stuff we implemented during Lab 2"
   ],
   "cell_type": "markdown",
   "metadata": {}
  },
  {
   "cell_type": "code",
   "execution_count": 3,
   "metadata": {},
   "outputs": [],
   "source": [
    "class MLP(nn.Module):\n",
    "    def __init__(self):\n",
    "        super().__init__()\n",
    "        self.flat = nn.Flatten()\n",
    "        self.h1 = nn.Linear(28*28, 16)\n",
    "        self.h2 = nn.Linear(16, 32)\n",
    "        self.h3 = nn.Linear(32, 24)\n",
    "        self.out = nn.Linear(24, 10)\n",
    "    \n",
    "    def forward(self, X, activ_hidden=nn.functional.relu):\n",
    "        out = self.flat(X)\n",
    "        out = activ_hidden(self.h1(out))\n",
    "        out = activ_hidden(self.h2(out))\n",
    "        out = activ_hidden(self.h3(out))\n",
    "        out = self.out(out)\n",
    "        return out"
   ]
  },
  {
   "cell_type": "code",
   "execution_count": 64,
   "metadata": {},
   "outputs": [],
   "source": [
    "def train_epoch(model, dataloader, loss_fn, optimizer, loss_meter, performance_meter, performance, trajectory): # note: I've added a generic performance to replace accuracy\n",
    "    for X, y in dataloader:\n",
    "        # 1. reset the gradients previously accumulated by the optimizer\n",
    "        #    this will avoid re-using gradients from previous loops\n",
    "        optimizer.zero_grad() \n",
    "        # 2. get the predictions from the current state of the model\n",
    "        #    this is the forward pass\n",
    "        y_hat = model(X)\n",
    "        # 3. calculate the loss on the current mini-batch\n",
    "        loss = loss_fn(y_hat, y)\n",
    "        # 4. execute the backward pass given the current loss\n",
    "        loss.backward()\n",
    "        # 5. update the value of the params\n",
    "        optimizer.step()\n",
    "        # 6. calculate the accuracy for this mini-batch\n",
    "        acc = performance(y_hat, y)\n",
    "        # 7. update the loss and accuracy AverageMeter\n",
    "        loss_meter.update(val=loss.item(), n=X.shape[0])\n",
    "        performance_meter.update(val=acc, n=X.shape[0])\n",
    "\n",
    "        if trajectory is not None:\n",
    "            trajectory.append({k: v.clone() for k, v in model.state_dict().items()})\n",
    "\n",
    "def train_model(model, dataloader, loss_fn, optimizer, num_epochs, checkpoint_loc=None, checkpoint_name=\"checkpoint.pt\", performance=accuracy, trajectory=None): # note: I've added a generic performance to replace accuracy and an object where to store the trajectory\n",
    "\n",
    "    # create the folder for the checkpoints (if it's not None)\n",
    "    if checkpoint_loc is not None:\n",
    "        os.makedirs(checkpoint_loc, exist_ok=True)\n",
    "    \n",
    "    model.train()\n",
    "\n",
    "    # epoch loop\n",
    "    for epoch in range(num_epochs):\n",
    "        loss_meter = AverageMeter()\n",
    "        performance_meter = AverageMeter()\n",
    "\n",
    "        train_epoch(model, dataloader, loss_fn, optimizer, loss_meter, performance_meter, performance, trajectory)\n",
    "\n",
    "        print(f\"Epoch {epoch+1} completed. Loss - total: {loss_meter.sum} - average: {loss_meter.avg}; Performance: {performance_meter.avg}\")\n",
    "\n",
    "        # produce checkpoint dictionary -- but only if the name and folder of the checkpoint are not None\n",
    "        if checkpoint_name is not None and checkpoint_loc is not None:\n",
    "            checkpoint_dict = {\n",
    "                \"parameters\": model.state_dict(),\n",
    "                \"optimizer\": optimizer.state_dict(),\n",
    "                \"epoch\": epoch\n",
    "            }\n",
    "            torch.save(checkpoint_dict, os.path.join(checkpoint_loc, checkpoint_name))\n",
    "        \n",
    "        # append the current params to the trajectory\n",
    "        # if trajectory is not None:\n",
    "        #     current_state_dict = {k: v.clone() for k, v in model.state_dict().items()} # comment on this line - why that and not `model.state_dict()`\n",
    "        #     trajectory.append(current_state_dict)\n",
    "    \n",
    "    return loss_meter.sum, performance_meter.avg, trajectory\n",
    "\n",
    "def test_model(model, dataloader, performance=accuracy, loss_fn=None):\n",
    "    # create an AverageMeter for the loss if passed\n",
    "    if loss_fn is not None:\n",
    "        loss_meter = AverageMeter()\n",
    "    \n",
    "    performance_meter = AverageMeter()\n",
    "\n",
    "    model.eval()\n",
    "    with torch.no_grad():\n",
    "        for X, y in dataloader:\n",
    "            y_hat = model(X)\n",
    "            loss = loss_fn(y_hat, y) if loss_fn is not None else None\n",
    "            acc = performance(y_hat, y)\n",
    "            if loss_fn is not None:\n",
    "                loss_meter.update(loss.item(), X.shape[0])\n",
    "            performance_meter.update(acc, X.shape[0])\n",
    "    # get final performances\n",
    "    fin_loss = loss_meter.sum if loss_fn is not None else None\n",
    "    fin_perf = performance_meter.avg\n",
    "    print(f\"TESTING - loss {fin_loss if fin_loss is not None else '--'} - performance {fin_perf}\")\n",
    "    return fin_loss, fin_perf"
   ]
  },
  {
   "cell_type": "code",
   "execution_count": 7,
   "metadata": {},
   "outputs": [],
   "source": [
    "minibatch_size_train = 256\n",
    "minibatch_size_test = 512\n",
    "\n",
    "trainloader, testloader, trainset, testset = mnist.get_data(batch_size_train=minibatch_size_test, batch_size_test=minibatch_size_test)"
   ]
  },
  {
   "cell_type": "code",
   "execution_count": 8,
   "metadata": {},
   "outputs": [],
   "source": [
    "learn_rate = 0.1\n",
    "num_epochs = 5\n",
    "\n",
    "model = MLP()\n",
    "loss_fn = nn.CrossEntropyLoss()\n",
    "optimizer = torch.optim.SGD(model.parameters(), lr=learn_rate)\n",
    "\n",
    "trajectory = [model.state_dict()] # we want to store the trajectory at initialization as well"
   ]
  },
  {
   "cell_type": "code",
   "execution_count": 17,
   "metadata": {},
   "outputs": [
    {
     "output_type": "stream",
     "name": "stdout",
     "text": [
      "Epoch 1 completed. Loss - total: 85229.01518249512 - average: 1.4204835863749186; Performance: 0.5123666666348775\n",
      "Epoch 2 completed. Loss - total: 24090.54340171814 - average: 0.40150905669530235; Performance: 0.8784666666666666\n",
      "Epoch 3 completed. Loss - total: 18320.607746124268 - average: 0.30534346243540444; Performance: 0.90845\n",
      "Epoch 4 completed. Loss - total: 15872.976515293121 - average: 0.2645496085882187; Performance: 0.9211666666666667\n",
      "Epoch 5 completed. Loss - total: 14254.74482536316 - average: 0.23757908042271933; Performance: 0.9290666666984558\n"
     ]
    }
   ],
   "source": [
    "train_loss, train_acc, trajectory = train_model(model, trainloader, loss_fn, optimizer, num_epochs, trajectory=trajectory)"
   ]
  },
  {
   "source": [
    "Let us examine the trajectory to see how parameters are encoded"
   ],
   "cell_type": "markdown",
   "metadata": {}
  },
  {
   "cell_type": "code",
   "execution_count": 18,
   "metadata": {},
   "outputs": [
    {
     "output_type": "stream",
     "name": "stdout",
     "text": [
      "--Trajectory--\nLength: 591\nName of parameters: ['h1.weight', 'h1.bias', 'h2.weight', 'h2.bias', 'h3.weight', 'h3.bias', 'out.weight', 'out.bias']\nShapes of parameters tensors\n  1: h1.weight \t torch.Size([16, 784])\n  2: h1.bias \t torch.Size([16])\n  3: h2.weight \t torch.Size([32, 16])\n  4: h2.bias \t torch.Size([32])\n  5: h3.weight \t torch.Size([24, 32])\n  6: h3.bias \t torch.Size([24])\n  7: out.weight \t torch.Size([10, 24])\n  8: out.bias \t torch.Size([10])\n"
     ]
    }
   ],
   "source": [
    "print(\"--Trajectory--\")\n",
    "print(\"Length:\", len(trajectory))\n",
    "print(\"Name of parameters:\", list(trajectory[0].keys()))\n",
    "print(\"Shapes of parameters tensors\")\n",
    "# we loop through a state_dict as a dictionary:\n",
    "for i, (param_name, params) in enumerate(trajectory[0].items()):\n",
    "    print(f\"  {i+1}:\", param_name, \"\\t\", params.shape)"
   ]
  },
  {
   "source": [
    "As a first step towards examining the trajectory, we might wanna calculate the norm of the parameters.\n",
    "\n",
    "First we may want to gather all of the parameters inside a single structure. We hence define a function which lets us do so"
   ],
   "cell_type": "markdown",
   "metadata": {}
  },
  {
   "cell_type": "code",
   "execution_count": 19,
   "metadata": {},
   "outputs": [],
   "source": [
    "def flatten_parameters(state_dict):\n",
    "    # this gives us the number of parameters per layer\n",
    "    params_num_per_layer = [struct.numel() for struct in state_dict.values()]\n",
    "    # by summing the list, we get the total no. of parameters\n",
    "    params_num = sum(params_num_per_layer)\n",
    "    # we create a tensor to host all of these parameters\n",
    "    params_tensor = torch.empty([params_num])\n",
    "    # we populate the tensor\n",
    "    num_params_inserted = 0\n",
    "    for struct in state_dict.values():\n",
    "        params_tensor[num_params_inserted : num_params_inserted + struct.numel()] = struct.flatten()\n",
    "        num_params_inserted += struct.numel()\n",
    "    \n",
    "    return params_tensor"
   ]
  },
  {
   "source": [
    "We execute for each trajectory"
   ],
   "cell_type": "markdown",
   "metadata": {}
  },
  {
   "cell_type": "code",
   "execution_count": 42,
   "metadata": {},
   "outputs": [],
   "source": [
    "trajectories_flattened = [flatten_parameters(t) for t in trajectory]"
   ]
  },
  {
   "source": [
    "Now we can calculate the norms and plot them to try and find regularities or trends"
   ],
   "cell_type": "markdown",
   "metadata": {}
  },
  {
   "cell_type": "code",
   "execution_count": 21,
   "metadata": {},
   "outputs": [
    {
     "output_type": "display_data",
     "data": {
      "text/plain": "<Figure size 432x288 with 1 Axes>",
      "image/svg+xml": "<?xml version=\"1.0\" encoding=\"utf-8\" standalone=\"no\"?>\n<!DOCTYPE svg PUBLIC \"-//W3C//DTD SVG 1.1//EN\"\n  \"http://www.w3.org/Graphics/SVG/1.1/DTD/svg11.dtd\">\n<!-- Created with matplotlib (https://matplotlib.org/) -->\n<svg height=\"248.518125pt\" version=\"1.1\" viewBox=\"0 0 362.5625 248.518125\" width=\"362.5625pt\" xmlns=\"http://www.w3.org/2000/svg\" xmlns:xlink=\"http://www.w3.org/1999/xlink\">\n <metadata>\n  <rdf:RDF xmlns:cc=\"http://creativecommons.org/ns#\" xmlns:dc=\"http://purl.org/dc/elements/1.1/\" xmlns:rdf=\"http://www.w3.org/1999/02/22-rdf-syntax-ns#\">\n   <cc:Work>\n    <dc:type rdf:resource=\"http://purl.org/dc/dcmitype/StillImage\"/>\n    <dc:date>2021-03-13T18:04:07.919666</dc:date>\n    <dc:format>image/svg+xml</dc:format>\n    <dc:creator>\n     <cc:Agent>\n      <dc:title>Matplotlib v3.3.3, https://matplotlib.org/</dc:title>\n     </cc:Agent>\n    </dc:creator>\n   </cc:Work>\n  </rdf:RDF>\n </metadata>\n <defs>\n  <style type=\"text/css\">*{stroke-linecap:butt;stroke-linejoin:round;}</style>\n </defs>\n <g id=\"figure_1\">\n  <g id=\"patch_1\">\n   <path d=\"M 0 248.518125 \nL 362.5625 248.518125 \nL 362.5625 0 \nL 0 0 \nz\n\" style=\"fill:none;\"/>\n  </g>\n  <g id=\"axes_1\">\n   <g id=\"patch_2\">\n    <path d=\"M 20.5625 224.64 \nL 355.3625 224.64 \nL 355.3625 7.2 \nL 20.5625 7.2 \nz\n\" style=\"fill:#ffffff;\"/>\n   </g>\n   <g id=\"matplotlib.axis_1\">\n    <g id=\"xtick_1\">\n     <g id=\"line2d_1\">\n      <defs>\n       <path d=\"M 0 0 \nL 0 3.5 \n\" id=\"m9a144b0b6a\" style=\"stroke:#000000;stroke-width:0.8;\"/>\n      </defs>\n      <g>\n       <use style=\"stroke:#000000;stroke-width:0.8;\" x=\"35.780682\" xlink:href=\"#m9a144b0b6a\" y=\"224.64\"/>\n      </g>\n     </g>\n     <g id=\"text_1\">\n      <!-- 0 -->\n      <g transform=\"translate(32.599432 239.238438)scale(0.1 -0.1)\">\n       <defs>\n        <path d=\"M 31.78125 66.40625 \nQ 24.171875 66.40625 20.328125 58.90625 \nQ 16.5 51.421875 16.5 36.375 \nQ 16.5 21.390625 20.328125 13.890625 \nQ 24.171875 6.390625 31.78125 6.390625 \nQ 39.453125 6.390625 43.28125 13.890625 \nQ 47.125 21.390625 47.125 36.375 \nQ 47.125 51.421875 43.28125 58.90625 \nQ 39.453125 66.40625 31.78125 66.40625 \nz\nM 31.78125 74.21875 \nQ 44.046875 74.21875 50.515625 64.515625 \nQ 56.984375 54.828125 56.984375 36.375 \nQ 56.984375 17.96875 50.515625 8.265625 \nQ 44.046875 -1.421875 31.78125 -1.421875 \nQ 19.53125 -1.421875 13.0625 8.265625 \nQ 6.59375 17.96875 6.59375 36.375 \nQ 6.59375 54.828125 13.0625 64.515625 \nQ 19.53125 74.21875 31.78125 74.21875 \nz\n\" id=\"DejaVuSans-48\"/>\n       </defs>\n       <use xlink:href=\"#DejaVuSans-48\"/>\n      </g>\n     </g>\n    </g>\n    <g id=\"xtick_2\">\n     <g id=\"line2d_2\">\n      <g>\n       <use style=\"stroke:#000000;stroke-width:0.8;\" x=\"87.367739\" xlink:href=\"#m9a144b0b6a\" y=\"224.64\"/>\n      </g>\n     </g>\n     <g id=\"text_2\">\n      <!-- 100 -->\n      <g transform=\"translate(77.823989 239.238438)scale(0.1 -0.1)\">\n       <defs>\n        <path d=\"M 12.40625 8.296875 \nL 28.515625 8.296875 \nL 28.515625 63.921875 \nL 10.984375 60.40625 \nL 10.984375 69.390625 \nL 28.421875 72.90625 \nL 38.28125 72.90625 \nL 38.28125 8.296875 \nL 54.390625 8.296875 \nL 54.390625 0 \nL 12.40625 0 \nz\n\" id=\"DejaVuSans-49\"/>\n       </defs>\n       <use xlink:href=\"#DejaVuSans-49\"/>\n       <use x=\"63.623047\" xlink:href=\"#DejaVuSans-48\"/>\n       <use x=\"127.246094\" xlink:href=\"#DejaVuSans-48\"/>\n      </g>\n     </g>\n    </g>\n    <g id=\"xtick_3\">\n     <g id=\"line2d_3\">\n      <g>\n       <use style=\"stroke:#000000;stroke-width:0.8;\" x=\"138.954796\" xlink:href=\"#m9a144b0b6a\" y=\"224.64\"/>\n      </g>\n     </g>\n     <g id=\"text_3\">\n      <!-- 200 -->\n      <g transform=\"translate(129.411046 239.238438)scale(0.1 -0.1)\">\n       <defs>\n        <path d=\"M 19.1875 8.296875 \nL 53.609375 8.296875 \nL 53.609375 0 \nL 7.328125 0 \nL 7.328125 8.296875 \nQ 12.9375 14.109375 22.625 23.890625 \nQ 32.328125 33.6875 34.8125 36.53125 \nQ 39.546875 41.84375 41.421875 45.53125 \nQ 43.3125 49.21875 43.3125 52.78125 \nQ 43.3125 58.59375 39.234375 62.25 \nQ 35.15625 65.921875 28.609375 65.921875 \nQ 23.96875 65.921875 18.8125 64.3125 \nQ 13.671875 62.703125 7.8125 59.421875 \nL 7.8125 69.390625 \nQ 13.765625 71.78125 18.9375 73 \nQ 24.125 74.21875 28.421875 74.21875 \nQ 39.75 74.21875 46.484375 68.546875 \nQ 53.21875 62.890625 53.21875 53.421875 \nQ 53.21875 48.921875 51.53125 44.890625 \nQ 49.859375 40.875 45.40625 35.40625 \nQ 44.1875 33.984375 37.640625 27.21875 \nQ 31.109375 20.453125 19.1875 8.296875 \nz\n\" id=\"DejaVuSans-50\"/>\n       </defs>\n       <use xlink:href=\"#DejaVuSans-50\"/>\n       <use x=\"63.623047\" xlink:href=\"#DejaVuSans-48\"/>\n       <use x=\"127.246094\" xlink:href=\"#DejaVuSans-48\"/>\n      </g>\n     </g>\n    </g>\n    <g id=\"xtick_4\">\n     <g id=\"line2d_4\">\n      <g>\n       <use style=\"stroke:#000000;stroke-width:0.8;\" x=\"190.541853\" xlink:href=\"#m9a144b0b6a\" y=\"224.64\"/>\n      </g>\n     </g>\n     <g id=\"text_4\">\n      <!-- 300 -->\n      <g transform=\"translate(180.998103 239.238438)scale(0.1 -0.1)\">\n       <defs>\n        <path d=\"M 40.578125 39.3125 \nQ 47.65625 37.796875 51.625 33 \nQ 55.609375 28.21875 55.609375 21.1875 \nQ 55.609375 10.40625 48.1875 4.484375 \nQ 40.765625 -1.421875 27.09375 -1.421875 \nQ 22.515625 -1.421875 17.65625 -0.515625 \nQ 12.796875 0.390625 7.625 2.203125 \nL 7.625 11.71875 \nQ 11.71875 9.328125 16.59375 8.109375 \nQ 21.484375 6.890625 26.8125 6.890625 \nQ 36.078125 6.890625 40.9375 10.546875 \nQ 45.796875 14.203125 45.796875 21.1875 \nQ 45.796875 27.640625 41.28125 31.265625 \nQ 36.765625 34.90625 28.71875 34.90625 \nL 20.21875 34.90625 \nL 20.21875 43.015625 \nL 29.109375 43.015625 \nQ 36.375 43.015625 40.234375 45.921875 \nQ 44.09375 48.828125 44.09375 54.296875 \nQ 44.09375 59.90625 40.109375 62.90625 \nQ 36.140625 65.921875 28.71875 65.921875 \nQ 24.65625 65.921875 20.015625 65.03125 \nQ 15.375 64.15625 9.8125 62.3125 \nL 9.8125 71.09375 \nQ 15.4375 72.65625 20.34375 73.4375 \nQ 25.25 74.21875 29.59375 74.21875 \nQ 40.828125 74.21875 47.359375 69.109375 \nQ 53.90625 64.015625 53.90625 55.328125 \nQ 53.90625 49.265625 50.4375 45.09375 \nQ 46.96875 40.921875 40.578125 39.3125 \nz\n\" id=\"DejaVuSans-51\"/>\n       </defs>\n       <use xlink:href=\"#DejaVuSans-51\"/>\n       <use x=\"63.623047\" xlink:href=\"#DejaVuSans-48\"/>\n       <use x=\"127.246094\" xlink:href=\"#DejaVuSans-48\"/>\n      </g>\n     </g>\n    </g>\n    <g id=\"xtick_5\">\n     <g id=\"line2d_5\">\n      <g>\n       <use style=\"stroke:#000000;stroke-width:0.8;\" x=\"242.12891\" xlink:href=\"#m9a144b0b6a\" y=\"224.64\"/>\n      </g>\n     </g>\n     <g id=\"text_5\">\n      <!-- 400 -->\n      <g transform=\"translate(232.58516 239.238438)scale(0.1 -0.1)\">\n       <defs>\n        <path d=\"M 37.796875 64.3125 \nL 12.890625 25.390625 \nL 37.796875 25.390625 \nz\nM 35.203125 72.90625 \nL 47.609375 72.90625 \nL 47.609375 25.390625 \nL 58.015625 25.390625 \nL 58.015625 17.1875 \nL 47.609375 17.1875 \nL 47.609375 0 \nL 37.796875 0 \nL 37.796875 17.1875 \nL 4.890625 17.1875 \nL 4.890625 26.703125 \nz\n\" id=\"DejaVuSans-52\"/>\n       </defs>\n       <use xlink:href=\"#DejaVuSans-52\"/>\n       <use x=\"63.623047\" xlink:href=\"#DejaVuSans-48\"/>\n       <use x=\"127.246094\" xlink:href=\"#DejaVuSans-48\"/>\n      </g>\n     </g>\n    </g>\n    <g id=\"xtick_6\">\n     <g id=\"line2d_6\">\n      <g>\n       <use style=\"stroke:#000000;stroke-width:0.8;\" x=\"293.715967\" xlink:href=\"#m9a144b0b6a\" y=\"224.64\"/>\n      </g>\n     </g>\n     <g id=\"text_6\">\n      <!-- 500 -->\n      <g transform=\"translate(284.172217 239.238438)scale(0.1 -0.1)\">\n       <defs>\n        <path d=\"M 10.796875 72.90625 \nL 49.515625 72.90625 \nL 49.515625 64.59375 \nL 19.828125 64.59375 \nL 19.828125 46.734375 \nQ 21.96875 47.46875 24.109375 47.828125 \nQ 26.265625 48.1875 28.421875 48.1875 \nQ 40.625 48.1875 47.75 41.5 \nQ 54.890625 34.8125 54.890625 23.390625 \nQ 54.890625 11.625 47.5625 5.09375 \nQ 40.234375 -1.421875 26.90625 -1.421875 \nQ 22.3125 -1.421875 17.546875 -0.640625 \nQ 12.796875 0.140625 7.71875 1.703125 \nL 7.71875 11.625 \nQ 12.109375 9.234375 16.796875 8.0625 \nQ 21.484375 6.890625 26.703125 6.890625 \nQ 35.15625 6.890625 40.078125 11.328125 \nQ 45.015625 15.765625 45.015625 23.390625 \nQ 45.015625 31 40.078125 35.4375 \nQ 35.15625 39.890625 26.703125 39.890625 \nQ 22.75 39.890625 18.8125 39.015625 \nQ 14.890625 38.140625 10.796875 36.28125 \nz\n\" id=\"DejaVuSans-53\"/>\n       </defs>\n       <use xlink:href=\"#DejaVuSans-53\"/>\n       <use x=\"63.623047\" xlink:href=\"#DejaVuSans-48\"/>\n       <use x=\"127.246094\" xlink:href=\"#DejaVuSans-48\"/>\n      </g>\n     </g>\n    </g>\n    <g id=\"xtick_7\">\n     <g id=\"line2d_7\">\n      <g>\n       <use style=\"stroke:#000000;stroke-width:0.8;\" x=\"345.303024\" xlink:href=\"#m9a144b0b6a\" y=\"224.64\"/>\n      </g>\n     </g>\n     <g id=\"text_7\">\n      <!-- 600 -->\n      <g transform=\"translate(335.759274 239.238438)scale(0.1 -0.1)\">\n       <defs>\n        <path d=\"M 33.015625 40.375 \nQ 26.375 40.375 22.484375 35.828125 \nQ 18.609375 31.296875 18.609375 23.390625 \nQ 18.609375 15.53125 22.484375 10.953125 \nQ 26.375 6.390625 33.015625 6.390625 \nQ 39.65625 6.390625 43.53125 10.953125 \nQ 47.40625 15.53125 47.40625 23.390625 \nQ 47.40625 31.296875 43.53125 35.828125 \nQ 39.65625 40.375 33.015625 40.375 \nz\nM 52.59375 71.296875 \nL 52.59375 62.3125 \nQ 48.875 64.0625 45.09375 64.984375 \nQ 41.3125 65.921875 37.59375 65.921875 \nQ 27.828125 65.921875 22.671875 59.328125 \nQ 17.53125 52.734375 16.796875 39.40625 \nQ 19.671875 43.65625 24.015625 45.921875 \nQ 28.375 48.1875 33.59375 48.1875 \nQ 44.578125 48.1875 50.953125 41.515625 \nQ 57.328125 34.859375 57.328125 23.390625 \nQ 57.328125 12.15625 50.6875 5.359375 \nQ 44.046875 -1.421875 33.015625 -1.421875 \nQ 20.359375 -1.421875 13.671875 8.265625 \nQ 6.984375 17.96875 6.984375 36.375 \nQ 6.984375 53.65625 15.1875 63.9375 \nQ 23.390625 74.21875 37.203125 74.21875 \nQ 40.921875 74.21875 44.703125 73.484375 \nQ 48.484375 72.75 52.59375 71.296875 \nz\n\" id=\"DejaVuSans-54\"/>\n       </defs>\n       <use xlink:href=\"#DejaVuSans-54\"/>\n       <use x=\"63.623047\" xlink:href=\"#DejaVuSans-48\"/>\n       <use x=\"127.246094\" xlink:href=\"#DejaVuSans-48\"/>\n      </g>\n     </g>\n    </g>\n   </g>\n   <g id=\"matplotlib.axis_2\">\n    <g id=\"ytick_1\">\n     <g id=\"line2d_8\">\n      <defs>\n       <path d=\"M 0 0 \nL -3.5 0 \n\" id=\"m72060b71da\" style=\"stroke:#000000;stroke-width:0.8;\"/>\n      </defs>\n      <g>\n       <use style=\"stroke:#000000;stroke-width:0.8;\" x=\"20.5625\" xlink:href=\"#m72060b71da\" y=\"224.64\"/>\n      </g>\n     </g>\n     <g id=\"text_8\">\n      <!-- 0 -->\n      <g transform=\"translate(7.2 228.439219)scale(0.1 -0.1)\">\n       <use xlink:href=\"#DejaVuSans-48\"/>\n      </g>\n     </g>\n    </g>\n    <g id=\"ytick_2\">\n     <g id=\"line2d_9\">\n      <g>\n       <use style=\"stroke:#000000;stroke-width:0.8;\" x=\"20.5625\" xlink:href=\"#m72060b71da\" y=\"198.352696\"/>\n      </g>\n     </g>\n     <g id=\"text_9\">\n      <!-- 1 -->\n      <g transform=\"translate(7.2 202.151915)scale(0.1 -0.1)\">\n       <use xlink:href=\"#DejaVuSans-49\"/>\n      </g>\n     </g>\n    </g>\n    <g id=\"ytick_3\">\n     <g id=\"line2d_10\">\n      <g>\n       <use style=\"stroke:#000000;stroke-width:0.8;\" x=\"20.5625\" xlink:href=\"#m72060b71da\" y=\"172.065392\"/>\n      </g>\n     </g>\n     <g id=\"text_10\">\n      <!-- 2 -->\n      <g transform=\"translate(7.2 175.864611)scale(0.1 -0.1)\">\n       <use xlink:href=\"#DejaVuSans-50\"/>\n      </g>\n     </g>\n    </g>\n    <g id=\"ytick_4\">\n     <g id=\"line2d_11\">\n      <g>\n       <use style=\"stroke:#000000;stroke-width:0.8;\" x=\"20.5625\" xlink:href=\"#m72060b71da\" y=\"145.778088\"/>\n      </g>\n     </g>\n     <g id=\"text_11\">\n      <!-- 3 -->\n      <g transform=\"translate(7.2 149.577307)scale(0.1 -0.1)\">\n       <use xlink:href=\"#DejaVuSans-51\"/>\n      </g>\n     </g>\n    </g>\n    <g id=\"ytick_5\">\n     <g id=\"line2d_12\">\n      <g>\n       <use style=\"stroke:#000000;stroke-width:0.8;\" x=\"20.5625\" xlink:href=\"#m72060b71da\" y=\"119.490784\"/>\n      </g>\n     </g>\n     <g id=\"text_12\">\n      <!-- 4 -->\n      <g transform=\"translate(7.2 123.290003)scale(0.1 -0.1)\">\n       <use xlink:href=\"#DejaVuSans-52\"/>\n      </g>\n     </g>\n    </g>\n    <g id=\"ytick_6\">\n     <g id=\"line2d_13\">\n      <g>\n       <use style=\"stroke:#000000;stroke-width:0.8;\" x=\"20.5625\" xlink:href=\"#m72060b71da\" y=\"93.20348\"/>\n      </g>\n     </g>\n     <g id=\"text_13\">\n      <!-- 5 -->\n      <g transform=\"translate(7.2 97.002699)scale(0.1 -0.1)\">\n       <use xlink:href=\"#DejaVuSans-53\"/>\n      </g>\n     </g>\n    </g>\n    <g id=\"ytick_7\">\n     <g id=\"line2d_14\">\n      <g>\n       <use style=\"stroke:#000000;stroke-width:0.8;\" x=\"20.5625\" xlink:href=\"#m72060b71da\" y=\"66.916176\"/>\n      </g>\n     </g>\n     <g id=\"text_14\">\n      <!-- 6 -->\n      <g transform=\"translate(7.2 70.715395)scale(0.1 -0.1)\">\n       <use xlink:href=\"#DejaVuSans-54\"/>\n      </g>\n     </g>\n    </g>\n    <g id=\"ytick_8\">\n     <g id=\"line2d_15\">\n      <g>\n       <use style=\"stroke:#000000;stroke-width:0.8;\" x=\"20.5625\" xlink:href=\"#m72060b71da\" y=\"40.628873\"/>\n      </g>\n     </g>\n     <g id=\"text_15\">\n      <!-- 7 -->\n      <g transform=\"translate(7.2 44.428091)scale(0.1 -0.1)\">\n       <defs>\n        <path d=\"M 8.203125 72.90625 \nL 55.078125 72.90625 \nL 55.078125 68.703125 \nL 28.609375 0 \nL 18.3125 0 \nL 43.21875 64.59375 \nL 8.203125 64.59375 \nz\n\" id=\"DejaVuSans-55\"/>\n       </defs>\n       <use xlink:href=\"#DejaVuSans-55\"/>\n      </g>\n     </g>\n    </g>\n    <g id=\"ytick_9\">\n     <g id=\"line2d_16\">\n      <g>\n       <use style=\"stroke:#000000;stroke-width:0.8;\" x=\"20.5625\" xlink:href=\"#m72060b71da\" y=\"14.341569\"/>\n      </g>\n     </g>\n     <g id=\"text_16\">\n      <!-- 8 -->\n      <g transform=\"translate(7.2 18.140787)scale(0.1 -0.1)\">\n       <defs>\n        <path d=\"M 31.78125 34.625 \nQ 24.75 34.625 20.71875 30.859375 \nQ 16.703125 27.09375 16.703125 20.515625 \nQ 16.703125 13.921875 20.71875 10.15625 \nQ 24.75 6.390625 31.78125 6.390625 \nQ 38.8125 6.390625 42.859375 10.171875 \nQ 46.921875 13.96875 46.921875 20.515625 \nQ 46.921875 27.09375 42.890625 30.859375 \nQ 38.875 34.625 31.78125 34.625 \nz\nM 21.921875 38.8125 \nQ 15.578125 40.375 12.03125 44.71875 \nQ 8.5 49.078125 8.5 55.328125 \nQ 8.5 64.0625 14.71875 69.140625 \nQ 20.953125 74.21875 31.78125 74.21875 \nQ 42.671875 74.21875 48.875 69.140625 \nQ 55.078125 64.0625 55.078125 55.328125 \nQ 55.078125 49.078125 51.53125 44.71875 \nQ 48 40.375 41.703125 38.8125 \nQ 48.828125 37.15625 52.796875 32.3125 \nQ 56.78125 27.484375 56.78125 20.515625 \nQ 56.78125 9.90625 50.3125 4.234375 \nQ 43.84375 -1.421875 31.78125 -1.421875 \nQ 19.734375 -1.421875 13.25 4.234375 \nQ 6.78125 9.90625 6.78125 20.515625 \nQ 6.78125 27.484375 10.78125 32.3125 \nQ 14.796875 37.15625 21.921875 38.8125 \nz\nM 18.3125 54.390625 \nQ 18.3125 48.734375 21.84375 45.5625 \nQ 25.390625 42.390625 31.78125 42.390625 \nQ 38.140625 42.390625 41.71875 45.5625 \nQ 45.3125 48.734375 45.3125 54.390625 \nQ 45.3125 60.0625 41.71875 63.234375 \nQ 38.140625 66.40625 31.78125 66.40625 \nQ 25.390625 66.40625 21.84375 63.234375 \nQ 18.3125 60.0625 18.3125 54.390625 \nz\n\" id=\"DejaVuSans-56\"/>\n       </defs>\n       <use xlink:href=\"#DejaVuSans-56\"/>\n      </g>\n     </g>\n    </g>\n   </g>\n   <g id=\"line2d_17\">\n    <path clip-path=\"url(#p8696bf65ef)\" d=\"M 35.780682 10.914289 \nL 36.296552 85.168371 \nL 40.939388 85.098064 \nL 43.00287 84.837215 \nL 46.098093 84.113358 \nL 47.645705 83.57618 \nL 49.193317 82.82793 \nL 50.740928 81.914785 \nL 53.836152 79.659656 \nL 55.899634 78.093964 \nL 56.931375 77.164699 \nL 58.994857 75.221598 \nL 60.026599 74.222377 \nL 62.605951 71.339557 \nL 67.248787 66.03932 \nL 68.796398 64.112977 \nL 73.439233 59.184509 \nL 73.955104 58.674695 \nL 74.470975 58.356074 \nL 77.566198 55.449388 \nL 79.62968 53.337343 \nL 82.209033 51.24331 \nL 83.240774 50.626412 \nL 83.756645 50.368346 \nL 87.883609 46.84441 \nL 89.947092 45.557817 \nL 91.494703 44.672913 \nL 93.042315 44.144109 \nL 96.653409 41.981411 \nL 97.16928 41.955991 \nL 97.68515 41.676139 \nL 98.716891 41.33928 \nL 99.748633 40.836398 \nL 100.264503 40.576013 \nL 101.812115 40.089364 \nL 106.97082 38.25 \nL 107.486691 38.151464 \nL 108.518432 37.796405 \nL 113.161267 36.648245 \nL 114.193008 36.577035 \nL 117.288232 35.728394 \nL 118.835844 35.32579 \nL 122.962808 34.454461 \nL 126.058032 33.91934 \nL 129.153255 33.334906 \nL 130.700867 33.020133 \nL 131.732608 32.888355 \nL 133.28022 32.504265 \nL 133.79609 32.322737 \nL 134.827831 32.185581 \nL 135.859572 31.971638 \nL 137.407184 31.828842 \nL 138.438925 31.704685 \nL 139.470666 31.554719 \nL 139.986537 31.605573 \nL 141.018278 31.239044 \nL 142.050019 31.065274 \nL 146.176984 30.31097 \nL 147.208725 30.077021 \nL 152.367431 29.458192 \nL 153.399172 29.273467 \nL 154.946784 29.02113 \nL 157.010266 28.829173 \nL 158.042007 28.535233 \nL 164.232454 27.631539 \nL 166.811807 27.321579 \nL 167.843548 27.152886 \nL 169.391159 27.267354 \nL 170.938771 26.948795 \nL 171.970512 26.844606 \nL 175.581606 26.067451 \nL 176.613347 25.93724 \nL 178.67683 25.661964 \nL 180.740312 25.446755 \nL 187.9625 24.775355 \nL 188.478371 24.79254 \nL 189.510112 24.595832 \nL 190.541853 24.594955 \nL 196.7323 23.891466 \nL 197.24817 23.955431 \nL 199.311653 23.758999 \nL 199.827523 23.784708 \nL 201.891005 23.456284 \nL 203.954488 23.247568 \nL 208.597323 22.810581 \nL 209.113193 22.847396 \nL 212.724287 22.374935 \nL 213.756029 22.280173 \nL 215.30364 22.108321 \nL 217.367122 21.694636 \nL 218.914734 21.532336 \nL 232.84324 20.093646 \nL 233.874981 20.134509 \nL 234.906722 20.097306 \nL 235.938463 19.981385 \nL 242.64478 19.046103 \nL 243.676522 18.99426 \nL 245.224133 18.881835 \nL 245.740004 18.750358 \nL 247.287616 18.605118 \nL 249.351098 18.435861 \nL 250.89871 18.271092 \nL 251.930451 18.135766 \nL 252.962192 18.103615 \nL 253.993933 17.923653 \nL 255.025674 17.924743 \nL 256.057415 17.7602 \nL 257.089156 17.731633 \nL 259.152639 17.654757 \nL 260.70025 17.741987 \nL 262.763733 17.571188 \nL 264.311344 17.50419 \nL 265.343086 17.355778 \nL 268.438309 17.03371 \nL 270.501791 16.73626 \nL 273.081144 16.509807 \nL 275.660497 16.298182 \nL 277.208109 16.091459 \nL 282.366814 15.456486 \nL 283.914426 15.355205 \nL 284.946167 15.24901 \nL 288.041391 14.980578 \nL 292.168355 14.617258 \nL 295.263579 14.290903 \nL 296.29532 14.250767 \nL 299.906414 13.914835 \nL 301.969896 13.804655 \nL 309.707955 13.133593 \nL 310.739696 13.16107 \nL 315.898401 12.603849 \nL 316.930143 12.449296 \nL 322.088848 11.862293 \nL 323.63646 11.838351 \nL 324.668201 11.758104 \nL 325.699942 11.689363 \nL 326.731683 11.569079 \nL 328.795166 11.658302 \nL 331.890389 11.474843 \nL 332.40626 11.508662 \nL 333.953871 11.344256 \nL 336.017354 11.213844 \nL 339.112577 10.980347 \nL 340.144318 10.914289 \nL 340.144318 10.914289 \n\" style=\"fill:none;stroke:#1f77b4;stroke-linecap:square;stroke-width:1.5;\"/>\n   </g>\n   <g id=\"patch_3\">\n    <path d=\"M 20.5625 224.64 \nL 20.5625 7.2 \n\" style=\"fill:none;stroke:#000000;stroke-linecap:square;stroke-linejoin:miter;stroke-width:0.8;\"/>\n   </g>\n   <g id=\"patch_4\">\n    <path d=\"M 355.3625 224.64 \nL 355.3625 7.2 \n\" style=\"fill:none;stroke:#000000;stroke-linecap:square;stroke-linejoin:miter;stroke-width:0.8;\"/>\n   </g>\n   <g id=\"patch_5\">\n    <path d=\"M 20.5625 224.64 \nL 355.3625 224.64 \n\" style=\"fill:none;stroke:#000000;stroke-linecap:square;stroke-linejoin:miter;stroke-width:0.8;\"/>\n   </g>\n   <g id=\"patch_6\">\n    <path d=\"M 20.5625 7.2 \nL 355.3625 7.2 \n\" style=\"fill:none;stroke:#000000;stroke-linecap:square;stroke-linejoin:miter;stroke-width:0.8;\"/>\n   </g>\n  </g>\n </g>\n <defs>\n  <clipPath id=\"p8696bf65ef\">\n   <rect height=\"217.44\" width=\"334.8\" x=\"20.5625\" y=\"7.2\"/>\n  </clipPath>\n </defs>\n</svg>\n",
      "image/png": "[encoded data removed]"
     },
     "metadata": {
      "needs_background": "light"
     }
    }
   ],
   "source": [
    "trajectories_norms = [f.norm() for f in trajectories_flattened]\n",
    "plt.plot(trajectories_norms)\n",
    "plt.ylim(0)\n",
    "plt.show()"
   ]
  },
  {
   "source": [
    "Similarly, we might want to monitor also the gradient. In PT, the gradient *after* a backward pass is executed can be find *attached* to the parameters, but not on the state_dicts (where gradients get *stripped* from the params instead).\n",
    "\n",
    "We slightly modify our `train_epoch` function so that we can store the gradients as well."
   ],
   "cell_type": "markdown",
   "metadata": {}
  },
  {
   "cell_type": "code",
   "execution_count": null,
   "metadata": {},
   "outputs": [],
   "source": [
    "def train_epoch(model, dataloader, loss_fn, optimizer, loss_meter, performance_meter, performance, trajectory): # note: I've added a generic performance to replace accuracy\n",
    "    for X, y in dataloader:\n",
    "        # 1. reset the gradients previously accumulated by the optimizer\n",
    "        #    this will avoid re-using gradients from previous loops\n",
    "        optimizer.zero_grad() \n",
    "        # 2. get the predictions from the current state of the model\n",
    "        #    this is the forward pass\n",
    "        y_hat = model(X)\n",
    "        # 3. calculate the loss on the current mini-batch\n",
    "        loss = loss_fn(y_hat, y)\n",
    "        # 4. execute the backward pass given the current loss\n",
    "        loss.backward()\n",
    "        # 5. update the value of the params\n",
    "        optimizer.step()\n",
    "        # 6. calculate the accuracy for this mini-batch\n",
    "        acc = performance(y_hat, y)\n",
    "        # 7. update the loss and accuracy AverageMeter\n",
    "        loss_meter.update(val=loss.item(), n=X.shape[0])\n",
    "        performance_meter.update(val=acc, n=X.shape[0])\n",
    "\n",
    "        if trajectory is not None:\n",
    "            trajectory[0].append({k:v.detach().clone() for k, v in model.named_parameters()})\n",
    "            trajectory[1].append({k:v.grad for k,v in model.named_parameters()})"
   ]
  },
  {
   "cell_type": "code",
   "execution_count": null,
   "metadata": {},
   "outputs": [],
   "source": [
    "model = MLP()\n",
    "loss_fn = nn.CrossEntropyLoss()\n",
    "optimizer = torch.optim.SGD(model.parameters(), lr=learn_rate)\n",
    "trajectory = [[], []]\n",
    "train_loss, train_acc, trajectory = train_model(model, trainloader, loss_fn, optimizer, num_epochs, trajectory=trajectory)"
   ]
  },
  {
   "cell_type": "code",
   "execution_count": 69,
   "metadata": {},
   "outputs": [
    {
     "output_type": "execute_result",
     "data": {
      "text/plain": [
       "e-03,\n",
       "           5.6265e-03,  8.0575e-03, -1.0731e-02, -2.8094e-03, -1.0691e-03,\n",
       "           1.4429e-03, -8.9919e-04, -8.6979e-03, -2.0606e-02,  1.7061e-04,\n",
       "          -1.2512e-02],\n",
       "         [-4.5745e-02, -1.0151e-01, -4.0146e-02,  1.0908e-01, -7.6080e-02,\n",
       "          -2.1610e-02, -1.3688e-01, -4.8557e-03, -2.9645e-02, -1.4635e-02,\n",
       "          -2.1609e-02, -3.0284e-02,  2.1390e-02, -1.3596e-02, -4.0281e-02,\n",
       "          -3.8887e-02],\n",
       "         [ 1.2004e-02, -1.1182e-02, -1.7907e-04,  1.9186e-03, -5.1190e-03,\n",
       "          -1.8160e-03, -1.9186e-02, -3.3815e-03, -2.4352e-04, -3.3133e-03,\n",
       "          -3.8147e-04, -1.1240e-03, -5.8668e-03, -2.4902e-02, -1.4514e-02,\n",
       "          -4.5875e-04],\n",
       "         [ 0.0000e+00,  0.0000e+00,  0.0000e+00,  0.0000e+00,  0.0000e+00,\n",
       "           0.0000e+00,  0.0000e+00,  0.0000e+00,  0.0000e+00,  0.0000e+00,\n",
       "           0.0000e+00,  0.0000e+00,  0.0000e+00,  0.0000e+00,  0.0000e+00,\n",
       "           0.0000e+00],\n",
       "         [-4.8948e-02, -3.1135e-02, -2.8076e-03,  2.8403e-02, -2.0109e-02,\n",
       "          -7.4406e-03, -5.8164e-02,  7.2394e-04, -3.7295e-02,  2.9614e-03,\n",
       "          -2.0044e-02, -8.0373e-03,  1.3554e-02, -5.6739e-02, -3.5563e-03,\n",
       "          -3.3462e-02],\n",
       "         [-9.1775e-03, -1.7366e-02, -8.1180e-04, -4.8275e-02, -2.7274e-02,\n",
       "          -9.9912e-04, -6.8533e-02,  7.7718e-03, -3.9575e-03, -5.0610e-03,\n",
       "          -7.3462e-04,  3.4373e-04, -6.3561e-03, -3.0473e-02, -1.9389e-02,\n",
       "          -1.4895e-02],\n",
       "         [ 1.7293e-02,  1.2167e-02,  1.2002e-03, -1.3987e-03,  7.2169e-03,\n",
       "           7.8377e-04,  2.6726e-02,  6.2171e-04,  1.7780e-02, -2.1233e-03,\n",
       "           1.6332e-03, -7.8530e-04,  3.8534e-04,  1.6273e-02,  4.1172e-03,\n",
       "           1.6788e-03],\n",
       "         [-1.8965e-03, -2.8871e-03, -7.5980e-03, -2.3593e-03, -2.6136e-03,\n",
       "           5.6575e-04,  1.4524e-04, -3.4334e-03,  2.9085e-03, -9.1004e-03,\n",
       "          -3.8647e-03, -3.9210e-03, -9.5887e-05,  1.1368e-03,  3.1885e-05,\n",
       "          -9.3079e-03],\n",
       "         [-7.4439e-02, -6.2186e-02, -1.7129e-02, -3.7451e-02, -4.5014e-02,\n",
       "          -1.4537e-02, -1.2739e-01,  3.3968e-03, -6.1025e-02, -2.8850e-02,\n",
       "          -1.4351e-02, -2.4346e-03, -1.3393e-02, -7.0072e-02, -1.2878e-02,\n",
       "          -1.9712e-02],\n",
       "         [ 2.6061e-02,  2.7449e-02,  7.7999e-03, -4.4748e-02,  3.0988e-02,\n",
       "           8.5727e-03,  4.4717e-02, -1.5525e-02,  2.9647e-02,  1.0098e-02,\n",
       "           6.4106e-03,  4.3647e-03, -1.4559e-02,  4.2510e-03,  5.6803e-03,\n",
       "          -1.0510e-02],\n",
       "         [ 0.0000e+00,  0.0000e+00,  0.0000e+00,  0.0000e+00,  0.0000e+00,\n",
       "           0.0000e+00,  0.0000e+00,  0.0000e+00,  0.0000e+00,  0.0000e+00,\n",
       "           0.0000e+00,  0.0000e+00,  0.0000e+00,  0.0000e+00,  0.0000e+00,\n",
       "           0.0000e+00],\n",
       "         [ 3.5515e-02,  1.1150e-02, -3.0424e-03, -3.9719e-02,  1.0548e-02,\n",
       "           1.8906e-03,  2.5169e-02, -1.0781e-02,  3.7765e-02,  1.2138e-03,\n",
       "           1.9955e-02,  2.2360e-03, -1.6024e-02,  5.3270e-02, -4.3986e-03,\n",
       "           1.7446e-02],\n",
       "         [ 2.6105e-02,  5.0441e-03, -2.8892e-03,  2.7801e-03,  7.2713e-03,\n",
       "           2.4113e-04,  1.4957e-02, -6.5325e-03,  2.1228e-02, -6.6025e-03,\n",
       "          -1.3465e-03, -2.6385e-03, -2.3227e-04,  8.6942e-03, -1.7509e-03,\n",
       "          -3.6566e-03],\n",
       "         [ 4.4131e-02, -1.0523e-02,  1.3232e-02,  7.0281e-02, -2.9216e-03,\n",
       "          -7.1196e-04,  8.5534e-03,  1.6186e-02,  2.1790e-02,  3.8255e-02,\n",
       "           1.3383e-02,  1.2711e-03,  9.1015e-03,  2.1940e-02, -1.9784e-02,\n",
       "           2.5668e-02],\n",
       "         [ 2.4839e-02,  3.3089e-02,  1.5642e-02,  9.4972e-03,  2.5860e-02,\n",
       "           8.1909e-03,  5.8864e-02,  8.6431e-03,  9.0472e-03,  1.4918e-02,\n",
       "           7.2700e-03,  7.9440e-03,  3.5369e-03,  1.1610e-02,  1.0767e-02,\n",
       "           2.3256e-02]]),\n",
       " 'h2.bias': tensor([-1.6970e-03, -5.2138e-03,  7.9249e-03, -2.3194e-03,  3.3931e-03,\n",
       "         -3.8937e-03,  1.7275e-06, -3.8398e-05, -2.0354e-03,  8.9913e-03,\n",
       "          3.0736e-04,  1.7668e-04,  9.8812e-04,  1.4147e-02,  6.6421e-03,\n",
       "         -2.3384e-03, -2.0938e-03, -2.0263e-03, -1.3117e-02, -1.4474e-03,\n",
       "          0.0000e+00, -9.1541e-03, -3.9756e-03,  2.7086e-03, -1.1094e-03,\n",
       "         -1.5319e-02,  3.2995e-03,  0.0000e+00,  5.4076e-03,  1.6187e-03,\n",
       "          8.1834e-03,  7.2219e-03]),\n",
       " 'h3.weight': tensor([[-1.9186e-02, -9.2484e-03, -2.3147e-02,  2.2036e-04,  3.3703e-03,\n",
       "          -1.4848e-02, -5.4929e-06,  0.0000e+00, -6.5121e-03, -1.4830e-03,\n",
       "          -5.5837e-03, -9.3396e-03, -7.7485e-03, -2.4327e-03, -3.8677e-04,\n",
       "           2.5368e-04, -7.5766e-03, -1.5512e-02, -1.6291e-02,  2.1639e-03,\n",
       "           0.0000e+00, -8.5299e-03, -1.3046e-02,  1.6474e-04,  1.9906e-04,\n",
       "          -1.6443e-02, -1.3776e-02,  0.0000e+00, -2.7591e-02, -4.3582e-03,\n",
       "          -5.7515e-03, -3.6423e-03],\n",
       "         [-1.8551e-03,  9.3998e-06, -3.1764e-04, -3.6338e-04,  4.3137e-03,\n",
       "           6.9145e-03,  1.8400e-06,  0.0000e+00,  4.3104e-03, -1.2997e-03,\n",
       "           4.6126e-04,  1.7830e-03,  3.6282e-03,  3.2647e-03, -5.0201e-03,\n",
       "          -3.4360e-04,  2.8359e-03,  2.0887e-03,  1.9020e-03,  9.6097e-04,\n",
       "           0.0000e+00,  1.4772e-03,  8.0596e-03, -4.3904e-03,  9.2595e-04,\n",
       "           6.4121e-03, -4.6560e-03,  0.0000e+00,  2.7684e-04, -9.1792e-04,\n",
       "           5.5049e-03, -6.0346e-04],\n",
       "         [ 4.2287e-02,  3.1230e-02,  2.8516e-02,  5.9085e-04,  6.6185e-03,\n",
       "          -3.0966e-02,  1.1856e-05, -2.0017e-04, -1.8708e-02,  6.5798e-04,\n",
       "           3.2235e-02,  2.0136e-02,  1.6799e-02, -3.2838e-02,  5.0812e-04,\n",
       "          -7.8400e-04,  4.2816e-02,  2.9742e-02,  5.2444e-02,  4.0290e-03,\n",
       "           0.0000e+00,  1.6014e-02,  5.9503e-02,  3.0912e-03, -9.2575e-04,\n",
       "           5.4444e-02,  3.1400e-02,  0.0000e+00,  6.6373e-02,  3.3949e-04,\n",
       "           2.7177e-02, -1.0213e-02],\n",
       "         [-2.1114e-02, -3.9323e-02, -1.1521e-01,  2.8210e-04, -3.2236e-02,\n",
       "          -1.1499e-01,  1.2514e-05,  3.6127e-04, -4.8105e-02, -1.2239e-02,\n",
       "           6.0312e-03,  1.3255e-02,  2.4412e-02, -6.4550e-02, -2.8382e-03,\n",
       "           1.9547e-03, -1.7516e-02,  1.8494e-02, -1.8271e-02, -7.9253e-03,\n",
       "           0.0000e+00, -7.7973e-02, -2.3497e-02, -8.5205e-04,  1.6121e-03,\n",
       "          -9.3680e-02,  3.7654e-03,  0.0000e+00, -1.2761e-02, -3.2601e-04,\n",
       "           1.5479e-02, -9.1749e-03],\n",
       "         [ 0.0000e+00,  0.0000e+00,  0.0000e+00,  0.0000e+00,  0.0000e+00,\n",
       "           0.0000e+00,  0.0000e+00,  0.0000e+00,  0.0000e+00,  0.0000e+00,\n",
       "           0.0000e+00,  0.0000e+00,  0.0000e+00,  0.0000e+00,  0.0000e+00,\n",
       "           0.0000e+00,  0.0000e+00,  0.0000e+00,  0.0000e+00,  0.0000e+00,\n",
       "           0.0000e+00,  0.0000e+00,  0.0000e+00,  0.0000e+00,  0.0000e+00,\n",
       "           0.0000e+00,  0.0000e+00,  0.0000e+00,  0.0000e+00,  0.0000e+00,\n",
       "           0.0000e+00,  0.0000e+00],\n",
       "         [-2.8606e-02, -1.7564e-02, -4.1776e-02, -1.1502e-03, -1.1714e-02,\n",
       "           2.3255e-02, -5.4446e-06,  0.0000e+00,  1.8141e-02, -4.8068e-03,\n",
       "          -1.3651e-02, -2.8817e-03,  1.5441e-03,  1.9354e-02, -1.3372e-02,\n",
       "          -1.1438e-03, -1.8105e-02, -3.7949e-03, -1.9107e-02, -5.8085e-03,\n",
       "           0.0000e+00, -1.5923e-02, -3.5652e-02, -6.1431e-03,  1.1585e-04,\n",
       "          -4.4875e-02, -2.2175e-02,  0.0000e+00, -3.3143e-02, -2.0863e-03,\n",
       "          -5.2512e-03,  1.2022e-02],\n",
       "         [-9.3176e-03, -4.3573e-02, -1.9750e-02, -3.9976e-03, -4.3850e-03,\n",
       "          -5.1224e-02,  0.0000e+00, -6.1695e-04, -1.6825e-02, -8.2941e-04,\n",
       "          -4.1275e-03, -1.9853e-03, -3.3805e-02, -1.3585e-02, -2.4279e-02,\n",
       "          -7.7469e-03, -9.4247e-03, -1.8111e-03, -6.1910e-02, -1.3236e-03,\n",
       "           0.0000e+00, -3.1823e-03, -9.5495e-03,  3.3618e-05, -2.1849e-03,\n",
       "          -1.3329e-02, -6.9353e-03,  0.0000e+00, -6.3314e-03, -4.4549e-03,\n",
       "          -1.7130e-02, -1.5145e-03],\n",
       "         [ 4.3879e-04,  6.4199e-03, -6.7384e-04,  9.2691e-05, -2.2782e-03,\n",
       "           8.9516e-03, -4.3682e-06, -7.6665e-05,  2.0452e-03,  1.2602e-04,\n",
       "           1.6727e-03,  3.5915e-05,  2.8701e-03, -6.7153e-04,  5.8078e-04,\n",
       "           6.5858e-05,  2.9462e-03,  3.4666e-05,  6.3755e-03, -1.2602e-03,\n",
       "           0.0000e+00,  7.5672e-04,  3.4097e-04,  1.6909e-04, -1.2898e-04,\n",
       "           2.5439e-03,  3.9645e-04,  0.0000e+00, -1.5767e-03, -4.6378e-04,\n",
       "           3.4489e-04,  1.6018e-04],\n",
       "         [-1.9032e-02, -7.7626e-03, -6.2922e-02,  7.1757e-04, -1.3220e-02,\n",
       "          -2.1520e-02, -1.5790e-06,  2.9665e-04, -6.1761e-03, -1.0181e-02,\n",
       "          -6.6602e-03,  2.1963e-04,  5.8734e-03, -2.8419e-02, -7.3948e-03,\n",
       "           2.6235e-03, -2.8169e-02, -3.4800e-04, -1.5230e-02, -2.7513e-03,\n",
       "           0.0000e+00, -4.7304e-02, -2.6494e-02, -1.0140e-02, -1.0990e-03,\n",
       "          -5.2546e-02, -2.1858e-02,  0.0000e+00, -2.2289e-02, -5.1943e-03,\n",
       "          -1.5361e-02,  2.2107e-03],\n",
       "         [ 9.3360e-03,  8.7420e-03,  2.1895e-02, -3.9491e-04, -8.7223e-05,\n",
       "           3.8136e-02,  3.7806e-06, -7.6271e-05,  3.0606e-02,  2.8196e-03,\n",
       "           6.5340e-03,  3.0561e-03,  2.5986e-02,  3.8914e-02,  5.6410e-03,\n",
       "           3.0205e-04,  4.4765e-02, -4.6864e-04,  3.3321e-02, -1.1971e-04,\n",
       "           0.0000e+00,  3.8610e-02,  1.7645e-02,  5.0147e-03, -2.5240e-04,\n",
       "           2.9918e-02,  1.4177e-02,  0.0000e+00,  4.8743e-03,  3.3805e-03,\n",
       "           4.1206e-02, -7.3193e-04],\n",
       "         [-5.4263e-03, -8.3637e-03, -3.6980e-02, -7.9258e-04, -9.4493e-03,\n",
       "          -1.0692e-02,  8.9196e-07, -5.9507e-05,  5.1435e-03, -6.1531e-03,\n",
       "           2.0692e-03,  3.1509e-03,  1.7470e-03, -1.0470e-02, -1.3664e-02,\n",
       "          -1.0309e-03,  6.8613e-04,  3.8202e-03, -8.0194e-03, -2.3518e-03,\n",
       "           0.0000e+00, -1.0995e-02, -4.8574e-03, -4.8919e-03, -1.5361e-03,\n",
       "          -1.9103e-02, -5.7565e-03,  0.0000e+00, -6.0126e-03, -5.0675e-03,\n",
       "          -1.3468e-03,  1.3915e-03],\n",
       "         [ 4.0431e-03,  1.8049e-02,  3.5379e-02,  0.0000e+00,  6.7028e-03,\n",
       "           6.4499e-02,  0.0000e+00,  0.0000e+00,  3.1045e-02,  2.5580e-03,\n",
       "           2.4054e-03,  5.6809e-04,  3.4045e-03,  3.4003e-02, -4.5511e-06,\n",
       "           0.0000e+00,  1.8436e-02, -6.5698e-05,  2.1036e-02,  1.2356e-05,\n",
       "           0.0000e+00,  3.2999e-02,  7.5274e-03,  9.0872e-04, -6.6002e-05,\n",
       "           3.5634e-02, -3.5189e-03,  0.0000e+00,  3.3601e-03,  0.0000e+00,\n",
       "           1.3299e-02,  5.9867e-03],\n",
       "         [-3.2629e-04,  1.0176e-05, -2.3189e-04, -7.7080e-05, -1.0176e-04,\n",
       "           5.3042e-04,  0.0000e+00, -3.4983e-05,  2.7719e-04, -3.9606e-06,\n",
       "          -4.2799e-05, -1.8447e-04, -1.6352e-04,  5.9984e-05, -1.8047e-04,\n",
       "          -2.3937e-04, -1.9030e-04, -1.6524e-04, -2.4169e-04, -4.5007e-06,\n",
       "           0.0000e+00, -1.1318e-04, -3.0329e-04, -2.4051e-05, -4.0212e-05,\n",
       "          -1.7391e-04, -2.2957e-04,  0.0000e+00, -5.1411e-04, -2.3592e-04,\n",
       "          -3.1958e-04,  2.0799e-05],\n",
       "         [-9.8885e-06, -2.6155e-07, -3.5694e-05, -3.3979e-08, -1.6266e-05,\n",
       "           0.0000e+00,  0.0000e+00,  0.0000e+00,  0.0000e+00, -4.7244e-06,\n",
       "           0.0000e+00,  0.0000e+00,  0.0000e+00, -1.3490e-05, -1.9011e-05,\n",
       "          -3.5397e-07,  0.0000e+00, -1.0282e-06, -8.5713e-06, -8.8751e-06,\n",
       "           0.0000e+00, -7.5026e-06, -1.4079e-05, -3.5744e-08, -1.5082e-06,\n",
       "          -1.0377e-05, -1.6049e-05,  0.0000e+00, -1.9531e-05, -1.1972e-05,\n",
       "          -2.7521e-06,  0.0000e+00],\n",
       "         [ 0.0000e+00,  0.0000e+00,  0.0000e+00,  0.0000e+00,  0.0000e+00,\n",
       "           0.0000e+00,  0.0000e+00,  0.0000e+00,  0.0000e+00,  0.0000e+00,\n",
       "           0.0000e+00,  0.0000e+00,  0.0000e+00,  0.0000e+00,  0.0000e+00,\n",
       "           0.0000e+00,  0.0000e+00,  0.0000e+00,  0.0000e+00,  0.0000e+00,\n",
       "           0.0000e+00,  0.0000e+00,  0.0000e+00,  0.0000e+00,  0.0000e+00,\n",
       "           0.0000e+00,  0.0000e+00,  0.0000e+00,  0.0000e+00,  0.0000e+00,\n",
       "           0.0000e+00,  0.0000e+00],\n",
       "         [-1.1441e-02,  1.7962e-02,  5.3391e-02,  2.9398e-03,  4.2172e-03,\n",
       "           4.9810e-02, -1.3879e-05,  6.7065e-05, -3.3707e-03,  1.2412e-02,\n",
       "          -1.9923e-02, -2.0668e-02, -2.6083e-02,  1.8472e-02,  3.5001e-02,\n",
       "           4.3749e-03, -3.9414e-02, -2.4756e-02, -6.7581e-03,  4.2615e-04,\n",
       "           0.0000e+00,  9.3700e-03, -4.8476e-02,  1.5575e-02, -2.8039e-04,\n",
       "          -2.9359e-03, -4.7655e-03,  0.0000e+00, -2.7324e-02,  6.8151e-03,\n",
       "          -4.1535e-02,  8.0631e-03],\n",
       "         [ 1.9079e-02,  4.2223e-02,  7.4375e-02,  9.9851e-04,  1.6533e-02,\n",
       "           9.6263e-02,  0.0000e+00,  9.3987e-05,  4.3114e-02,  6.5605e-03,\n",
       "           2.5394e-03,  9.7257e-04,  1.9947e-02,  5.2703e-02,  1.3072e-02,\n",
       "           2.4074e-03,  3.1949e-02,  2.9724e-04,  5.8854e-02,  4.9267e-03,\n",
       "           0.0000e+00,  5.6225e-02,  2.1724e-02,  1.9415e-03, -7.7927e-04,\n",
       "           6.2387e-02,  8.5771e-03,  0.0000e+00,  2.0148e-02,  3.8646e-03,\n",
       "           2.2343e-02,  7.2310e-03],\n",
       "         [ 4.3027e-02,  4.3231e-02,  8.6958e-02,  7.6643e-04,  2.1603e-02,\n",
       "           7.9074e-02, -2.1288e-06,  5.2706e-05,  5.2274e-02,  9.1785e-03,\n",
       "           1.1768e-02,  2.1551e-03,  3.0456e-02,  6.5302e-02,  1.4945e-02,\n",
       "           1.9028e-03,  7.1151e-02, -3.1716e-03,  7.5083e-02,  6.2662e-03,\n",
       "           0.0000e+00,  9.1259e-02,  5.2424e-02,  5.9370e-03,  3.6760e-04,\n",
       "           9.0941e-02,  3.3984e-02,  0.0000e+00,  3.2481e-02,  2.4423e-03,\n",
       "           4.2082e-02, -2.0046e-03],\n",
       "         [ 0.0000e+00,  0.0000e+00,  0.0000e+00,  0.0000e+00,  0.0000e+00,\n",
       "           0.0000e+00,  0.0000e+00,  0.0000e+00,  0.0000e+00,  0.0000e+00,\n",
       "           0.0000e+00,  0.0000e+00,  0.0000e+00,  0.0000e+00,  0.0000e+00,\n",
       "           0.0000e+00,  0.0000e+00,  0.0000e+00,  0.0000e+00,  0.0000e+00,\n",
       "           0.0000e+00,  0.0000e+00,  0.0000e+00,  0.0000e+00,  0.0000e+00,\n",
       "           0.0000e+00,  0.0000e+00,  0.0000e+00,  0.0000e+00,  0.0000e+00,\n",
       "           0.0000e+00,  0.0000e+00],\n",
       "         [ 6.5172e-05,  0.0000e+00,  6.7164e-05,  0.0000e+00,  0.0000e+00,\n",
       "           1.1032e-05,  4.1816e-06,  0.0000e+00,  2.7242e-05,  3.2304e-06,\n",
       "           6.9916e-07,  1.8137e-05,  5.9904e-05,  4.1835e-05,  3.8315e-05,\n",
       "           0.0000e+00,  7.0004e-05,  3.9774e-06,  6.2680e-05,  0.0000e+00,\n",
       "           0.0000e+00,  7.9287e-05,  5.7937e-06,  2.5600e-05,  0.0000e+00,\n",
       "           3.5147e-05,  8.9650e-05,  0.0000e+00,  6.0647e-05,  2.3373e-05,\n",
       "           6.6832e-05,  0.0000e+00],\n",
       "         [ 1.8196e-02, -2.8252e-03, -8.0766e-02,  2.0201e-04, -3.9047e-02,\n",
       "          -4.5837e-02,  0.0000e+00,  2.5439e-04,  9.3707e-03, -7.0296e-03,\n",
       "           1.1592e-02,  1.6134e-02,  4.5680e-02, -1.2080e-02,  5.4607e-03,\n",
       "           2.3830e-03,  3.7511e-02,  1.8281e-02,  4.2532e-02, -1.3091e-02,\n",
       "           0.0000e+00, -1.1607e-02, -2.3131e-03,  1.1120e-03,  1.5341e-03,\n",
       "          -5.4871e-02,  3.5141e-02,  0.0000e+00,  6.3953e-03,  3.2156e-03,\n",
       "           3.1512e-02,  5.2318e-04],\n",
       "         [-2.5130e-02, -2.2939e-02, -7.0677e-02, -1.3863e-03, -1.6797e-02,\n",
       "           8.7362e-03,  0.0000e+00,  1.5766e-04,  2.4639e-02, -1.1097e-02,\n",
       "          -1.0774e-02,  1.6361e-03,  1.3474e-02,  1.1546e-02, -1.8193e-02,\n",
       "           1.3194e-04, -1.5245e-02, -9.1049e-04, -1.9159e-02, -7.2020e-03,\n",
       "           0.0000e+00, -2.8632e-02, -2.9357e-02, -1.2304e-02,  7.6649e-04,\n",
       "          -5.7878e-02, -2.1031e-02,  0.0000e+00, -3.4259e-02, -6.3102e-03,\n",
       "           1.4259e-03,  9.2107e-03],\n",
       "         [ 1.8687e-02, -1.1200e-02,  1.4802e-02, -7.4009e-04,  6.3376e-03,\n",
       "          -6.9138e-02,  7.0087e-07, -1.7558e-04, -4.4113e-02, -2.7536e-04,\n",
       "           7.3513e-03,  3.6858e-03, -2.7868e-02, -5.2979e-02, -1.1883e-02,\n",
       "          -3.4339e-03, -1.6525e-02,  8.5541e-03, -3.4934e-02,  4.4821e-03,\n",
       "           0.0000e+00, -1.9506e-02,  2.4256e-02, -2.2954e-03, -2.2920e-03,\n",
       "           1.7953e-02,  6.2186e-03,  0.0000e+00,  3.3417e-02, -1.2242e-03,\n",
       "          -2.5079e-02, -1.0793e-02],\n",
       "         [ 2.1403e-02,  2.7753e-02,  8.9143e-02, -1.2825e-04,  2.7028e-02,\n",
       "           7.0416e-02, -4.0093e-06,  0.0000e+00,  2.3079e-02,  8.4082e-03,\n",
       "           1.3085e-03,  2.8186e-04,  4.1453e-03,  3.7930e-02,  3.3102e-03,\n",
       "          -3.1303e-04,  2.0485e-02,  3.1728e-04,  3.0193e-02,  7.3531e-03,\n",
       "           0.0000e+00,  5.2094e-02,  3.7663e-02, -1.7894e-03,  5.3655e-04,\n",
       "           7.8080e-02,  5.8645e-03,  0.0000e+00,  2.7453e-02,  3.7385e-03,\n",
       "           1.2089e-02,  6.4004e-04]]),\n",
       " 'h3.bias': tensor([-3.6848e-03, -3.0348e-04,  4.2767e-03, -1.4860e-02,  0.0000e+00,\n",
       "         -3.0157e-03, -1.0111e-02,  8.8465e-04, -6.8464e-03,  6.1662e-03,\n",
       "         -4.1300e-03,  7.2286e-03, -2.1899e-05, -3.6580e-06,  0.0000e+00,\n",
       "          7.1358e-03,  1.4609e-02,  1.6290e-02,  0.0000e+00,  1.2065e-05,\n",
       "         -2.6505e-03, -5.6757e-03, -6.3549e-03,  1.0746e-02]),\n",
       " 'out.weight': tensor([[-4.1461e-02, -1.0877e-02, -2.3689e-02, -3.2912e-02,  0.0000e+00,\n",
       "          -2.1665e-02,  3.0505e-05,  8.4144e-05, -2.9020e-02, -1.1913e-02,\n",
       "          -1.7346e-02, -5.9848e-04,  2.0168e-05,  1.4431e-06,  0.0000e+00,\n",
       "          -8.7659e-02,  4.4578e-03, -6.2057e-04,  0.0000e+00,  1.6853e-06,\n",
       "           5.2608e-03,  3.5234e-03, -3.5563e-02, -4.3470e-03],\n",
       "         [-5.0449e-03,  6.5899e-04, -4.6668e-02,  2.1311e-03,  0.0000e+00,\n",
       "           8.9515e-04, -3.6247e-02, -1.4127e-02, -2.5403e-02, -1.6337e-02,\n",
       "          -4.3876e-02,  2.5721e-05, -1.6815e-03,  6.2153e-09,  0.0000e+00,\n",
       "          -1.6006e-02, -1.7943e-02, -3.4028e-02,  0.0000e+00,  9.8663e-09,\n",
       "          -2.4524e-02, -5.0209e-03, -1.8853e-02,  3.1426e-04],\n",
       "         [-2.0391e-02,  1.6550e-02, -4.3498e-02,  8.8585e-03,  0.0000e+00,\n",
       "           3.5470e-02,  3.4826e-03,  1.5227e-03,  5.0185e-02, -2.3381e-03,\n",
       "           7.0301e-03,  9.8619e-04, -6.0870e-06,  2.2460e-05,  0.0000e+00,\n",
       "          -3.3691e-02, -7.6094e-04,  1.6224e-03,  0.0000e+00, -1.4968e-05,\n",
       "           1.1021e-03,  3.5824e-03,  4.4867e-03,  4.7122e-02],\n",
       "         [ 8.4001e-02, -5.5956e-03,  1.1136e-01,  6.0302e-02,  0.0000e+00,\n",
       "          -1.9553e-03,  1.3960e-02,  5.8453e-03, -1.4106e-02,  3.8784e-02,\n",
       "           1.6976e-02, -2.6941e-02,  7.7806e-04,  2.0573e-08,  0.0000e+00,\n",
       "           1.4627e-01, -1.6401e-02,  2.2057e-02,  0.0000e+00,  1.1928e-05,\n",
       "          -5.1674e-03, -4.7534e-02,  8.2363e-02,  4.0672e-03],\n",
       "         [-3.0433e-02,  2.0997e-02,  2.1396e-02,  4.3605e-02,  0.0000e+00,\n",
       "           5.7114e-02,  1.0998e-03,  3.0500e-03,  9.3939e-02,  1.9051e-02,\n",
       "           2.8387e-02,  9.3894e-04,  2.7528e-05,  5.9609e-07,  0.0000e+00,\n",
       "           3.5807e-02,  1.7977e-02, -2.4006e-02,  0.0000e+00,  6.1600e-09,\n",
       "           1.4548e-02,  7.2295e-02,  7.4379e-02,  3.7275e-02],\n",
       "         [ 5.3316e-03,  2.4576e-03,  3.1231e-03,  6.5492e-04,  0.0000e+00,\n",
       "           6.7886e-03,  8.1444e-04,  1.3680e-03,  1.6550e-02, -5.5128e-03,\n",
       "           8.8018e-03,  1.2897e-03, -3.0863e-05,  1.4012e-06,  0.0000e+00,\n",
       "           2.8511e-02,  8.1738e-04,  4.1289e-03,  0.0000e+00,  1.7282e-09,\n",
       "           2.4151e-03,  3.5521e-03,  1.4368e-02,  7.5201e-03],\n",
       "         [ 2.3198e-02,  6.3273e-03,  2.8539e-03,  1.8553e-02,  0.0000e+00,\n",
       "           1.5687e-02,  1.6407e-04, -2.2718e-03,  1.5412e-02,  2.4769e-02,\n",
       "           4.9754e-03,  1.8816e-04,  6.3987e-05, -2.6531e-05,  0.0000e+00,\n",
       "           2.8512e-02,  1.6625e-03,  2.3472e-02,  0.0000e+00,  1.0450e-07,\n",
       "           2.9957e-03,  1.7473e-03,  4.4636e-03,  1.4510e-02],\n",
       "         [ 1.6726e-02,  1.9712e-02,  5.7766e-02,  6.3451e-02,  0.0000e+00,\n",
       "           4.4874e-02,  1.6770e-02,  5.8477e-03,  1.3250e-01,  6.3210e-02,\n",
       "           7.5836e-02,  2.6918e-02,  4.4462e-04,  1.9656e-08,  0.0000e+00,\n",
       "           5.8892e-02,  4.3818e-02,  4.9631e-02,  0.0000e+00,  9.4515e-07,\n",
       "           7.8684e-02,  8.0183e-02,  4.0471e-02,  9.8827e-03],\n",
       "         [-3.0862e-02,  7.1104e-03, -9.9639e-03, -2.8263e-02,  0.0000e+00,\n",
       "          -4.8901e-03,  1.3220e-02,  6.1863e-03,  9.5981e-03, -3.4032e-02,\n",
       "           2.5322e-02,  7.5991e-05,  3.1619e-04,  5.8225e-07,  0.0000e+00,\n",
       "          -2.6916e-02,  6.6557e-03, -1.8517e-02,  0.0000e+00,  2.6541e-07,\n",
       "          -2.6252e-02,  2.1121e-02,  5.7506e-02,  1.3712e-02],\n",
       "         [-1.0663e-03, -5.7340e-02, -7.2684e-02, -1.3638e-01,  0.0000e+00,\n",
       "          -1.3232e-01, -1.3294e-02, -7.5055e-03, -2.4965e-01, -7.5681e-02,\n",
       "          -1.0611e-01, -2.8838e-03,  6.7851e-05,  2.3421e-09,  0.0000e+00,\n",
       "          -1.3372e-01, -4.0284e-02, -2.3740e-02,  0.0000e+00,  2.2173e-08,\n",
       "          -4.9062e-02, -1.3345e-01, -2.2362e-01, -1.3006e-01]]),\n",
       " 'out.bias': tensor([-0.0074, -0.0083,  0.0025,  0.0079,  0.0104,  0.0026,  0.0037,  0.0199,\n",
       "          0.0043, -0.0355])}"
      ]
     },
     "metadata": {},
     "execution_count": 69
    }
   ],
   "source": [
    "trajectory[\"grad\"][1]"
   ]
  },
  {
   "cell_type": "code",
   "execution_count": 54,
   "metadata": {},
   "outputs": [
    {
     "output_type": "error",
     "ename": "KeyError",
     "evalue": "'grad'",
     "traceback": [
      "\u001b[0;31m---------------------------------------------------------------------------\u001b[0m",
      "\u001b[0;31mKeyError\u001b[0m                                  Traceback (most recent call last)",
      "\u001b[0;32m<ipython-input-54-afebb1a14837>\u001b[0m in \u001b[0;36m<module>\u001b[0;34m\u001b[0m\n\u001b[0;32m----> 1\u001b[0;31m \u001b[0mtrajectories_grad_flattened\u001b[0m \u001b[0;34m=\u001b[0m \u001b[0;34m[\u001b[0m\u001b[0mflatten_parameters\u001b[0m\u001b[0;34m(\u001b[0m\u001b[0mt\u001b[0m\u001b[0;34m[\u001b[0m\u001b[0;34m\"grad\"\u001b[0m\u001b[0;34m]\u001b[0m\u001b[0;34m)\u001b[0m \u001b[0;32mfor\u001b[0m \u001b[0mt\u001b[0m \u001b[0;32min\u001b[0m \u001b[0mtrajectory\u001b[0m\u001b[0;34m]\u001b[0m\u001b[0;34m\u001b[0m\u001b[0;34m\u001b[0m\u001b[0m\n\u001b[0m",
      "\u001b[0;32m<ipython-input-54-afebb1a14837>\u001b[0m in \u001b[0;36m<listcomp>\u001b[0;34m(.0)\u001b[0m\n\u001b[0;32m----> 1\u001b[0;31m \u001b[0mtrajectories_grad_flattened\u001b[0m \u001b[0;34m=\u001b[0m \u001b[0;34m[\u001b[0m\u001b[0mflatten_parameters\u001b[0m\u001b[0;34m(\u001b[0m\u001b[0mt\u001b[0m\u001b[0;34m[\u001b[0m\u001b[0;34m\"grad\"\u001b[0m\u001b[0;34m]\u001b[0m\u001b[0;34m)\u001b[0m \u001b[0;32mfor\u001b[0m \u001b[0mt\u001b[0m \u001b[0;32min\u001b[0m \u001b[0mtrajectory\u001b[0m\u001b[0;34m]\u001b[0m\u001b[0;34m\u001b[0m\u001b[0;34m\u001b[0m\u001b[0m\n\u001b[0m",
      "\u001b[0;31mKeyError\u001b[0m: 'grad'"
     ]
    }
   ],
   "source": [
    "trajectories_grad_flattened = [flatten_parameters(t[\"grad\"]) for t in trajectory]"
   ]
  },
  {
   "cell_type": "code",
   "execution_count": 51,
   "metadata": {},
   "outputs": [
    {
     "output_type": "stream",
     "name": "stderr",
     "text": [
      "<ipython-input-51-7403d567e7c1>:1: UserWarning: The .grad attribute of a Tensor that is not a leaf Tensor is being accessed. Its .grad attribute won't be populated during autograd.backward(). If you indeed want the gradient for a non-leaf Tensor, use .retain_grad() on the non-leaf Tensor. If you access the non-leaf Tensor by mistake, make sure you access the leaf Tensor instead. See github.com/pytorch/pytorch/pull/30531 for more informations.\n  trajectories_flattened[0].grad\n"
     ]
    }
   ],
   "source": [
    "trajectories_flattened[0].grad"
   ]
  },
  {
   "cell_type": "code",
   "execution_count": 50,
   "metadata": {},
   "outputs": [
    {
     "output_type": "stream",
     "name": "stderr",
     "text": [
      "<ipython-input-50-b33fb5191f66>:1: UserWarning: The .grad attribute of a Tensor that is not a leaf Tensor is being accessed. Its .grad attribute won't be populated during autograd.backward(). If you indeed want the gradient for a non-leaf Tensor, use .retain_grad() on the non-leaf Tensor. If you access the non-leaf Tensor by mistake, make sure you access the leaf Tensor instead. See github.com/pytorch/pytorch/pull/30531 for more informations.\n  trajectories_grad_norms = [f.grad.norm() for f in trajectories_flattened]\n"
     ]
    },
    {
     "output_type": "error",
     "ename": "AttributeError",
     "evalue": "'NoneType' object has no attribute 'norm'",
     "traceback": [
      "\u001b[0;31m---------------------------------------------------------------------------\u001b[0m",
      "\u001b[0;31mAttributeError\u001b[0m                            Traceback (most recent call last)",
      "\u001b[0;32m<ipython-input-50-b33fb5191f66>\u001b[0m in \u001b[0;36m<module>\u001b[0;34m\u001b[0m\n\u001b[0;32m----> 1\u001b[0;31m \u001b[0mtrajectories_grad_norms\u001b[0m \u001b[0;34m=\u001b[0m \u001b[0;34m[\u001b[0m\u001b[0mf\u001b[0m\u001b[0;34m.\u001b[0m\u001b[0mgrad\u001b[0m\u001b[0;34m.\u001b[0m\u001b[0mnorm\u001b[0m\u001b[0;34m(\u001b[0m\u001b[0;34m)\u001b[0m \u001b[0;32mfor\u001b[0m \u001b[0mf\u001b[0m \u001b[0;32min\u001b[0m \u001b[0mtrajectories_flattened\u001b[0m\u001b[0;34m]\u001b[0m\u001b[0;34m\u001b[0m\u001b[0;34m\u001b[0m\u001b[0m\n\u001b[0m",
      "\u001b[0;32m<ipython-input-50-b33fb5191f66>\u001b[0m in \u001b[0;36m<listcomp>\u001b[0;34m(.0)\u001b[0m\n\u001b[0;32m----> 1\u001b[0;31m \u001b[0mtrajectories_grad_norms\u001b[0m \u001b[0;34m=\u001b[0m \u001b[0;34m[\u001b[0m\u001b[0mf\u001b[0m\u001b[0;34m.\u001b[0m\u001b[0mgrad\u001b[0m\u001b[0;34m.\u001b[0m\u001b[0mnorm\u001b[0m\u001b[0;34m(\u001b[0m\u001b[0;34m)\u001b[0m \u001b[0;32mfor\u001b[0m \u001b[0mf\u001b[0m \u001b[0;32min\u001b[0m \u001b[0mtrajectories_flattened\u001b[0m\u001b[0;34m]\u001b[0m\u001b[0;34m\u001b[0m\u001b[0;34m\u001b[0m\u001b[0m\n\u001b[0m",
      "\u001b[0;31mAttributeError\u001b[0m: 'NoneType' object has no attribute 'norm'"
     ]
    }
   ],
   "source": [
    "trajectories_grad_norms = [f.grad.norm() for f in trajectories_flattened]"
   ]
  },
  {
   "source": [
    "Comment on the trend we just saw"
   ],
   "cell_type": "markdown",
   "metadata": {}
  },
  {
   "source": [
    "### Regularization\n",
    "\n",
    "Regularization in DL comes in the form of different tools. We can have:\n",
    "\n",
    "1. Penalty terms in loss functions (e.g. L1 and L2 norm regularization) which introduce bias in our parameters by actively reducing the magnitude of some weights:\n",
    "    * L1 norm regularization is also called LASSO regularization\n",
    "    * L2 norm regularization is also called Ridge regularization or **weight decay**\n",
    "    * they were originally implemented in linear regression models as a way to infuse *inductive bias* in models originally thought to rely on the complete unbiasedness on training data\n",
    "2. Normalization layers which normalize the incoming information s.t. their mean is zero and standard deviation one. It comes in different flavors:\n",
    "    * batch normalization or batchnorm (the most common technique)\n",
    "    * group normalization or groupnorm\n",
    "    * there are more possibilities, for additional info on these, please check [this lecture by Aaron Defazio, NYU](https://atcold.github.io/pytorch-Deep-Learning/en/week05/05-2/)\n",
    "3. Dropout, a technique [patented by Google](https://patents.google.com/patent/US9406017B2/en) which consists in randomly *dropping* some neurons from a given layer to prevent overfitting.\n",
    "4. Early stopping, which we'll see later on during this Lab."
   ],
   "cell_type": "markdown",
   "metadata": {}
  },
  {
   "source": [
    "#### Weight decay or L2 norm/Ridge regularization\n",
    "\n",
    "Weight Decay (WD) is a simple technique which *appends* a penalty term to the loss function equation. The term is based upon the L2 norm of the weights.\n",
    "\n",
    "Given our original loss function $\\mathcal{L}_0 (\\hat{y}, y)$ and our parameter vector $\\Theta$, our new loss will be:\n",
    "\n",
    "$\\mathcal{L}_0 (\\hat{y}, y) + \\lambda \\cdot \\vert\\vert \\Theta \\vert\\vert_2$\n",
    "\n",
    "the parameter $\\lambda$ (also called weight decay) controls the strenght of the regularization. $\\lambda$ too high means that the model will not concentrate well enough on the original objective ($\\mathcal{L}_0$), hence it will not perform well. Usually, good values form $\\lambda$ fall into the interval $[5\\cdot 10^{-4}, 1\\cdot 10^{-4}]$.\n",
    "\n",
    "In PT, instead of inserting our penalty term in the loss function, we specify the weight decay parameter in our optimizer:"
   ],
   "cell_type": "markdown",
   "metadata": {}
  },
  {
   "cell_type": "code",
   "execution_count": 13,
   "metadata": {},
   "outputs": [],
   "source": [
    "weight_decay = 5e-4\n",
    "optimizer = torch.optim.SGD(model.parameters(), lr=learn_rate, weight_decay=weight_decay)"
   ]
  },
  {
   "source": [
    "#### L1 norm regularization\n",
    "\n",
    "L1 norm regularization is analogous to weight decay. The equation is:\n",
    "\n",
    "$\\mathcal{L}_0 (\\hat{y}, y) + \\lambda \\cdot \\vert\\vert \\Theta \\vert\\vert_1$\n",
    "\n",
    "where $\\vert\\vert x \\vert\\vert_1 = \\sum_{j=1}^d \\vert x_j \\vert$\n",
    "\n",
    "unlike weight decay, to my knowledge PT does not provide a built-in for L1 reg. You need to define a custom loss function for this task (**homework**)."
   ],
   "cell_type": "markdown",
   "metadata": {}
  },
  {
   "source": [
    "#### batchnorm\n",
    "\n",
    "Batch Normalization operates in such a way that the mean and standard deviation of the incoming batches of data are approximately 0 and 1 respectively.\n",
    "\n",
    "The ultimate goal of batchnorm is not to normalize each batch, but estimate one vector for mean (a running mean) and one for std (a running std) for the whole dataset and to normalize w.r.t. these. So, these become new parameters of the network. They are not adjusted via backprop but they get adjusted each time the layer *sees* another batch of data.\n",
    "\n",
    "![](https://miro.medium.com/max/474/1*QQ2Q5rVBtLv7b3yGhO0flg.png)\n",
    "\n",
    "*picture from [towardsdatascience.com](https://towardsdatascience.com/batch-normalisation-explained-5f4bd9de5feb)*\n",
    "\n",
    "When the network is evaluated on test data, the running mean and std must not be adjusted, hence PT has implemented a \"switch\", which we saw during the previous Lab, to tell the network when to adjust and not adjust these two parameters. The switch is triggered via `model.train()` and `model.eval()` (or equivalently `model.train(False)`).\n",
    "\n",
    "In PT, the batch normalization is found as a regular layer under within the `torch.nn` library"
   ],
   "cell_type": "markdown",
   "metadata": {}
  },
  {
   "cell_type": "code",
   "execution_count": 16,
   "metadata": {},
   "outputs": [],
   "source": [
    "class MLP_BN(nn.Module):\n",
    "    def __init__(self):\n",
    "        super().__init__()\n",
    "        self.layers = nn.Sequential(\n",
    "            nn.Flatten(),\n",
    "            nn.Linear(28*28, 16),\n",
    "            nn.ReLU(),\n",
    "\n",
    "            nn.BatchNorm1d(num_features=16), # we specify the dimensionality of the incoming data\n",
    "            nn.Linear(16, 32),\n",
    "            nn.ReLU(),\n",
    "\n",
    "            nn.BatchNorm1d(num_features=32),\n",
    "            nn.Linear(32, 24),\n",
    "            nn.ReLU(),\n",
    "\n",
    "            nn.BatchNorm1d(num_features=24),\n",
    "            nn.Linear(24, 10)\n",
    "        )\n",
    "\n",
    "\n",
    "    def forward(self, X):\n",
    "        return self.layers(X)"
   ]
  },
  {
   "source": [
    "**Q** (for the most skilled students): why didn't we apply batchnorm for the first layer?\n",
    "\n",
    "By peeking at the PT docs, we can see that actually the batchnorm layers have much more hyperparameters which we can play with if we wanted to:\n",
    "\n",
    "![](img/bn_docs.jpg)\n",
    "\n",
    "*from [PyTorch docs](https://pytorch.org/docs/stable/generated/torch.nn.BatchNorm1d.html)*\n",
    "\n",
    "In addition to what we say till now, there is still some debate in the DL community on whether batchnorm or other normalization techniques help optimization. The claims in the original paper [1](https://arxiv.org/abs/1502.03167) of \"reducing internal covariate shift\" was confuted in successive works such as [2](https://arxiv.org/abs/1805.11604.pdf), which claims that it \"makes the optimization landscape significantly smoother\". Another things to consider is that, since the data is distributed in a small intervall around 0, there's also a better numerical stability added."
   ],
   "cell_type": "markdown",
   "metadata": {}
  },
  {
   "source": [
    "#### Dropout\n",
    "\n",
    "Dropout acts by removing (i.e. *zeroing-out*) a random subset of the neurons in a given layer for each forward pass.\n",
    "\n",
    "It has one hyperparameter ($p$), which is the fraction of neurons to be dropped out.\n",
    "\n",
    "During training, each time a layer with backprop produces an output, a fraction $p$ of that output gets discarded. This helps in such a way that co-dependence between neurons gets *forgotten* by the network. To say it in simple terms, it forces each neuron to be independent from the output of other neurons within the same layer.\n",
    "\n",
    "For the same reason as in batchnorm, since dropout has to apply only during training, we must be careful in activating the switch `model.eval()` when testing our network.\n",
    "\n",
    "In PT, we find Dropout as a module of `torch.nn`. Instead of placing if *before* the layer (as in batchnorm), we place it *after* the layer (the reason being, the layer produces an output, a portion $p$ of that output gets discarded)."
   ],
   "cell_type": "markdown",
   "metadata": {}
  },
  {
   "cell_type": "code",
   "execution_count": null,
   "metadata": {},
   "outputs": [],
   "source": [
    "class MLP_BN(nn.Module):\n",
    "    def __init__(self):\n",
    "        super().__init__()\n",
    "        self.layers = nn.Sequential(\n",
    "            nn.Flatten(),\n",
    "            nn.Linear(28*28, 16),\n",
    "            nn.ReLU(),\n",
    "\n",
    "            nn.BatchNorm1d(num_features=16),\n",
    "            nn.Linear(16, 32),\n",
    "            nn.ReLU(),\n",
    "            nn.Dropout(p=.2), # we add a dropout here. it's referred to the previous layer (with 32 neurons)\n",
    "\n",
    "            nn.BatchNorm1d(num_features=32),\n",
    "            nn.Linear(32, 24),\n",
    "            nn.ReLU(),\n",
    "\n",
    "            nn.BatchNorm1d(num_features=24),\n",
    "            nn.Linear(24, 10)\n",
    "        )\n",
    "\n",
    "\n",
    "    def forward(self, X):\n",
    "        return self.layers(X)"
   ]
  },
  {
   "cell_type": "code",
   "execution_count": null,
   "metadata": {},
   "outputs": [],
   "source": []
  },
  {
   "cell_type": "code",
   "execution_count": null,
   "metadata": {},
   "outputs": [],
   "source": []
  },
  {
   "cell_type": "code",
   "execution_count": null,
   "metadata": {},
   "outputs": [],
   "source": [
    "**References**\n",
    "\n",
    "[1](https://arxiv.org/abs/1502.03167) Ioffe, S., & Szegedy, C. (2015, June). Batch normalization: Accelerating deep network training by reducing internal covariate shift. In International conference on machine learning (pp. 448-456). PMLR.\n",
    "\n",
    "[2](https://arxiv.org/abs/1805.11604.pdf) Santurkar, S., Tsipras, D., Ilyas, A., & Madry, A. (2018). How does batch normalization help optimization?. arXiv preprint arXiv:1805.11604."
   ]
  }
 ]
}